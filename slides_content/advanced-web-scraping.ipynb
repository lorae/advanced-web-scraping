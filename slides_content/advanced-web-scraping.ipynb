{
 "cells": [
  {
   "cell_type": "markdown",
   "metadata": {
    "slideshow": {
     "slide_type": "notes"
    }
   },
   "source": [
    "To serve this slide deck, run the following line in the terminal or PowerShell:"
   ]
  },
  {
   "cell_type": "code",
   "execution_count": null,
   "metadata": {
    "slideshow": {
     "slide_type": "notes"
    },
    "vscode": {
     "languageId": "powershell"
    }
   },
   "outputs": [],
   "source": [
    "jupyter nbconvert 'slides/advanced-web-scraping.ipynb' --to slides --output='../advanced-web-scraping'"
   ]
  },
  {
   "cell_type": "markdown",
   "metadata": {
    "slideshow": {
     "slide_type": "slide"
    }
   },
   "source": [
    "# Web Scraping with Python\n",
    "\n",
    "<br>\n",
    "\n",
    "### Lorae Stojanovic\n",
    "\n",
    "June 20, 2024\n"
   ]
  },
  {
   "cell_type": "markdown",
   "metadata": {
    "slideshow": {
     "slide_type": "slide"
    },
    "vscode": {
     "languageId": "plaintext"
    }
   },
   "source": [
    "# Agenda\n",
    "1. [How does a website work?](#/2)\n",
    "    - [Key terminology](#/2/1)\n",
    "    - [Accessing a website](#/2/5)\n",
    "2. [Web scraping basics](#/3)\n",
    "    - [Types of web scraping](#/3/1)\n",
    "3. [Sample code: HTTP requests & HTML parsing](#/4)\n",
    "    - [HTTP requests with `requests`](#/4/2)\n",
    "    - [HTML parsing with `beautifulsoup4`](#/4/9)\n",
    "4. [Sample code: Selenium](#/5)\n",
    "5. [Sample code: APIs](#/6)\n",
    "    - [Viewing network requests](#/6/1)\n",
    "    - [Monitoring network requests](#/6/6)\n",
    "    - [Using `requests` to access APIs](#/6/10)"
   ]
  },
  {
   "cell_type": "markdown",
   "metadata": {
    "slideshow": {
     "slide_type": "subslide"
    }
   },
   "source": [
    "**By the end of this presentation, you will:**\n",
    "\n",
    "- Understand how your browser interacts with the internet\n",
    "- Be able to gather data from the internet using 3 methods:\n",
    "    - HTTP requests + HTML parsing\n",
    "    - Selenium + HTML parsing\n",
    "    - API requests\n",
    "- Understand the advantages and shortfalls of each method"
   ]
  },
  {
   "cell_type": "markdown",
   "metadata": {
    "slideshow": {
     "slide_type": "slide"
    }
   },
   "source": [
    "# How does a website work?\n",
    "\n",
    "A lot goes on behind the scenes when you view a website like https://www.brookings.edu/.\n",
    "\n",
    "Understanding how your computer interacts with remote resources will help you become a more capable data collector."
   ]
  },
  {
   "cell_type": "markdown",
   "metadata": {
    "slideshow": {
     "slide_type": "subslide"
    }
   },
   "source": [
    "## **Key terminology**\n",
    "### **Client**\n",
    "\"Clients are the typical **web user's internet-connected devices** (for example, your computer connected to your Wi-Fi, or your phone connected to your mobile network) and **web-accessing software available on those devices** (usually a web browser like Firefox or Chrome).\"<sup id=\"ref01\" class=\"reference\"><a href=\"https://developer.mozilla.org/en-US/docs/Learn/Getting_started_with_the_web/How_the_Web_works\" title=\"Mozilla (2023). How the web works. Retrieved from https://developer.mozilla.org/en-US/docs/Learn/Getting_started_with_the_web/How_the_Web_works\">[1]</a></sup> \n",
    "\n",
    "### **Server**\n",
    "\"Servers are **computers that store webpages, sites, or apps**. When a client device wants to access a webpage, a copy of the webpage is downloaded from the server onto the client machine to be displayed in the user's web browser.\"<sup id=\"ref02\" class=\"reference\"><a href=\"https://developer.mozilla.org/en-US/docs/Learn/Getting_started_with_the_web/How_the_Web_works\" title=\"Mozilla (2023). How the web works. Retrieved from https://developer.mozilla.org/en-US/docs/Learn/Getting_started_with_the_web/How_the_Web_works\">[2]</a></sup> "
   ]
  },
  {
   "cell_type": "markdown",
   "metadata": {},
   "source": [
    "</p>\n",
    "<p style=\"font-size:10px\">\n",
    "[1] Mozilla (2023). How the web works. Retrieved from https://developer.mozilla.org/en-US/docs/Learn/Getting_started_with_the_web/How_the_Web_works <br>\n",
    "[2] Ibid.\n",
    "</p>"
   ]
  },
  {
   "cell_type": "markdown",
   "metadata": {
    "slideshow": {
     "slide_type": "subslide"
    }
   },
   "source": [
    "Clients send **requests** for information from servers. The servers send back **responses**.\n",
    "![A schematic illustrating the relationship between clients and servers](slides/client-server-request-response.png)"
   ]
  },
  {
   "cell_type": "code",
   "execution_count": null,
   "metadata": {
    "vscode": {
     "languageId": "powershell"
    }
   },
   "outputs": [],
   "source": []
  },
  {
   "cell_type": "markdown",
   "metadata": {
    "slideshow": {
     "slide_type": "subslide"
    }
   },
   "source": [
    "### **HTTP web requests**\n",
    "\n",
    "There are many types of internet *protocols* that you can use to make requests,<sup id=\"ref03\" class=\"reference\"><a href=\"https://www.geeksforgeeks.org/types-of-internet-protocols/\" title=\"GeeksforGeeks (2023). Types of Internet Protocols. Retrieved from https://www.geeksforgeeks.org/types-of-internet-protocols/\">[3]</a></sup> but when we web scrape, we will concern ourselves primarily with **HTTP (Hypertext Transfer Protocol)**. There are 9 types:<sup id=\"ref04\" class=\"reference\"><a href=\"https://developer.mozilla.org/en-US/docs/Web/HTTP/Methods\" title=\"Mozilla (2023). HTTP request methods. Retrieved from https://developer.mozilla.org/en-US/docs/Web/HTTP/Methods\">[4]</a></sup> "
   ]
  },
  {
   "cell_type": "markdown",
   "metadata": {
    "slideshow": {
     "slide_type": "fragment"
    }
   },
   "source": [
    "- GET\n",
    "- HEAD\n",
    "- POST\n",
    "- PUT\n",
    "- DELETE\n",
    "- CONNECT\n",
    "- OPTIONS\n",
    "- TRACE\n",
    "- PATCH\n"
   ]
  },
  {
   "cell_type": "markdown",
   "metadata": {
    "slideshow": {
     "slide_type": "fragment"
    }
   },
   "source": [
    "</p>\n",
    "<p style=\"font-size:10px\">\n",
    "[3] GeeksforGeeks (2023). Types of Internet Protocols. Retrieved from https://www.geeksforgeeks.org/types-of-internet-protocols/\" <br>\n",
    "[4] Mozilla (2023). HTTP request methods. Retrieved from https://developer.mozilla.org/en-US/docs/Web/HTTP/Methods\" <br>\n",
    "</p>"
   ]
  },
  {
   "cell_type": "markdown",
   "metadata": {
    "slideshow": {
     "slide_type": "subslide"
    }
   },
   "source": [
    "Luckily for us web scrapers, we do not need to memorize all nine types. Ninety nine percent of the time, we will only concern ourselves with **GET** and **POST** requests.\n",
    "\n",
    "- \"The **GET** method requests a representation of the specified resource. Requests using GET should only retrieve data.\"<sup id=\"ref05\" class=\"reference\"><a href=\"https://developer.mozilla.org/en-US/docs/Web/HTTP/Methods\" title=\"Mozilla (2023). HTTP request methods. Retrieved from https://developer.mozilla.org/en-US/docs/Web/HTTP/Methods\">[5]</a></sup> \n",
    "- \"The **POST** method submits an entity to the specified resource, often causing a change in state or side effects on the server.\"<sup id=\"ref06\" class=\"reference\"><a href=\"https://developer.mozilla.org/en-US/docs/Web/HTTP/Methods\" title=\"Mozilla (2023). HTTP request methods. Retrieved from https://developer.mozilla.org/en-US/docs/Web/HTTP/Methods\">[6]</a></sup> \n",
    "\n",
    "Don't worry if you're confused. It's easy to tell which type you need to use. And today, we'll do a demo using both.\n",
    "\n",
    "</p>\n",
    "<p style=\"font-size:10px\">\n",
    "[5] Mozilla (2023). HTTP request methods. Retrieved from https://developer.mozilla.org/en-US/docs/Web/HTTP/Methods\" <br>\n",
    "[6] Ibid. <br>\n",
    "</p>\n"
   ]
  },
  {
   "cell_type": "markdown",
   "metadata": {
    "slideshow": {
     "slide_type": "subslide"
    }
   },
   "source": [
    "## **Accessing a website**\n",
    "\n",
    "When you enter a URL (e.g., www.brookings.edu) into your browser, several things happen:"
   ]
  },
  {
   "cell_type": "markdown",
   "metadata": {
    "slideshow": {
     "slide_type": "fragment"
    }
   },
   "source": [
    "1. DNS lookup\n",
    "2. Initial HTTP request\n",
    "3. Server response\n",
    "4. Parsing HTML + additional requests\n",
    "5. Assembling the page"
   ]
  },
  {
   "cell_type": "markdown",
   "metadata": {
    "slideshow": {
     "slide_type": "subslide"
    }
   },
   "source": [
    "### **Step 1: DNS Lookup**\n",
    "Your browser first translates the human-readable URL (e.g. http://brookings.edu/) into an IP address (e.g. 137.135.107.235) using a Domain Name System (DNS) lookup.<sup id=\"ref07\" class=\"footnote\"><a href=\"\" title=\"Fun fact: we talked about internet protocols in the previous section, but only described HTTP, which is most relevant to this application. DNS is another type of internet protocol.\">[7]</a></sup> \n",
    "\n",
    "Think of the DNS search like the phone book that links a name of a store to a street address. The street address, in this case, is an IP address which points to the server where the website is hosted. <sup id=\"ref08\" class=\"reference\"><a href=\"https://developer.mozilla.org/en-US/docs/Learn/Getting_started_with_the_web/How_the_Web_works\" title=\"Mozilla (2023). How the web works. Retrieved from https://developer.mozilla.org/en-US/docs/Learn/Getting_started_with_the_web/How_the_Web_works\">[8]</a></sup> <sup id=\"ref09\" class=\"reference\"><a href=\"https://www.cloudflare.com/learning/dns/what-is-dns/\" title=\"Cloudflare. What is DNS? Retrieved from https://www.cloudflare.com/learning/dns/what-is-dns/\">[9]</a></sup> \n",
    "</p>\n",
    "<p style=\"font-size:10px\">\n",
    "[7] Fun fact: we talked about internet protocols in the previous section, but only described HTTP, which is most relevant to this application. DNS is another type of internet protocol.\n",
    "[8] Mozilla (2023). How the web works. Retrieved from https://developer.mozilla.org/en-US/docs/Learn/Getting_started_with_the_web/How_the_Web_works\n",
    "<br>\n",
    "[9] Cloudflare. What is DNS? Retrieved from https://www.cloudflare.com/learning/dns/what-is-dns/<br>\n",
    "</p>"
   ]
  },
  {
   "cell_type": "markdown",
   "metadata": {
    "slideshow": {
     "slide_type": "subslide"
    }
   },
   "source": [
    "### **Step 2: HTTP Request**\n",
    "Now that your browser has the IP address of website, it sends an HTTP request to the server at this IP address. This request asks for the main HTML file of the website."
   ]
  },
  {
   "cell_type": "markdown",
   "metadata": {
    "slideshow": {
     "slide_type": "fragment"
    },
    "vscode": {
     "languageId": "powershell"
    }
   },
   "source": [
    "```bash\n",
    "curl -X GET 'https://www.brookings.edu/' \\\n",
    "  -H 'accept: text/html,application/xhtml+xml,application/xml;...' \\\n",
    "  -H 'accept-language: en-US,en;q=0.9' \\\n",
    "  -H 'cookie: _fbp=REDACTED; hubspotutk=REDACTED; ...' \\\n",
    "  -H 'priority: u=0, i' \\\n",
    "  -H 'referer: https://www.google.com/' \\\n",
    "  -H 'sec-ch-ua: \"Google Chrome\";v=\"REDACTED\", \"Chromium\";v=\"REDACTED\", \"Not.A/Brand\";v=\"REDACTED\"' \\\n",
    "  -H 'sec-ch-ua-mobile: ?0' \\\n",
    "  -H 'sec-ch-ua-platform: \"Windows\"' \\\n",
    "  -H 'sec-fetch-dest: document' \\\n",
    "  -H 'sec-fetch-mode: navigate' \\\n",
    "  -H 'sec-fetch-site: cross-site' \\\n",
    "  -H 'sec-fetch-user: ?1' \\\n",
    "  -H 'upgrade-insecure-requests: 1' \\\n",
    "  -H 'user-agent: Mozilla/5.0 (Windows NT 10.0; Win64; x64) AppleWebKit/537.36 (KHTML, like Gecko) Chrome/125.0.0.0 Safari/537.36'\n",
    "```"
   ]
  },
  {
   "cell_type": "markdown",
   "metadata": {
    "slideshow": {
     "slide_type": "fragment"
    }
   },
   "source": [
    "Can you identify what type of request this is?"
   ]
  },
  {
   "cell_type": "markdown",
   "metadata": {
    "slideshow": {
     "slide_type": "subslide"
    }
   },
   "source": [
    "### **Step 3: Server Response**\n",
    "The server processes this request and sends back the requested HTML file. This file contains the basic structure of the webpage."
   ]
  },
  {
   "cell_type": "code",
   "execution_count": null,
   "metadata": {
    "slideshow": {
     "slide_type": "fragment"
    },
    "vscode": {
     "languageId": "html"
    }
   },
   "outputs": [],
   "source": [
    "\n",
    "<!DOCTYPE html>\n",
    "<html lang=\"en-US\">\n",
    "\n",
    "<head>\n",
    "\t<meta charset=\"UTF-8\">\n",
    "\t<meta name=\"viewport\" content=\"width=device-width, initial-scale=1.0, viewport-fit=cover\">\n",
    "\t<meta name='robots' content='index, follow, max-image-preview:large, max-snippet:-1, max-video-preview:-1' />\n",
    "<link rel=\"alternate\" href=\"https://www.brookings.edu/\" hreflang=\"en\" />\n",
    "<link rel=\"alternate\" href=\"https://www.brookings.edu/es/\" hreflang=\"es\" />\n",
    "<link rel=\"alternate\" href=\"https://www.brookings.edu/ar/\" hreflang=\"ar\" />\n",
    "<link rel=\"alternate\" href=\"https://www.brookings.edu/zh/\" hreflang=\"zh\" />\n",
    "<link rel=\"alternate\" href=\"https://www.brookings.edu/fr/\" hreflang=\"fr\" />\n",
    "<link rel=\"alternate\" href=\"https://www.brookings.edu/ko/\" hreflang=\"ko\" />\n",
    "<link rel=\"alternate\" href=\"https://www.brookings.edu/ru/\" hreflang=\"ru\" />\n",
    "\n",
    "\t<!-- This site is optimized with the Yoast SEO plugin v22.0 - https://yoast.com/wordpress/plugins/seo/ -->\n",
    "\t<title>Brookings - Quality. Independence. Impact.</title>\n",
    "\t<meta name=\"description\" content=\"The Brookings Institution is a nonprofit public policy organization based in Washington, DC. Our mission is to conduct in-depth research that leads to new ideas for solving problems facing society at the local, national and global level.\" />\n",
    "\t<link rel=\"canonical\" href=\"https://www.brookings.edu/\" />\n",
    "\t<meta property=\"og:locale\" content=\"en_US\" />"
   ]
  },
  {
   "cell_type": "markdown",
   "metadata": {
    "slideshow": {
     "slide_type": "subslide"
    }
   },
   "source": [
    "### **Step 4: Parsing HTML + additional requests**\n",
    "Your browser starts **parsing** the HTML file: reading its instructions to turn it into a user-friendly webpage. \n",
    "\n",
    "Oftentimes, this code contains references to additional external resources it needs to display the webpage, such as:"
   ]
  },
  {
   "cell_type": "markdown",
   "metadata": {
    "slideshow": {
     "slide_type": "fragment"
    }
   },
   "source": [
    "- **CSS (Cascading Style Sheets)**: To set default aesthetics like fonts, colors, and line spacing\n",
    "- **JavaScript code**: To add interactivity and dynamic content\n",
    "- **Images and videos**: To incorporate multimedia content\n",
    "- **API (Application Programming Interface) responses**: To obtain data from servers, often in JSON format, to display on the webpage"
   ]
  },
  {
   "cell_type": "markdown",
   "metadata": {
    "slideshow": {
     "slide_type": "fragment"
    }
   },
   "source": [
    "As your browser encounters **additional references to files** in the HTML code, it **makes HTTP requests** to the server to retrieve them."
   ]
  },
  {
   "cell_type": "markdown",
   "metadata": {
    "slideshow": {
     "slide_type": "subslide"
    }
   },
   "source": [
    "### **Step 5: Assembling the page**\n",
    "\n",
    "After downloading all the external resources needed to build the webpage, your browser will compile and execute any JavaScript code that it received.\n",
    "\n",
    "With all the downloaded elements in place, the browser processes the HTML, the CSS style sheets, and combines it with other resources (such as downloaded fonts, photos, videos, and data downloaded from APIs) to **paint** the webpage to your screen.<sup id=\"ref10\" class=\"reference\"><a href=\"https://developer.mozilla.org/en-US/docs/Web/Performance/How_browsers_work\" title=\"Mozilla (2023). Populating the page: how browsers work. Retrieved from https://developer.mozilla.org/en-US/docs/Web/Performance/How_browsers_work\">[10]</a></sup> \n",
    "</p>\n",
    "<p style=\"font-size:10px\">\n",
    "[10] Mozilla (2023). Populating the page: how browsers work. Retrieved from https://developer.mozilla.org/en-US/docs/Web/Performance/How_browsers_work\" <br>\n",
    "</p>"
   ]
  },
  {
   "cell_type": "markdown",
   "metadata": {
    "slideshow": {
     "slide_type": "fragment"
    }
   },
   "source": [
    "![An image of the brookings.edu homepage](slides/brookings-edu-screenshot.png)"
   ]
  },
  {
   "cell_type": "markdown",
   "metadata": {
    "slideshow": {
     "slide_type": "slide"
    }
   },
   "source": [
    "# Web scraping basics\n",
    "\n",
    "There are several ways to collect data online. The strategy you choose must be catered to the website in question."
   ]
  },
  {
   "cell_type": "markdown",
   "metadata": {
    "slideshow": {
     "slide_type": "subslide"
    }
   },
   "source": [
    "## **Types of web scraping**\n",
    "\n",
    "I like to categorize web data collection techniques by the point in the client-server interaction that they interact."
   ]
  },
  {
   "cell_type": "markdown",
   "metadata": {
    "slideshow": {
     "slide_type": "fragment"
    }
   },
   "source": [
    "1. **DNS lookup**"
   ]
  },
  {
   "cell_type": "markdown",
   "metadata": {
    "slideshow": {
     "slide_type": "fragment"
    }
   },
   "source": [
    "2. **Initial HTTP request**"
   ]
  },
  {
   "cell_type": "markdown",
   "metadata": {
    "slideshow": {
     "slide_type": "fragment"
    }
   },
   "source": [
    "3. **Server response**\n",
    "   - **HTML scraping** parses the main HTML file for the webpage to extract data."
   ]
  },
  {
   "cell_type": "markdown",
   "metadata": {
    "slideshow": {
     "slide_type": "fragment"
    }
   },
   "source": [
    "4. **Parsing HTML + additional requests**\n",
    "   - Technically not classified as \"web scraping,\" **APIs** are a neat way to access data. They are usually requested at this point in the client-server interaction."
   ]
  },
  {
   "cell_type": "markdown",
   "metadata": {
    "slideshow": {
     "slide_type": "fragment"
    }
   },
   "source": [
    "5. **Assembling the page**\n",
    "   - **Selenium** behaves like a browser to view content that is otherwise not available in HTML files, because it is dynamically rendered using JavaScript code."
   ]
  },
  {
   "cell_type": "markdown",
   "metadata": {
    "slideshow": {
     "slide_type": "slide"
    }
   },
   "source": [
    "# Sample code: Web requests & HTML parsing\n",
    "\n",
    "Knowing how to make HTTP requests using the Python `requests` library and parsing HTML responses are two foundational skills in our web scraping toolkit that will help us tackle more complicated tasks later."
   ]
  },
  {
   "cell_type": "markdown",
   "metadata": {
    "slideshow": {
     "slide_type": "subslide"
    },
    "vscode": {
     "languageId": "html"
    }
   },
   "source": [
    "## Live demo\n",
    "\n",
    "Follow along with the [code](https://raw.githubusercontent.com/lorae/web-scraping-tutorial/main/sample_code/requests_bs4_scraping.py)\n",
    "\n",
    "File path: `web-scraping-tutorial/sample_code/requests_bs4_scraping.py`"
   ]
  },
  {
   "cell_type": "markdown",
   "metadata": {
    "slideshow": {
     "slide_type": "subslide"
    }
   },
   "source": [
    "\n",
    "## HTTP requests with `requests`\n",
    "\n",
    "If you don't already have these packages installed, start by installing them.<sup id=\"ref11\" class=\"footnote\"><a href=\"https://python-poetry.org/\" title=\"It's a best practice to use environments to control package dependencies. This project uses Poetry: https://python-poetry.org/\">[11]</a></sup> \n",
    "\n",
    "To install the packages, type the following prompt into your terminal:"
   ]
  },
  {
   "cell_type": "markdown",
   "metadata": {
    "slideshow": {
     "slide_type": "notes"
    }
   },
   "source": [
    "NOTE: If you're following along with this Jupyter notebook in your IDE (such as VSCode or JupyterLab), please skip the following terminal command. Instead, type `poetry shell` into the terminal."
   ]
  },
  {
   "cell_type": "code",
   "execution_count": null,
   "metadata": {
    "slideshow": {
     "slide_type": "fragment"
    },
    "vscode": {
     "languageId": "powershell"
    }
   },
   "outputs": [],
   "source": [
    "pip install requests beautifulsoup4"
   ]
  },
  {
   "cell_type": "markdown",
   "metadata": {
    "slideshow": {
     "slide_type": "fragment"
    }
   },
   "source": [
    "Now that we've confirmed installation, we import the needed libraries."
   ]
  },
  {
   "cell_type": "code",
   "execution_count": 7,
   "metadata": {},
   "outputs": [],
   "source": [
    "import requests\n",
    "from bs4 import BeautifulSoup"
   ]
  },
  {
   "cell_type": "markdown",
   "metadata": {},
   "source": [
    "</p>\n",
    "<p style=\"font-size:10px\">\n",
    "[11] It's a best practice to use environments to control package dependencies. This project uses Poetry: https://python-poetry.org/ <br>\n",
    "</p>"
   ]
  },
  {
   "cell_type": "markdown",
   "metadata": {
    "slideshow": {
     "slide_type": "subslide"
    }
   },
   "source": [
    "Time to get scraping. Recall the earlier GET request we saw? It had a lot of information in it, in the form of **headers**."
   ]
  },
  {
   "cell_type": "markdown",
   "metadata": {
    "slideshow": {
     "slide_type": "fragment"
    }
   },
   "source": [
    "```bash\n",
    "curl -X GET 'https://www.brookings.edu/' \\\n",
    "  -H 'accept: text/html,application/xhtml+xml,application/xml;...' \\\n",
    "  -H 'accept-language: en-US,en;q=0.9' \\\n",
    "  -H 'cookie: _fbp=REDACTED; hubspotutk=REDACTED; ...' \\\n",
    "  -H 'priority: u=0, i' \\\n",
    "  -H 'referer: https://www.google.com/' \\\n",
    "  -H 'sec-ch-ua: \"Google Chrome\";v=\"REDACTED\", \"Chromium\";v=\"REDACTED\", \"Not.A/Brand\";v=\"REDACTED\"' \\\n",
    "  -H 'sec-ch-ua-mobile: ?0' \\\n",
    "  -H 'sec-ch-ua-platform: \"Windows\"' \\\n",
    "  -H 'sec-fetch-dest: document' \\\n",
    "  -H 'sec-fetch-mode: navigate' \\\n",
    "  -H 'sec-fetch-site: cross-site' \\\n",
    "  -H 'sec-fetch-user: ?1' \\\n",
    "  -H 'upgrade-insecure-requests: 1' \\\n",
    "  -H 'user-agent: Mozilla/5.0 (Windows NT 10.0; Win64; x64) AppleWebKit/537.36 (KHTML, like Gecko) Chrome/125.0.0.0 Safari/537.36'\n",
    "```"
   ]
  },
  {
   "cell_type": "markdown",
   "metadata": {
    "slideshow": {
     "slide_type": "fragment"
    }
   },
   "source": [
    "As you can see, headers contain quite a bit of information. Unless otherwise required, I try to keep my headers on the lighter side."
   ]
  },
  {
   "cell_type": "markdown",
   "metadata": {
    "slideshow": {
     "slide_type": "subslide"
    }
   },
   "source": [
    "These are the headers I usually provide in my HTTP requests. Sometimes, I get blocked - in which case, I change the user-agent string slightly.\n",
    "\n",
    "Note that headers must be formatted as a dictionary."
   ]
  },
  {
   "cell_type": "code",
   "execution_count": 8,
   "metadata": {
    "slideshow": {
     "slide_type": "fragment"
    }
   },
   "outputs": [],
   "source": [
    "my_headers = {\n",
    "    'User-Agent': (\n",
    "        'Mozilla/5.0 (Windows NT 10.0; Win64; x64) '\n",
    "        'AppleWebKit/537.36 (KHTML, like Gecko) '\n",
    "        'Chrome/122.0.6261.112 Safari/537.36'\n",
    "    ),\n",
    "    'Accept': (\n",
    "        'text/html,application/xhtml+xml,application/xml;q=0.9,'\n",
    "        'image/avif,image/webp,image/apng,*/*;q=0.8,'\n",
    "        'application/signed-exchange;v=b3;q=0.7'\n",
    "    )\n",
    "}"
   ]
  },
  {
   "cell_type": "markdown",
   "metadata": {
    "slideshow": {
     "slide_type": "subslide"
    }
   },
   "source": [
    "Today, we'll be scraping a website that I created to practice on! Our URL is:\n",
    "https://lorae.github.io/web-scraping-tutorial/"
   ]
  },
  {
   "cell_type": "code",
   "execution_count": 29,
   "metadata": {
    "slideshow": {
     "slide_type": "fragment"
    }
   },
   "outputs": [],
   "source": [
    "my_url = \"https://lorae.github.io/web-scraping-tutorial/\""
   ]
  },
  {
   "cell_type": "markdown",
   "metadata": {
    "slideshow": {
     "slide_type": "fragment"
    }
   },
   "source": [
    "![A screenshot of the web scraping tutorial website.](slides/website-screenshot.png)\n"
   ]
  },
  {
   "cell_type": "markdown",
   "metadata": {
    "slideshow": {
     "slide_type": "subslide"
    }
   },
   "source": [
    "We're interested specifically in scraping the titles and authors of the books that appear on the table in the webpage. \n",
    "\n",
    "In order to do this, we have to first get the HTML file for the website."
   ]
  },
  {
   "cell_type": "markdown",
   "metadata": {
    "slideshow": {
     "slide_type": "subslide"
    }
   },
   "source": [
    "In these next steps, we bundle our arguments together into an instance of the `Request` object from the `requests` library. We then initialize the session, prepare the request for sending, and save the response."
   ]
  },
  {
   "cell_type": "code",
   "execution_count": 30,
   "metadata": {
    "slideshow": {
     "slide_type": "fragment"
    }
   },
   "outputs": [],
   "source": [
    "session_arguments = requests.Request(method='GET', \n",
    "                                     url=my_url, \n",
    "                                     headers=my_headers)\n",
    "session = requests.Session()\n",
    "prepared_request = session.prepare_request(session_arguments)\n",
    "response: requests.Response = session.send(prepared_request)"
   ]
  },
  {
   "cell_type": "markdown",
   "metadata": {
    "slideshow": {
     "slide_type": "fragment"
    }
   },
   "source": [
    "Let's see what the response was. A response code of 200 indicates a successful response, with the server returning the required resource."
   ]
  },
  {
   "cell_type": "code",
   "execution_count": 31,
   "metadata": {
    "slideshow": {
     "slide_type": "fragment"
    }
   },
   "outputs": [
    {
     "name": "stdout",
     "output_type": "stream",
     "text": [
      "200\n"
     ]
    }
   ],
   "source": [
    "print(response.status_code)"
   ]
  },
  {
   "cell_type": "markdown",
   "metadata": {
    "slideshow": {
     "slide_type": "fragment"
    }
   },
   "source": [
    "Success!"
   ]
  },
  {
   "cell_type": "markdown",
   "metadata": {
    "slideshow": {
     "slide_type": "subslide"
    }
   },
   "source": [
    "More interestingly, let's look at the response content."
   ]
  },
  {
   "cell_type": "code",
   "execution_count": 32,
   "metadata": {
    "slideshow": {
     "slide_type": "fragment"
    }
   },
   "outputs": [
    {
     "name": "stdout",
     "output_type": "stream",
     "text": [
      "<!DOCTYPE html>\n",
      "<html lang=\"en\">\n",
      "<head>\n",
      "    <meta charset=\"UTF-8\">\n",
      "    <meta name=\"viewport\" content=\"width=device-width, initial-scale=1.0\">\n",
      "    <title>Web Scraping Resources</title>\n",
      "    <link rel=\"stylesheet\" href=\"css/styles.css\">\n",
      "    <link href=\"https://fonts.googleapis.com/css2?family=Roboto:wght@400;700&display=swap\" rel=\"stylesheet\">\n",
      "    <script src=\"https://cdn.jsdelivr.net/npm/chart.js\"></script>\n",
      "    <script src=\"https://cdnjs.cloudflare.com/ajax/libs/PapaParse/5.3.0/papaparse.min.js\"></script>\n",
      "</head>\n",
      "<body>\n",
      "    <h1>Scrape this website!</h1>\n",
      "    <p>Welcome! On this website, you'll find a variety of opportunities to practice your skills web scraping with Python. If you'd like to learn more about how to use this page, please visit my repository, \n",
      "        <a href=\"https://github.com/lorae/web-scraping-tutorial\" target=\"_blank\">lorae/web-scraping-tutorial</a>\n",
      "        .\n",
      "    </p>\n",
      "    <h2>Reading list</h2>\n",
      "    <table>\n",
      "        <tr class=\"header-row\">\n",
      "            <th class=\"header-cell\">Title</th>\n",
      "            <th class=\"header-cell\">Author</th>\n",
      "            <th class=\"header-cell\">Genre</th>\n",
      "            <th class=\"header-cell\">Copies Sold</th>\n",
      "            <th class=\"header-cell\">Publication Year</th>\n",
      "        </tr>\n",
      "        <tr class=\"data-row\">\n",
      "            <td class=\"data-cell title\">The Adventures of Tom Sawyer</td>\n",
      "            <td class=\"data-cell author\">Mark Twain</td>\n",
      "            <td class=\"data-cell genre\">Adventure</td>\n",
      "            <td class=\"data-cell copies-sold\">2,000,000</td>\n",
      "            <td class=\"data-cell publication-year\">1876</td>\n",
      "        </tr>\n",
      "        <tr class=\"data-row\">\n",
      "            <td class=\"data-cell title\">Pride and Prejudice</td>\n",
      "            <td class=\"data-cell author\">Jane Austen</td>\n",
      "            <td class=\"data-cell genre\">Romance</td>\n",
      "            <td class=\"data-cell copies-sold\">20,000,000</td>\n",
      "            <td class=\"data-cell publication-year\">1813</td>\n",
      "        </tr>\n",
      "        <tr class=\"data-row\">\n",
      "            <td class=\"data-cell title\">1984</td>\n",
      "            <td class=\"data-cell author\">George Orwell</td>\n",
      "            <td class=\"data-cell genre\">Dystopian</td>\n",
      "            <td class=\"data-cell copies-sold\">25,000,000</td>\n",
      "            <td class=\"data-cell publication-year\">1949</td>\n",
      "        </tr>\n",
      "        <tr class=\"data-row\">\n",
      "            <td class=\"data-cell title\">The Great Gatsby</td>\n",
      "            <td class=\"data-cell author\">F. Scott Fitzgerald</td>\n",
      "            <td class=\"data-cell genre\">Tragedy</td>\n",
      "            <td class=\"data-cell copies-sold\">15,000,000</td>\n",
      "            <td class=\"data-cell publication-year\">1925</td>\n",
      "        </tr>\n",
      "        <tr class=\"data-row\">\n",
      "            <td class=\"data-cell title\">To Kill a Mockingbird</td>\n",
      "            <td class=\"data-cell author\">Harper Lee</td>\n",
      "            <td class=\"data-cell genre\">Southern Gothic</td>\n",
      "            <td class=\"data-cell copies-sold\">40,000,000</td>\n",
      "            <td class=\"data-cell publication-year\">1960</td>\n",
      "        </tr>\n",
      "        <tr class=\"data-row\">\n",
      "            <td class=\"data-cell title\">Moby-Dick</td>\n",
      "            <td class=\"data-cell author\">Herman Melville</td>\n",
      "            <td class=\"data-cell genre\">Adventure</td>\n",
      "            <td class=\"data-cell copies-sold\">3,000,000</td>\n",
      "            <td class=\"data-cell publication-year\">1851</td>\n",
      "        </tr>\n",
      "        <tr class=\"data-row\">\n",
      "            <td class=\"data-cell title\">War and Peace</td>\n",
      "            <td class=\"data-cell author\">Leo Tolstoy</td>\n",
      "            <td class=\"data-cell genre\">Historical</td>\n",
      "            <td class=\"data-cell copies-sold\">36,000,000</td>\n",
      "            <td class=\"data-cell publication-year\">1869</td>\n",
      "        </tr>\n",
      "        <tr class=\"data-row\">\n",
      "            <td class=\"data-cell title\">Crime and Punishment</td>\n",
      "            <td class=\"data-cell author\">Fyodor Dostoevsky</td>\n",
      "            <td class=\"data-cell genre\">Psychological</td>\n",
      "            <td class=\"data-cell copies-sold\">12,000,000</td>\n",
      "            <td class=\"data-cell publication-year\">1866</td>\n",
      "        </tr>\n",
      "        <tr class=\"data-row\">\n",
      "            <td class=\"data-cell title\">The Catcher in the Rye</td>\n",
      "            <td class=\"data-cell author\">J.D. Salinger</td>\n",
      "            <td class=\"data-cell genre\">Realistic Fiction</td>\n",
      "            <td class=\"data-cell copies-sold\">65,000,000</td>\n",
      "            <td class=\"data-cell publication-year\">1951</td>\n",
      "        </tr>\n",
      "        <tr class=\"data-row\">\n",
      "            <td class=\"data-cell title\">Harry Potter and the Sorcerer's Stone</td>\n",
      "            <td class=\"data-cell author\">J.K. Rowling</td>\n",
      "            <td class=\"data-cell genre\">Fantasy</td>\n",
      "            <td class=\"data-cell copies-sold\">120,000,000</td>\n",
      "            <td class=\"data-cell publication-year\">1997</td>\n",
      "        </tr>\n",
      "        <tr class=\"data-row\">\n",
      "            <td class=\"data-cell title\">The Hobbit</td>\n",
      "            <td class=\"data-cell author\">J.R.R. Tolkien</td>\n",
      "            <td class=\"data-cell genre\">Fantasy</td>\n",
      "            <td class=\"data-cell copies-sold\">100,000,000</td>\n",
      "            <td class=\"data-cell publication-year\">1937</td>\n",
      "        </tr>\n",
      "        <tr class=\"data-row\">\n",
      "            <td class=\"data-cell title\">The Lord of the Rings</td>\n",
      "            <td class=\"data-cell author\">J.R.R. Tolkien</td>\n",
      "            <td class=\"data-cell genre\">Fantasy</td>\n",
      "            <td class=\"data-cell copies-sold\">150,000,000</td>\n",
      "            <td class=\"data-cell publication-year\">1954</td>\n",
      "        </tr>\n",
      "        <tr class=\"data-row\">\n",
      "            <td class=\"data-cell title\">The Chronicles of Narnia</td>\n",
      "            <td class=\"data-cell author\">C.S. Lewis</td>\n",
      "            <td class=\"data-cell genre\">Fantasy</td>\n",
      "            <td class=\"data-cell copies-sold\">85,000,000</td>\n",
      "            <td class=\"data-cell publication-year\">1950</td>\n",
      "        </tr>\n",
      "        <tr class=\"data-row\">\n",
      "            <td class=\"data-cell title\">Anne of Green Gables</td>\n",
      "            <td class=\"data-cell author\">Lucy Maud Montgomery</td>\n",
      "            <td class=\"data-cell genre\">Children's Literature</td>\n",
      "            <td class=\"data-cell copies-sold\">50,000,000</td>\n",
      "            <td class=\"data-cell publication-year\">1908</td>\n",
      "        </tr>\n",
      "    </table>\n",
      "    <h2>Learning resources</h2>\n",
      "    <div class=\"promo-grid__promos\" id=\"resources-container\">\n",
      "        <!-- Data will be populated here -->\n",
      "    </div>\n",
      "    <script>\n",
      "        let resourcesData = [];\n",
      "        \n",
      "        async function fetchResources() {\n",
      "            const response = await fetch('data/web-scraping-resources.json');\n",
      "            resourcesData = await response.json();\n",
      "            displayResources(resourcesData);\n",
      "        }\n",
      "\n",
      "        function displayResources(data) {\n",
      "            const container = document.getElementById('resources-container');\n",
      "            container.innerHTML = '';\n",
      "            data.forEach(resource => {\n",
      "                const card = document.createElement('div');\n",
      "                card.className = 'digest-card';\n",
      "\n",
      "                const topSection = document.createElement('div');\n",
      "                topSection.className = 'digest-card__top';\n",
      "\n",
      "                const image = document.createElement('img');\n",
      "                image.className = 'digest-card__image';\n",
      "                image.src = resource.image;\n",
      "                image.alt = `${resource.title} image`;\n",
      "                topSection.appendChild(image);\n",
      "\n",
      "                const textContainer = document.createElement('div');\n",
      "                textContainer.className = 'digest-card__text';\n",
      "\n",
      "                const title = document.createElement('div');\n",
      "                title.className = 'digest-card__title';\n",
      "                title.innerHTML = `<a href=\"${resource.link}\">${resource.title}</a>`;\n",
      "                textContainer.appendChild(title);\n",
      "\n",
      "                const date = document.createElement('div');\n",
      "                date.className = 'digest-card__date';\n",
      "                date.innerHTML = `<span class=\"digest-card__label\">${resource.date}</span>`;\n",
      "                textContainer.appendChild(date);\n",
      "\n",
      "                const authors = document.createElement('div');\n",
      "                authors.className = 'digest-card__items';\n",
      "                authors.innerHTML = `<span class=\"digest-card__label\">Author(s) - </span>${resource.authors.map(author => `<span><a href=\"${author.link}\">${author.name}</a></span>`).join(', ')}`;\n",
      "                textContainer.appendChild(authors);\n",
      "\n",
      "                topSection.appendChild(textContainer);\n",
      "                card.appendChild(topSection);\n",
      "\n",
      "                const description = document.createElement('div');\n",
      "                description.className = 'digest-card__summary';\n",
      "                description.textContent = resource.description;\n",
      "                card.appendChild(description);\n",
      "\n",
      "                const keywords = document.createElement('div');\n",
      "                keywords.className = 'digest-card__keywords';\n",
      "                keywords.innerHTML = `<span class=\"digest-card__label\">Keywords: </span>${resource.keywords.join(', ')}`;\n",
      "                card.appendChild(keywords);\n",
      "\n",
      "                container.appendChild(card);\n",
      "            });\n",
      "        }\n",
      "\n",
      "        fetchResources();\n",
      "\n",
      "        // Function to fetch and display GDP data\n",
      "        async function fetchGDPData() {\n",
      "            const response = await fetch('data/gdp-data.csv');\n",
      "            const data = await response.text();\n",
      "            const parsedData = Papa.parse(data, { header: true }).data;\n",
      "\n",
      "            const labels = parsedData.map(row => row.Date);\n",
      "            const gdpValues = parsedData.map(row => parseFloat(row.GDP));\n",
      "\n",
      "            const ctx = document.getElementById('gdpChart').getContext('2d');\n",
      "            new Chart(ctx, {\n",
      "                type: 'line',\n",
      "                data: {\n",
      "                    labels: labels,\n",
      "                    datasets: [{\n",
      "                        label: 'US GDP',\n",
      "                        data: gdpValues,\n",
      "                        borderColor: 'rgba(75, 192, 192, 1)',\n",
      "                        backgroundColor: 'rgba(75, 192, 192, 0.2)',\n",
      "                        borderWidth: 1\n",
      "                    }]\n",
      "                },\n",
      "                options: {\n",
      "                    responsive: true,\n",
      "                    scales: {\n",
      "                        x: {\n",
      "                            display: true,\n",
      "                            title: {\n",
      "                                display: true,\n",
      "                                text: 'Year'\n",
      "                            }\n",
      "                        },\n",
      "                        y: {\n",
      "                            display: true,\n",
      "                            title: {\n",
      "                                display: true,\n",
      "                                text: 'GDP (in billions)'\n",
      "                            }\n",
      "                        }\n",
      "                    },\n",
      "                    plugins: {\n",
      "                        tooltip: {\n",
      "                            enabled: true,\n",
      "                            mode: 'nearest',\n",
      "                            intersect: false,\n",
      "                            callbacks: {\n",
      "                                label: function(context) {\n",
      "                                    let label = context.dataset.label || '';\n",
      "                                    if (label) {\n",
      "                                        label += ': ';\n",
      "                                    }\n",
      "                                    if (context.parsed.y !== null) {\n",
      "                                        label += new Intl.NumberFormat('en-US', { style: 'currency', currency: 'USD' }).format(context.parsed.y);\n",
      "                                    }\n",
      "                                    return label;\n",
      "                                }\n",
      "                            }\n",
      "                        }\n",
      "                    }\n",
      "                }\n",
      "            });\n",
      "        }\n",
      "\n",
      "        fetchGDPData();\n",
      "    </script>\n",
      "    <h2>Interactive Graph</h2>\n",
      "    <p>The following graph contains United States nominal Gross Domestic Product data from Q1 1947 to Q1 2024. Data is courtesy of the Federal Reserve Bank of St. Louis \"FRED\" service. </p>\n",
      "    <div class=\"container\">\n",
      "        <canvas id=\"gdpChart\" width=\"400\" height=\"200\"></canvas>\n",
      "        <div class=\"promo-grid__promos\" id=\"resources-container\">\n",
      "            <!-- Data will be populated here -->\n",
      "        </div>\n",
      "    </div>\n",
      "</body>\n",
      "</html>\n",
      "\n"
     ]
    }
   ],
   "source": [
    "print(response.text)"
   ]
  },
  {
   "cell_type": "markdown",
   "metadata": {
    "slideshow": {
     "slide_type": "subslide"
    }
   },
   "source": [
    "## HTML parsing with `beautifulsoup4`\n",
    "\n",
    "The response from the website may look like a mess, but don't worry. **There's a package that makes picking data from the HTML code easy: It's called `beautifulsoup4`.** We'll use it in conjunction with a helpful browser tool called \"**Inspect element**\".\n",
    "\n",
    "(And, later in this presentation, we'll use \"**View page source**\" and \"**Network requests**\": Two other old favorites.) "
   ]
  },
  {
   "cell_type": "markdown",
   "metadata": {
    "slideshow": {
     "slide_type": "fragment"
    }
   },
   "source": [
    "**Simply right click anywhere on the website with your browser open, and select the \"Inspect element\" option.**"
   ]
  },
  {
   "cell_type": "markdown",
   "metadata": {
    "slideshow": {
     "slide_type": "subslide"
    }
   },
   "source": [
    "\n",
    "![Inspect element screenshot](slides/inspect-element-static-screenshot.png)"
   ]
  },
  {
   "cell_type": "markdown",
   "metadata": {
    "slideshow": {
     "slide_type": "subslide"
    }
   },
   "source": [
    "The data we want is contained in a `<tr>` element with class `data-row`. And after further inspection, we find that the title is in a `<td>` child element with classes `data-cell` and `title`. The author is a sibling `<td>` element with classes `data-cell` and `author`.\n",
    "\n",
    "![Inspect sub-element screenshot](slides/inspect-sub-element-static-screenshot.png)"
   ]
  },
  {
   "cell_type": "markdown",
   "metadata": {
    "slideshow": {
     "slide_type": "subslide"
    }
   },
   "source": [
    "Let's parse the HTML of the response from the web server."
   ]
  },
  {
   "cell_type": "code",
   "execution_count": 32,
   "metadata": {},
   "outputs": [
    {
     "name": "stdout",
     "output_type": "stream",
     "text": [
      "<!DOCTYPE html>\n",
      "\n",
      "<html lang=\"en\">\n",
      "<head>\n",
      "<meta charset=\"utf-8\"/>\n",
      "<meta content=\"width=device-width, initial-scale=1.0\" name=\"viewport\"/>\n",
      "<title>Web Scraping Resources</title>\n",
      "<link href=\"css/styles.css\" rel=\"stylesheet\"/>\n",
      "<link href=\"https://fonts.googleapis.com/css2?family=Roboto:wght@400;700&amp;display=swap\" rel=\"stylesheet\"/>\n",
      "<script src=\"https://cdn.jsdelivr.net/npm/chart.js\"></script>\n",
      "<script src=\"https://cdnjs.cloudflare.com/ajax/libs/PapaParse/5.3.0/papaparse.min.js\"></script>\n",
      "</head>\n",
      "<body>\n",
      "<h1>Scrape this website!</h1>\n",
      "<p>Welcome! On this website, you'll find a variety of opportunities to practice your skills web scraping with Python. If you'd like to learn more about how to use this page, please visit my repository, \n",
      "        <a href=\"https://github.com/lorae/web-scraping-tutorial\" target=\"_blank\">lorae/web-scraping-tutorial</a>\n",
      "        .\n",
      "    </p>\n",
      "<h2>Reading list</h2>\n",
      "<table>\n",
      "<tr class=\"header-row\">\n",
      "<th class=\"header-cell\">Title</th>\n",
      "<th class=\"header-cell\">Author</th>\n",
      "<th class=\"header-cell\">Genre</th>\n",
      "<th class=\"header-cell\">Copies Sold</th>\n",
      "<th class=\"header-cell\">Publication Year</th>\n",
      "</tr>\n",
      "<tr class=\"data-row\">\n",
      "<td class=\"data-cell title\">The Adventures of Tom Sawyer</td>\n",
      "<td class=\"data-cell author\">Mark Twain</td>\n",
      "<td class=\"data-cell genre\">Adventure</td>\n",
      "<td class=\"data-cell copies-sold\">2,000,000</td>\n",
      "<td class=\"data-cell publication-year\">1876</td>\n",
      "</tr>\n",
      "<tr class=\"data-row\">\n",
      "<td class=\"data-cell title\">Pride and Prejudice</td>\n",
      "<td class=\"data-cell author\">Jane Austen</td>\n",
      "<td class=\"data-cell genre\">Romance</td>\n",
      "<td class=\"data-cell copies-sold\">20,000,000</td>\n",
      "<td class=\"data-cell publication-year\">1813</td>\n",
      "</tr>\n",
      "<tr class=\"data-row\">\n",
      "<td class=\"data-cell title\">1984</td>\n",
      "<td class=\"data-cell author\">George Orwell</td>\n",
      "<td class=\"data-cell genre\">Dystopian</td>\n",
      "<td class=\"data-cell copies-sold\">25,000,000</td>\n",
      "<td class=\"data-cell publication-year\">1949</td>\n",
      "</tr>\n",
      "<tr class=\"data-row\">\n",
      "<td class=\"data-cell title\">The Great Gatsby</td>\n",
      "<td class=\"data-cell author\">F. Scott Fitzgerald</td>\n",
      "<td class=\"data-cell genre\">Tragedy</td>\n",
      "<td class=\"data-cell copies-sold\">15,000,000</td>\n",
      "<td class=\"data-cell publication-year\">1925</td>\n",
      "</tr>\n",
      "<tr class=\"data-row\">\n",
      "<td class=\"data-cell title\">To Kill a Mockingbird</td>\n",
      "<td class=\"data-cell author\">Harper Lee</td>\n",
      "<td class=\"data-cell genre\">Southern Gothic</td>\n",
      "<td class=\"data-cell copies-sold\">40,000,000</td>\n",
      "<td class=\"data-cell publication-year\">1960</td>\n",
      "</tr>\n",
      "<tr class=\"data-row\">\n",
      "<td class=\"data-cell title\">Moby-Dick</td>\n",
      "<td class=\"data-cell author\">Herman Melville</td>\n",
      "<td class=\"data-cell genre\">Adventure</td>\n",
      "<td class=\"data-cell copies-sold\">3,000,000</td>\n",
      "<td class=\"data-cell publication-year\">1851</td>\n",
      "</tr>\n",
      "<tr class=\"data-row\">\n",
      "<td class=\"data-cell title\">War and Peace</td>\n",
      "<td class=\"data-cell author\">Leo Tolstoy</td>\n",
      "<td class=\"data-cell genre\">Historical</td>\n",
      "<td class=\"data-cell copies-sold\">36,000,000</td>\n",
      "<td class=\"data-cell publication-year\">1869</td>\n",
      "</tr>\n",
      "<tr class=\"data-row\">\n",
      "<td class=\"data-cell title\">Crime and Punishment</td>\n",
      "<td class=\"data-cell author\">Fyodor Dostoevsky</td>\n",
      "<td class=\"data-cell genre\">Psychological</td>\n",
      "<td class=\"data-cell copies-sold\">12,000,000</td>\n",
      "<td class=\"data-cell publication-year\">1866</td>\n",
      "</tr>\n",
      "<tr class=\"data-row\">\n",
      "<td class=\"data-cell title\">The Catcher in the Rye</td>\n",
      "<td class=\"data-cell author\">J.D. Salinger</td>\n",
      "<td class=\"data-cell genre\">Realistic Fiction</td>\n",
      "<td class=\"data-cell copies-sold\">65,000,000</td>\n",
      "<td class=\"data-cell publication-year\">1951</td>\n",
      "</tr>\n",
      "<tr class=\"data-row\">\n",
      "<td class=\"data-cell title\">Harry Potter and the Sorcerer's Stone</td>\n",
      "<td class=\"data-cell author\">J.K. Rowling</td>\n",
      "<td class=\"data-cell genre\">Fantasy</td>\n",
      "<td class=\"data-cell copies-sold\">120,000,000</td>\n",
      "<td class=\"data-cell publication-year\">1997</td>\n",
      "</tr>\n",
      "<tr class=\"data-row\">\n",
      "<td class=\"data-cell title\">The Hobbit</td>\n",
      "<td class=\"data-cell author\">J.R.R. Tolkien</td>\n",
      "<td class=\"data-cell genre\">Fantasy</td>\n",
      "<td class=\"data-cell copies-sold\">100,000,000</td>\n",
      "<td class=\"data-cell publication-year\">1937</td>\n",
      "</tr>\n",
      "<tr class=\"data-row\">\n",
      "<td class=\"data-cell title\">The Lord of the Rings</td>\n",
      "<td class=\"data-cell author\">J.R.R. Tolkien</td>\n",
      "<td class=\"data-cell genre\">Fantasy</td>\n",
      "<td class=\"data-cell copies-sold\">150,000,000</td>\n",
      "<td class=\"data-cell publication-year\">1954</td>\n",
      "</tr>\n",
      "<tr class=\"data-row\">\n",
      "<td class=\"data-cell title\">The Chronicles of Narnia</td>\n",
      "<td class=\"data-cell author\">C.S. Lewis</td>\n",
      "<td class=\"data-cell genre\">Fantasy</td>\n",
      "<td class=\"data-cell copies-sold\">85,000,000</td>\n",
      "<td class=\"data-cell publication-year\">1950</td>\n",
      "</tr>\n",
      "<tr class=\"data-row\">\n",
      "<td class=\"data-cell title\">Anne of Green Gables</td>\n",
      "<td class=\"data-cell author\">Lucy Maud Montgomery</td>\n",
      "<td class=\"data-cell genre\">Children's Literature</td>\n",
      "<td class=\"data-cell copies-sold\">50,000,000</td>\n",
      "<td class=\"data-cell publication-year\">1908</td>\n",
      "</tr>\n",
      "</table>\n",
      "<h2>Learning resources</h2>\n",
      "<div class=\"promo-grid__promos\" id=\"resources-container\">\n",
      "<!-- Data will be populated here -->\n",
      "</div>\n",
      "<script>\n",
      "        let resourcesData = [];\n",
      "        \n",
      "        async function fetchResources() {\n",
      "            const response = await fetch('data/web-scraping-resources.json');\n",
      "            resourcesData = await response.json();\n",
      "            displayResources(resourcesData);\n",
      "        }\n",
      "\n",
      "        function displayResources(data) {\n",
      "            const container = document.getElementById('resources-container');\n",
      "            container.innerHTML = '';\n",
      "            data.forEach(resource => {\n",
      "                const card = document.createElement('div');\n",
      "                card.className = 'digest-card';\n",
      "\n",
      "                const topSection = document.createElement('div');\n",
      "                topSection.className = 'digest-card__top';\n",
      "\n",
      "                const image = document.createElement('img');\n",
      "                image.className = 'digest-card__image';\n",
      "                image.src = resource.image;\n",
      "                image.alt = `${resource.title} image`;\n",
      "                topSection.appendChild(image);\n",
      "\n",
      "                const textContainer = document.createElement('div');\n",
      "                textContainer.className = 'digest-card__text';\n",
      "\n",
      "                const title = document.createElement('div');\n",
      "                title.className = 'digest-card__title';\n",
      "                title.innerHTML = `<a href=\"${resource.link}\">${resource.title}</a>`;\n",
      "                textContainer.appendChild(title);\n",
      "\n",
      "                const date = document.createElement('div');\n",
      "                date.className = 'digest-card__date';\n",
      "                date.innerHTML = `<span class=\"digest-card__label\">${resource.date}</span>`;\n",
      "                textContainer.appendChild(date);\n",
      "\n",
      "                const authors = document.createElement('div');\n",
      "                authors.className = 'digest-card__items';\n",
      "                authors.innerHTML = `<span class=\"digest-card__label\">Author(s) - </span>${resource.authors.map(author => `<span><a href=\"${author.link}\">${author.name}</a></span>`).join(', ')}`;\n",
      "                textContainer.appendChild(authors);\n",
      "\n",
      "                topSection.appendChild(textContainer);\n",
      "                card.appendChild(topSection);\n",
      "\n",
      "                const description = document.createElement('div');\n",
      "                description.className = 'digest-card__summary';\n",
      "                description.textContent = resource.description;\n",
      "                card.appendChild(description);\n",
      "\n",
      "                const keywords = document.createElement('div');\n",
      "                keywords.className = 'digest-card__keywords';\n",
      "                keywords.innerHTML = `<span class=\"digest-card__label\">Keywords: </span>${resource.keywords.join(', ')}`;\n",
      "                card.appendChild(keywords);\n",
      "\n",
      "                container.appendChild(card);\n",
      "            });\n",
      "        }\n",
      "\n",
      "        fetchResources();\n",
      "\n",
      "        // Function to fetch and display GDP data\n",
      "        async function fetchGDPData() {\n",
      "            const response = await fetch('data/gdp-data.csv');\n",
      "            const data = await response.text();\n",
      "            const parsedData = Papa.parse(data, { header: true }).data;\n",
      "\n",
      "            const labels = parsedData.map(row => row.Date);\n",
      "            const gdpValues = parsedData.map(row => parseFloat(row.GDP));\n",
      "\n",
      "            const ctx = document.getElementById('gdpChart').getContext('2d');\n",
      "            new Chart(ctx, {\n",
      "                type: 'line',\n",
      "                data: {\n",
      "                    labels: labels,\n",
      "                    datasets: [{\n",
      "                        label: 'US GDP',\n",
      "                        data: gdpValues,\n",
      "                        borderColor: 'rgba(75, 192, 192, 1)',\n",
      "                        backgroundColor: 'rgba(75, 192, 192, 0.2)',\n",
      "                        borderWidth: 1\n",
      "                    }]\n",
      "                },\n",
      "                options: {\n",
      "                    responsive: true,\n",
      "                    scales: {\n",
      "                        x: {\n",
      "                            display: true,\n",
      "                            title: {\n",
      "                                display: true,\n",
      "                                text: 'Year'\n",
      "                            }\n",
      "                        },\n",
      "                        y: {\n",
      "                            display: true,\n",
      "                            title: {\n",
      "                                display: true,\n",
      "                                text: 'GDP (in billions)'\n",
      "                            }\n",
      "                        }\n",
      "                    },\n",
      "                    plugins: {\n",
      "                        tooltip: {\n",
      "                            enabled: true,\n",
      "                            mode: 'nearest',\n",
      "                            intersect: false,\n",
      "                            callbacks: {\n",
      "                                label: function(context) {\n",
      "                                    let label = context.dataset.label || '';\n",
      "                                    if (label) {\n",
      "                                        label += ': ';\n",
      "                                    }\n",
      "                                    if (context.parsed.y !== null) {\n",
      "                                        label += new Intl.NumberFormat('en-US', { style: 'currency', currency: 'USD' }).format(context.parsed.y);\n",
      "                                    }\n",
      "                                    return label;\n",
      "                                }\n",
      "                            }\n",
      "                        }\n",
      "                    }\n",
      "                }\n",
      "            });\n",
      "        }\n",
      "\n",
      "        fetchGDPData();\n",
      "    </script>\n",
      "<h2>Interactive Graph</h2>\n",
      "<p>The following graph contains United States nominal Gross Domestic Product data from Q1 1947 to Q1 2024. Data is courtesy of the Federal Reserve Bank of St. Louis \"FRED\" service. </p>\n",
      "<div class=\"container\">\n",
      "<canvas height=\"200\" id=\"gdpChart\" width=\"400\"></canvas>\n",
      "<div class=\"promo-grid__promos\" id=\"resources-container\">\n",
      "<!-- Data will be populated here -->\n",
      "</div>\n",
      "</div>\n",
      "</body>\n",
      "</html>\n",
      "\n"
     ]
    }
   ],
   "source": [
    "soup = BeautifulSoup(response.content, 'html.parser')\n",
    "print(soup)"
   ]
  },
  {
   "cell_type": "markdown",
   "metadata": {
    "slideshow": {
     "slide_type": "subslide"
    }
   },
   "source": [
    "Once it's a BeautifulSoup object, it's pretty easy to get the data you want. The key is selecting the right elements using the correct tags. \n",
    "\n",
    "We'll use `for` loops for this."
   ]
  },
  {
   "cell_type": "code",
   "execution_count": 54,
   "metadata": {
    "slideshow": {
     "slide_type": "subslide"
    }
   },
   "outputs": [
    {
     "name": "stdout",
     "output_type": "stream",
     "text": [
      "['The Adventures of Tom Sawyer', 'Pride and Prejudice', '1984', 'The Great Gatsby', 'To Kill a Mockingbird', 'Moby-Dick', 'War and Peace', 'Crime and Punishment', 'The Catcher in the Rye', \"Harry Potter and the Sorcerer's Stone\", 'The Hobbit', 'The Lord of the Rings', 'The Chronicles of Narnia', 'Anne of Green Gables']\n",
      "['Mark Twain', 'Jane Austen', 'George Orwell', 'F. Scott Fitzgerald', 'Harper Lee', 'Herman Melville', 'Leo Tolstoy', 'Fyodor Dostoevsky', 'J.D. Salinger', 'J.K. Rowling', 'J.R.R. Tolkien', 'J.R.R. Tolkien', 'C.S. Lewis', 'Lucy Maud Montgomery']\n"
     ]
    }
   ],
   "source": [
    "# Select elements corresponding to table rows\n",
    "elements = soup.select('tr.data-row')\n",
    "\n",
    "# Initialize lists for data output\n",
    "Titles = []\n",
    "Authors = []\n",
    "\n",
    "for el in elements:\n",
    "    title = el.find('td', class_='title').text\n",
    "    author = el.find('td', class_='author').text\n",
    "    \n",
    "    # Add data to lists\n",
    "    Titles.append(title)\n",
    "    Authors.append(author)\n",
    "\n",
    "print(Titles)\n",
    "print(Authors)"
   ]
  },
  {
   "cell_type": "markdown",
   "metadata": {
    "slideshow": {
     "slide_type": "subslide"
    }
   },
   "source": [
    "Wow, we're pros! Should we try another one? Let's get titles and links of learning resources listed on the website. First we **inspect element** to find the element and class:\n",
    "\n",
    "![Inspect element screenshot](slides/inspect-element-javascript-screenshot.png)"
   ]
  },
  {
   "cell_type": "markdown",
   "metadata": {
    "slideshow": {
     "slide_type": "subslide"
    }
   },
   "source": [
    "Data on web scraping learning resources are continained in a `<div>` element with class `digest-card`. The title of the resource is in a child `<div>` element with class `digest-card__title`: more specifically, the text is stored in an `<a>` element, with the hyperlink stored in the `href` attribute. \n",
    "\n",
    "![Inspect sub-element screenshot](slides/inspect-sub-element-javascript-screenshot.png)"
   ]
  },
  {
   "cell_type": "code",
   "execution_count": 55,
   "metadata": {
    "slideshow": {
     "slide_type": "subslide"
    }
   },
   "outputs": [
    {
     "name": "stdout",
     "output_type": "stream",
     "text": [
      "[]\n",
      "[]\n"
     ]
    }
   ],
   "source": [
    "# Scrape titles and links\n",
    "elements = soup.select('div.digest-card__title a')\n",
    "# Initialize lists\n",
    "Titles = []\n",
    "Links = []\n",
    "for el in elements:\n",
    "    print(el)\n",
    "    # Obtain the link to the resource\n",
    "    link =  el['href'] # 'href' is a HTML lingo for hyperlinks.\n",
    "    # Obtain the title of the resource\n",
    "    title = el.text\n",
    "\n",
    "    # Append the entries to each list\n",
    "    Titles.append(title)\n",
    "    Links.append(link)\n",
    "\n",
    "# Print the results\n",
    "print(Titles)\n",
    "print(Links)"
   ]
  },
  {
   "cell_type": "markdown",
   "metadata": {
    "slideshow": {
     "slide_type": "fragment"
    }
   },
   "source": [
    "Why didn't this work?"
   ]
  },
  {
   "cell_type": "markdown",
   "metadata": {
    "slideshow": {
     "slide_type": "subslide"
    }
   },
   "source": [
    "This part of the webpage is rendered using JavaScript! This is becoming an increasingly common occurence on today's web, which is why pure HTML scraping is becoming less and less feasible.\n",
    "\n",
    "How do you know JavaScript is the culprit?"
   ]
  },
  {
   "cell_type": "markdown",
   "metadata": {
    "slideshow": {
     "slide_type": "fragment"
    }
   },
   "source": [
    "- Your code has no syntax errors yet doesn't pick up elements from the HTML code\n",
    "- \"**View page source**\" shows no hard-coded elements\n",
    "- \"**Network requests**\" reveal the JavaScript files used to populate the page"
   ]
  },
  {
   "cell_type": "markdown",
   "metadata": {
    "slideshow": {
     "slide_type": "slide"
    }
   },
   "source": [
    "# Sample code: `selenium`\n",
    "\n",
    "`selenium` is a tool in Python (and many other programming languages) that allows users to **access dynamic web content by automating web browser interactions**.<sup id=\"ref11\" class=\"footnote\"><a href=\"https://www.selenium.dev/documentation/webdriver/getting_started/\" title=\"Selenium documentation can be found here: https://www.selenium.dev/documentation/webdriver/getting_started/\">[12]</a></sup> \n",
    "\n",
    "It simulates a real user browsing the web, which enables it to **capture JavaScript-rendered content and other dynamic elements** that one-off HTTP requests cannot access.\n",
    "\n",
    "</p>\n",
    "<p style=\"font-size:10px\">\n",
    "[12] Selenium documentation can be found here: https://www.selenium.dev/documentation/webdriver/getting_started/ <br>\n",
    "</p> "
   ]
  },
  {
   "cell_type": "markdown",
   "metadata": {
    "slideshow": {
     "slide_type": "subslide"
    }
   },
   "source": [
    "## Live demo\n",
    "\n",
    "Follow along with the [code](https://raw.githubusercontent.com/lorae/web-scraping-tutorial/main/sample_code/selenium_scraping.py)\n",
    "\n",
    "File path: `web-scraping-tutorial/sample_code/selenium_scraping.py`"
   ]
  },
  {
   "cell_type": "markdown",
   "metadata": {
    "slideshow": {
     "slide_type": "subslide"
    }
   },
   "source": [
    "## But first, a note...\n",
    "\n",
    "Selenium is just a tool to *get* an HTML file. Once you obtain the file, you parse it exactly the same way as we did in the previous section: using a tool of choice, like Beautiful Soup."
   ]
  },
  {
   "cell_type": "markdown",
   "metadata": {
    "slideshow": {
     "slide_type": "subslide"
    }
   },
   "source": [
    "Let's start by importing the needed modules."
   ]
  },
  {
   "cell_type": "code",
   "execution_count": 14,
   "metadata": {
    "slideshow": {
     "slide_type": "fragment"
    }
   },
   "outputs": [],
   "source": [
    "from selenium import webdriver\n",
    "from selenium.webdriver.chrome.service import Service\n",
    "from selenium.webdriver.common.by import By\n",
    "from selenium.webdriver.chrome.options import Options\n",
    "from webdriver_manager.chrome import ChromeDriverManager\n",
    "from bs4 import BeautifulSoup"
   ]
  },
  {
   "cell_type": "markdown",
   "metadata": {
    "slideshow": {
     "slide_type": "fragment"
    }
   },
   "source": [
    "`selenium` can run on many browsers, like Chrome and Firefox. For simplicity, we will use Chrome today.\n",
    "\n",
    "In order for the code to work, you must have Chrome installed on your computer."
   ]
  },
  {
   "cell_type": "code",
   "execution_count": 15,
   "metadata": {
    "slideshow": {
     "slide_type": "subslide"
    }
   },
   "outputs": [],
   "source": [
    "# Set up Chrome options\n",
    "chrome_options = Options()\n",
    "chrome_options.add_argument(\"--headless\")"
   ]
  },
  {
   "cell_type": "markdown",
   "metadata": {
    "slideshow": {
     "slide_type": "fragment"
    }
   },
   "source": [
    "If you don't turn on \"headless\" mode, your browser will pop up on your screen when you run the code."
   ]
  },
  {
   "cell_type": "code",
   "execution_count": 17,
   "metadata": {
    "slideshow": {
     "slide_type": "subslide"
    }
   },
   "outputs": [
    {
     "name": "stdout",
     "output_type": "stream",
     "text": [
      "<html lang=\"en\"><head>\n",
      "    <meta charset=\"UTF-8\">\n",
      "    <meta name=\"viewport\" content=\"width=device-width, initial-scale=1.0\">\n",
      "    <title>Web Scraping Resources</title>\n",
      "    <link rel=\"stylesheet\" href=\"css/styles.css\">\n",
      "    <link href=\"https://fonts.googleapis.com/css2?family=Roboto:wght@400;700&amp;display=swap\" rel=\"stylesheet\">\n",
      "    <script src=\"https://cdn.jsdelivr.net/npm/chart.js\"></script>\n",
      "    <script src=\"https://cdnjs.cloudflare.com/ajax/libs/PapaParse/5.3.0/papaparse.min.js\"></script>\n",
      "</head>\n",
      "<body>\n",
      "    <h1>Scrape this website!</h1>\n",
      "    <p>Welcome! On this website, you'll find a variety of opportunities to practice your skills web scraping with Python. If you'd like to learn more about how to use this page, please visit my repository, \n",
      "        <a href=\"https://github.com/lorae/web-scraping-tutorial\" target=\"_blank\">lorae/web-scraping-tutorial</a>\n",
      "        .\n",
      "    </p>\n",
      "    <h2>Reading list</h2>\n",
      "    <table>\n",
      "        <tbody><tr class=\"header-row\">\n",
      "            <th class=\"header-cell\">Title</th>\n",
      "            <th class=\"header-cell\">Author</th>\n",
      "            <th class=\"header-cell\">Genre</th>\n",
      "            <th class=\"header-cell\">Copies Sold</th>\n",
      "            <th class=\"header-cell\">Publication Year</th>\n",
      "        </tr>\n",
      "        <tr class=\"data-row\">\n",
      "            <td class=\"data-cell title\">The Adventures of Tom Sawyer</td>\n",
      "            <td class=\"data-cell author\">Mark Twain</td>\n",
      "            <td class=\"data-cell genre\">Adventure</td>\n",
      "            <td class=\"data-cell copies-sold\">2,000,000</td>\n",
      "            <td class=\"data-cell publication-year\">1876</td>\n",
      "        </tr>\n",
      "        <tr class=\"data-row\">\n",
      "            <td class=\"data-cell title\">Pride and Prejudice</td>\n",
      "            <td class=\"data-cell author\">Jane Austen</td>\n",
      "            <td class=\"data-cell genre\">Romance</td>\n",
      "            <td class=\"data-cell copies-sold\">20,000,000</td>\n",
      "            <td class=\"data-cell publication-year\">1813</td>\n",
      "        </tr>\n",
      "        <tr class=\"data-row\">\n",
      "            <td class=\"data-cell title\">1984</td>\n",
      "            <td class=\"data-cell author\">George Orwell</td>\n",
      "            <td class=\"data-cell genre\">Dystopian</td>\n",
      "            <td class=\"data-cell copies-sold\">25,000,000</td>\n",
      "            <td class=\"data-cell publication-year\">1949</td>\n",
      "        </tr>\n",
      "        <tr class=\"data-row\">\n",
      "            <td class=\"data-cell title\">The Great Gatsby</td>\n",
      "            <td class=\"data-cell author\">F. Scott Fitzgerald</td>\n",
      "            <td class=\"data-cell genre\">Tragedy</td>\n",
      "            <td class=\"data-cell copies-sold\">15,000,000</td>\n",
      "            <td class=\"data-cell publication-year\">1925</td>\n",
      "        </tr>\n",
      "        <tr class=\"data-row\">\n",
      "            <td class=\"data-cell title\">To Kill a Mockingbird</td>\n",
      "            <td class=\"data-cell author\">Harper Lee</td>\n",
      "            <td class=\"data-cell genre\">Southern Gothic</td>\n",
      "            <td class=\"data-cell copies-sold\">40,000,000</td>\n",
      "            <td class=\"data-cell publication-year\">1960</td>\n",
      "        </tr>\n",
      "        <tr class=\"data-row\">\n",
      "            <td class=\"data-cell title\">Moby-Dick</td>\n",
      "            <td class=\"data-cell author\">Herman Melville</td>\n",
      "            <td class=\"data-cell genre\">Adventure</td>\n",
      "            <td class=\"data-cell copies-sold\">3,000,000</td>\n",
      "            <td class=\"data-cell publication-year\">1851</td>\n",
      "        </tr>\n",
      "        <tr class=\"data-row\">\n",
      "            <td class=\"data-cell title\">War and Peace</td>\n",
      "            <td class=\"data-cell author\">Leo Tolstoy</td>\n",
      "            <td class=\"data-cell genre\">Historical</td>\n",
      "            <td class=\"data-cell copies-sold\">36,000,000</td>\n",
      "            <td class=\"data-cell publication-year\">1869</td>\n",
      "        </tr>\n",
      "        <tr class=\"data-row\">\n",
      "            <td class=\"data-cell title\">Crime and Punishment</td>\n",
      "            <td class=\"data-cell author\">Fyodor Dostoevsky</td>\n",
      "            <td class=\"data-cell genre\">Psychological</td>\n",
      "            <td class=\"data-cell copies-sold\">12,000,000</td>\n",
      "            <td class=\"data-cell publication-year\">1866</td>\n",
      "        </tr>\n",
      "        <tr class=\"data-row\">\n",
      "            <td class=\"data-cell title\">The Catcher in the Rye</td>\n",
      "            <td class=\"data-cell author\">J.D. Salinger</td>\n",
      "            <td class=\"data-cell genre\">Realistic Fiction</td>\n",
      "            <td class=\"data-cell copies-sold\">65,000,000</td>\n",
      "            <td class=\"data-cell publication-year\">1951</td>\n",
      "        </tr>\n",
      "        <tr class=\"data-row\">\n",
      "            <td class=\"data-cell title\">Harry Potter and the Sorcerer's Stone</td>\n",
      "            <td class=\"data-cell author\">J.K. Rowling</td>\n",
      "            <td class=\"data-cell genre\">Fantasy</td>\n",
      "            <td class=\"data-cell copies-sold\">120,000,000</td>\n",
      "            <td class=\"data-cell publication-year\">1997</td>\n",
      "        </tr>\n",
      "        <tr class=\"data-row\">\n",
      "            <td class=\"data-cell title\">The Hobbit</td>\n",
      "            <td class=\"data-cell author\">J.R.R. Tolkien</td>\n",
      "            <td class=\"data-cell genre\">Fantasy</td>\n",
      "            <td class=\"data-cell copies-sold\">100,000,000</td>\n",
      "            <td class=\"data-cell publication-year\">1937</td>\n",
      "        </tr>\n",
      "        <tr class=\"data-row\">\n",
      "            <td class=\"data-cell title\">The Lord of the Rings</td>\n",
      "            <td class=\"data-cell author\">J.R.R. Tolkien</td>\n",
      "            <td class=\"data-cell genre\">Fantasy</td>\n",
      "            <td class=\"data-cell copies-sold\">150,000,000</td>\n",
      "            <td class=\"data-cell publication-year\">1954</td>\n",
      "        </tr>\n",
      "        <tr class=\"data-row\">\n",
      "            <td class=\"data-cell title\">The Chronicles of Narnia</td>\n",
      "            <td class=\"data-cell author\">C.S. Lewis</td>\n",
      "            <td class=\"data-cell genre\">Fantasy</td>\n",
      "            <td class=\"data-cell copies-sold\">85,000,000</td>\n",
      "            <td class=\"data-cell publication-year\">1950</td>\n",
      "        </tr>\n",
      "        <tr class=\"data-row\">\n",
      "            <td class=\"data-cell title\">Anne of Green Gables</td>\n",
      "            <td class=\"data-cell author\">Lucy Maud Montgomery</td>\n",
      "            <td class=\"data-cell genre\">Children's Literature</td>\n",
      "            <td class=\"data-cell copies-sold\">50,000,000</td>\n",
      "            <td class=\"data-cell publication-year\">1908</td>\n",
      "        </tr>\n",
      "    </tbody></table>\n",
      "    <h2>Learning resources</h2>\n",
      "    <div class=\"promo-grid__promos\" id=\"resources-container\"><div class=\"digest-card\"><div class=\"digest-card__top\"><img class=\"digest-card__image\" src=\"images/upward-connected-scatter.jpg\" alt=\"Introduction to Data Science Using Python image\"><div class=\"digest-card__text\"><div class=\"digest-card__title\"><a href=\"https://github.com/DistrictDataLabs/Brookings_Python_DS\">Introduction to Data Science Using Python</a></div><div class=\"digest-card__date\"><span class=\"digest-card__label\">June 5, 2020</span></div><div class=\"digest-card__items\"><span class=\"digest-card__label\">Author(s) - </span><span><a href=\"#\">District Data Labs</a></span></div></div></div><div class=\"digest-card__summary\">A GitHub repository containing slides and code introducing an audience with no Python experience to data science tools in Python.</div><div class=\"digest-card__keywords\"><span class=\"digest-card__label\">Keywords: </span>Python, data science, data structures, loops, list comprehension, conditional evaluation, functions, Pandas, DataFrame, data visualization, plotly, hypothesis tests, regression analysis, machine learning</div></div><div class=\"digest-card\"><div class=\"digest-card__top\"><img class=\"digest-card__image\" src=\"\" alt=\"Webscraping in R (and a little Python and Excel too) image\"><div class=\"digest-card__text\"><div class=\"digest-card__title\"><a href=\"https://example.com/secret\">Webscraping in R (and a little Python and Excel too)</a></div><div class=\"digest-card__date\"><span class=\"digest-card__label\">February 22, 2023</span></div><div class=\"digest-card__items\"><span class=\"digest-card__label\">Author(s) - </span><span><a href=\"#\">Valerie Wirtschafter</a></span>, <span><a href=\"#\">Mimi Majumder</a></span></div></div></div><div class=\"digest-card__summary\">Another test description.</div><div class=\"digest-card__keywords\"><span class=\"digest-card__label\">Keywords: </span>test, keyword</div></div><div class=\"digest-card\"><div class=\"digest-card__top\"><img class=\"digest-card__image\" src=\"images/laptop-web.jpg\" alt=\"Populating the page: how browsers work image\"><div class=\"digest-card__text\"><div class=\"digest-card__title\"><a href=\"https://developer.mozilla.org/en-US/docs/Web/Performance/How_browsers_work\">Populating the page: how browsers work</a></div><div class=\"digest-card__date\"><span class=\"digest-card__label\">July 20, 2023</span></div><div class=\"digest-card__items\"><span class=\"digest-card__label\">Author(s) - </span><span><a href=\"https://developer.mozilla.org/en-US/docs/Web/Performance/How_browsers_work/contributors.txt\">MDN contributors</a></span></div></div></div><div class=\"digest-card__summary\">A concise blog post, aimed at developers, that explains how browsers provide their users with a web experience.</div><div class=\"digest-card__keywords\"><span class=\"digest-card__label\">Keywords: </span>DNS lookup, TCP handshake, TLS negotiation, HTTP GET request, response, parsing, DOM tree, CSSOM tree, JavaScript compilation, render, paint</div></div><div class=\"digest-card\"><div class=\"digest-card__top\"><img class=\"digest-card__image\" src=\"images/router.jpg\" alt=\"What is DNS? | How DNS works image\"><div class=\"digest-card__text\"><div class=\"digest-card__title\"><a href=\"https://www.cloudflare.com/learning/dns/what-is-dns/\">What is DNS? | How DNS works</a></div><div class=\"digest-card__date\"><span class=\"digest-card__label\"></span></div><div class=\"digest-card__items\"><span class=\"digest-card__label\">Author(s) - </span><span><a href=\"#\"></a></span></div></div></div><div class=\"digest-card__summary\">A blog post explaining the DNS resolution process. A useful starting point for laypeople interested in learning more about the process.</div><div class=\"digest-card__keywords\"><span class=\"digest-card__label\">Keywords: </span>DNS server, IP address, recursive DNS resolver, DNS lookup, DNS caching</div></div><div class=\"digest-card\"><div class=\"digest-card__top\"><img class=\"digest-card__image\" src=\"images/writing-website-with-image.jpg\" alt=\"How the web works image\"><div class=\"digest-card__text\"><div class=\"digest-card__title\"><a href=\"https://developer.mozilla.org/en-US/docs/Learn/Getting_started_with_the_web/How_the_Web_works\">How the web works</a></div><div class=\"digest-card__date\"><span class=\"digest-card__label\">November 17, 2023</span></div><div class=\"digest-card__items\"><span class=\"digest-card__label\">Author(s) - </span><span><a href=\"https://developer.mozilla.org/en-US/docs/Learn/Getting_started_with_the_web/How_the_Web_works/contributors.txt\">MDN contributors</a></span></div></div></div><div class=\"digest-card__summary\">A high-level blog post accessible to beginners, aimed at developers, that explains how a phone or computer browser displays a webpage. Part of a longer series of blog posts that may be helpful for those hoping to learn more about browsers in depth.</div><div class=\"digest-card__keywords\"><span class=\"digest-card__label\">Keywords: </span>clients, servers, requests, responses, TCP, IP address, DNS, HTTP, component files, code files, assets, packets</div></div><div class=\"digest-card\"><div class=\"digest-card__top\"><img class=\"digest-card__image\" src=\"images/computer.jpg\" alt=\"A Practical Introduction to Web Scraping in Python image\"><div class=\"digest-card__text\"><div class=\"digest-card__title\"><a href=\"https://realpython.com/python-web-scraping-practical-introduction/\">A Practical Introduction to Web Scraping in Python</a></div><div class=\"digest-card__date\"><span class=\"digest-card__label\"></span></div><div class=\"digest-card__items\"><span class=\"digest-card__label\">Author(s) - </span><span><a href=\"https://realpython.com/python-web-scraping-practical-introduction/#author\">David Amos</a></span></div></div></div><div class=\"digest-card__summary\">A tutorial aimed at beginners to web scraping with some prior knowledge of Python. Focuses mainly on building skills with HTML parsing using BeautifulSoup and interacting with the browser using MechanicalSoup. After this tutorial, users will likely be ready to learn to use Selenium.</div><div class=\"digest-card__keywords\"><span class=\"digest-card__label\">Keywords: </span>HTML, regex, regular expressions, BeautifulSoup, MechanicalSoup</div></div><div class=\"digest-card\"><div class=\"digest-card__top\"><img class=\"digest-card__image\" src=\"images/book.jpg\" alt=\"Automate the Boring Stuff: Web Scraping (Chapter 12) image\"><div class=\"digest-card__text\"><div class=\"digest-card__title\"><a href=\"https://automatetheboringstuff.com/2e/chapter12/\">Automate the Boring Stuff: Web Scraping (Chapter 12)</a></div><div class=\"digest-card__date\"><span class=\"digest-card__label\"></span></div><div class=\"digest-card__items\"><span class=\"digest-card__label\">Author(s) - </span><span><a href=\"https://realpython.com/python-web-scraping-practical-introduction/#author\">Al Sweigart</a></span></div></div></div><div class=\"digest-card__summary\">A free online textbook introducing users to concepts in Python. This chapter assumes basic proficiency in Python from reading previous chapters. Walks users through inspecting the HTML code underlying websites using developer tools on the web browser, parsing the content using BeautifulSoup, and rendering interactive pages using a Selenium webdriver.</div><div class=\"digest-card__keywords\"><span class=\"digest-card__label\">Keywords: </span>requests, GET requests, HTML, View page source, Inspect element, Developer tools, HTML elements, BeautifulSoup, select method, Selenium</div></div><div class=\"digest-card\"><div class=\"digest-card__top\"><img class=\"digest-card__image\" src=\"images/laptop-web.jpg\" alt=\"Getting Started (with Selenium) image\"><div class=\"digest-card__text\"><div class=\"digest-card__title\"><a href=\"https://www.selenium.dev/documentation/webdriver/getting_started/\">Getting Started (with Selenium)</a></div><div class=\"digest-card__date\"><span class=\"digest-card__label\">January 12, 2022</span></div><div class=\"digest-card__items\"><span class=\"digest-card__label\">Author(s) - </span><span><a href=\"#\"></a></span></div></div></div><div class=\"digest-card__summary\">Generalized documentation for Selenium, with options to select programming language (such as Python).</div><div class=\"digest-card__keywords\"><span class=\"digest-card__label\">Keywords: </span>webdrivers, browsers, waits, elements, interactions, sample code, Python</div></div><div class=\"digest-card\"><div class=\"digest-card__top\"><img class=\"digest-card__image\" src=\"images/building-blocks.jpg\" alt=\"Getting started with the web image\"><div class=\"digest-card__text\"><div class=\"digest-card__title\"><a href=\"https://developer.mozilla.org/en-US/docs/Learn/Getting_started_with_the_web\">Getting started with the web</a></div><div class=\"digest-card__date\"><span class=\"digest-card__label\">February 4, 2024</span></div><div class=\"digest-card__items\"><span class=\"digest-card__label\">Author(s) - </span><span><a href=\"https://developer.mozilla.org/en-US/docs/Learn/Getting_started_with_the_web/contributors.txt\">MDN contributors</a></span></div></div></div><div class=\"digest-card__summary\">A high-quality series of blog posts that guides skills levels ranging from absolute beginners to those with more intermediate understanding through the process of building a website. Comprised of short, accessible blog posts covering many topics, including how the web works, and introductions to HTML, CSS, and JavaScript. Aimed at developers, but serves as useful background for more general audiences and those interested in understanding the web better for web scraping.</div><div class=\"digest-card__keywords\"><span class=\"digest-card__label\">Keywords: </span>HTML, CSS, JavaScript, tools and testing</div></div><div class=\"digest-card\"><div class=\"digest-card__top\"><img class=\"digest-card__image\" src=\"images/single-page-file.jpg\" alt=\"roundup image\"><div class=\"digest-card__text\"><div class=\"digest-card__title\"><a href=\"https://developer.mozilla.org/en-US/docs/Learn/Getting_started_with_the_web\">roundup</a></div><div class=\"digest-card__date\"><span class=\"digest-card__label\">June 16, 2024</span></div><div class=\"digest-card__items\"><span class=\"digest-card__label\">Author(s) - </span><span><a href=\"#\">Lorae Stojanovic</a></span></div></div></div><div class=\"digest-card__summary\">Lorae's (the creater of this website) GitHub repository which scrapes pre-print academic economics papers from 20+ sources; presents titles, abstracts, authors and hyperlinks on an online dashboard. Auto-updates daily using GitHub Actions workflow. May be helpful sample code for those interested in web scraping in Python or automating their scraping using GitHub Actions.</div><div class=\"digest-card__keywords\"><span class=\"digest-card__label\">Keywords: </span>web scraping, Python, GitHub Actions, Streamlit</div></div></div>\n",
      "    <script>\n",
      "        let resourcesData = [];\n",
      "        \n",
      "        async function fetchResources() {\n",
      "            const response = await fetch('data/web-scraping-resources.json');\n",
      "            resourcesData = await response.json();\n",
      "            displayResources(resourcesData);\n",
      "        }\n",
      "\n",
      "        function displayResources(data) {\n",
      "            const container = document.getElementById('resources-container');\n",
      "            container.innerHTML = '';\n",
      "            data.forEach(resource => {\n",
      "                const card = document.createElement('div');\n",
      "                card.className = 'digest-card';\n",
      "\n",
      "                const topSection = document.createElement('div');\n",
      "                topSection.className = 'digest-card__top';\n",
      "\n",
      "                const image = document.createElement('img');\n",
      "                image.className = 'digest-card__image';\n",
      "                image.src = resource.image;\n",
      "                image.alt = `${resource.title} image`;\n",
      "                topSection.appendChild(image);\n",
      "\n",
      "                const textContainer = document.createElement('div');\n",
      "                textContainer.className = 'digest-card__text';\n",
      "\n",
      "                const title = document.createElement('div');\n",
      "                title.className = 'digest-card__title';\n",
      "                title.innerHTML = `<a href=\"${resource.link}\">${resource.title}</a>`;\n",
      "                textContainer.appendChild(title);\n",
      "\n",
      "                const date = document.createElement('div');\n",
      "                date.className = 'digest-card__date';\n",
      "                date.innerHTML = `<span class=\"digest-card__label\">${resource.date}</span>`;\n",
      "                textContainer.appendChild(date);\n",
      "\n",
      "                const authors = document.createElement('div');\n",
      "                authors.className = 'digest-card__items';\n",
      "                authors.innerHTML = `<span class=\"digest-card__label\">Author(s) - </span>${resource.authors.map(author => `<span><a href=\"${author.link}\">${author.name}</a></span>`).join(', ')}`;\n",
      "                textContainer.appendChild(authors);\n",
      "\n",
      "                topSection.appendChild(textContainer);\n",
      "                card.appendChild(topSection);\n",
      "\n",
      "                const description = document.createElement('div');\n",
      "                description.className = 'digest-card__summary';\n",
      "                description.textContent = resource.description;\n",
      "                card.appendChild(description);\n",
      "\n",
      "                const keywords = document.createElement('div');\n",
      "                keywords.className = 'digest-card__keywords';\n",
      "                keywords.innerHTML = `<span class=\"digest-card__label\">Keywords: </span>${resource.keywords.join(', ')}`;\n",
      "                card.appendChild(keywords);\n",
      "\n",
      "                container.appendChild(card);\n",
      "            });\n",
      "        }\n",
      "\n",
      "        fetchResources();\n",
      "\n",
      "        // Function to fetch and display GDP data\n",
      "        async function fetchGDPData() {\n",
      "            const response = await fetch('data/gdp-data.csv');\n",
      "            const data = await response.text();\n",
      "            const parsedData = Papa.parse(data, { header: true }).data;\n",
      "\n",
      "            const labels = parsedData.map(row => row.Date);\n",
      "            const gdpValues = parsedData.map(row => parseFloat(row.GDP));\n",
      "\n",
      "            const ctx = document.getElementById('gdpChart').getContext('2d');\n",
      "            new Chart(ctx, {\n",
      "                type: 'line',\n",
      "                data: {\n",
      "                    labels: labels,\n",
      "                    datasets: [{\n",
      "                        label: 'US GDP',\n",
      "                        data: gdpValues,\n",
      "                        borderColor: 'rgba(75, 192, 192, 1)',\n",
      "                        backgroundColor: 'rgba(75, 192, 192, 0.2)',\n",
      "                        borderWidth: 1\n",
      "                    }]\n",
      "                },\n",
      "                options: {\n",
      "                    responsive: true,\n",
      "                    scales: {\n",
      "                        x: {\n",
      "                            display: true,\n",
      "                            title: {\n",
      "                                display: true,\n",
      "                                text: 'Year'\n",
      "                            }\n",
      "                        },\n",
      "                        y: {\n",
      "                            display: true,\n",
      "                            title: {\n",
      "                                display: true,\n",
      "                                text: 'GDP (in billions)'\n",
      "                            }\n",
      "                        }\n",
      "                    },\n",
      "                    plugins: {\n",
      "                        tooltip: {\n",
      "                            enabled: true,\n",
      "                            mode: 'nearest',\n",
      "                            intersect: false,\n",
      "                            callbacks: {\n",
      "                                label: function(context) {\n",
      "                                    let label = context.dataset.label || '';\n",
      "                                    if (label) {\n",
      "                                        label += ': ';\n",
      "                                    }\n",
      "                                    if (context.parsed.y !== null) {\n",
      "                                        label += new Intl.NumberFormat('en-US', { style: 'currency', currency: 'USD' }).format(context.parsed.y);\n",
      "                                    }\n",
      "                                    return label;\n",
      "                                }\n",
      "                            }\n",
      "                        }\n",
      "                    }\n",
      "                }\n",
      "            });\n",
      "        }\n",
      "\n",
      "        fetchGDPData();\n",
      "    </script>\n",
      "    <h2>Interactive Graph</h2>\n",
      "    <p>The following graph contains United States nominal Gross Domestic Product data from Q1 1947 to Q1 2024. Data is courtesy of the Federal Reserve Bank of St. Louis \"FRED\" service. </p>\n",
      "    <div class=\"container\">\n",
      "        <canvas id=\"gdpChart\" width=\"694\" height=\"347\" style=\"display: block; box-sizing: border-box; height: 347px; width: 694px;\"></canvas>\n",
      "        <div class=\"promo-grid__promos\" id=\"resources-container\">\n",
      "            <!-- Data will be populated here -->\n",
      "        </div>\n",
      "    </div>\n",
      "\n",
      "\n",
      "</body></html>\n"
     ]
    }
   ],
   "source": [
    "# Set up Chrome driver\n",
    "service = Service(ChromeDriverManager().install())\n",
    "driver = webdriver.Chrome(service=service, options=chrome_options)\n",
    "\n",
    "# Open the website\n",
    "url = \"https://lorae.github.io/web-scraping-tutorial/\"\n",
    "driver.get(url)\n",
    "\n",
    "# Get the HTML content of the page\n",
    "html_content = driver.page_source\n",
    "print(html_content)"
   ]
  },
  {
   "cell_type": "markdown",
   "metadata": {
    "slideshow": {
     "slide_type": "subslide"
    }
   },
   "source": [
    "We did it! Now we have HTML content, just as before. But there's a crucial difference: our dynamic content is pre-loaded into the HTML code."
   ]
  },
  {
   "cell_type": "markdown",
   "metadata": {
    "slideshow": {
     "slide_type": "fragment"
    }
   },
   "source": [
    "Let's try re-running the code from the previous section to this new HTML output. Hopefully, we can access the dynamic elements of the webpage."
   ]
  },
  {
   "cell_type": "code",
   "execution_count": 19,
   "metadata": {
    "slideshow": {
     "slide_type": "fragment"
    }
   },
   "outputs": [],
   "source": [
    "# Use BeautifulSoup to parse the html_content\n",
    "soup = BeautifulSoup(html_content, 'html.parser')\n",
    "\n",
    "# Scrape titles and links\n",
    "elements = soup.select('div.digest-card__title a')\n",
    "# Initialize lists\n",
    "Titles = []\n",
    "Links = []\n",
    "for el in elements:\n",
    "    # Obtain the link to the resource\n",
    "    link =  el['href'] # 'href' is a HTML lingo for hyperlinks.\n",
    "    # Obtain the title of the resource\n",
    "    title = el.text\n",
    "\n",
    "    # Append the entries to each list\n",
    "    Titles.append(title)\n",
    "    Links.append(link)"
   ]
  },
  {
   "cell_type": "code",
   "execution_count": 20,
   "metadata": {
    "slideshow": {
     "slide_type": "subslide"
    }
   },
   "outputs": [
    {
     "name": "stdout",
     "output_type": "stream",
     "text": [
      "['Introduction to Data Science Using Python', 'Webscraping in R (and a little Python and Excel too)', 'Populating the page: how browsers work', 'What is DNS? | How DNS works', 'How the web works', 'A Practical Introduction to Web Scraping in Python', 'Automate the Boring Stuff: Web Scraping (Chapter 12)', 'Getting Started (with Selenium)', 'Getting started with the web', 'roundup']\n",
      "['https://github.com/DistrictDataLabs/Brookings_Python_DS', 'https://example.com/secret', 'https://developer.mozilla.org/en-US/docs/Web/Performance/How_browsers_work', 'https://www.cloudflare.com/learning/dns/what-is-dns/', 'https://developer.mozilla.org/en-US/docs/Learn/Getting_started_with_the_web/How_the_Web_works', 'https://realpython.com/python-web-scraping-practical-introduction/', 'https://automatetheboringstuff.com/2e/chapter12/', 'https://www.selenium.dev/documentation/webdriver/getting_started/', 'https://developer.mozilla.org/en-US/docs/Learn/Getting_started_with_the_web', 'https://developer.mozilla.org/en-US/docs/Learn/Getting_started_with_the_web']\n"
     ]
    }
   ],
   "source": [
    "\n",
    "# Print the results\n",
    "print(Titles)\n",
    "print(Links)"
   ]
  },
  {
   "cell_type": "markdown",
   "metadata": {
    "slideshow": {
     "slide_type": "subslide"
    }
   },
   "source": [
    "We did it!"
   ]
  },
  {
   "cell_type": "markdown",
   "metadata": {
    "slideshow": {
     "slide_type": "slide"
    }
   },
   "source": [
    "# Sample code: APIs\n",
    "\n",
    "APIs - when available - are **my favorite way to collect data** from the internet. They're also a bit of a *secret* method - there's not many tutorials on using hidden APIs for web scraping! \n",
    "\n",
    "You're already familiar with the main tool you'll need for this: the `requests` package."
   ]
  },
  {
   "cell_type": "markdown",
   "metadata": {
    "slideshow": {
     "slide_type": "subslide"
    }
   },
   "source": [
    "## Viewing network requests\n",
    "\n",
    "Remember the dyamically-rendered content we saw in the last section, and how we had to use `selenium` to access it? \n",
    "\n",
    "**Sometimes, there's a simpler way**: we can import the data directly, without opening a browser or dealing with any HTML at all.\n"
   ]
  },
  {
   "cell_type": "markdown",
   "metadata": {
    "slideshow": {
     "slide_type": "subslide"
    }
   },
   "source": [
    "**API access isn't always possible**. We'll have to inspect the HTTP requests that our browser sends to the server and the responses sent from the server to our browser to determine whether there's any information that we can intercept.\n",
    "\n",
    "The easiest way to view this activity is to access the **network requests pane**.\n"
   ]
  },
  {
   "cell_type": "markdown",
   "metadata": {
    "slideshow": {
     "slide_type": "fragment"
    }
   },
   "source": [
    "With your browser open on the webpage in question, "
   ]
  },
  {
   "cell_type": "markdown",
   "metadata": {
    "slideshow": {
     "slide_type": "fragment"
    }
   },
   "source": [
    "1. right click,\n",
    "2. select \"Inspect element\",\n",
    "3. then select the \"Network\" tab."
   ]
  },
  {
   "cell_type": "markdown",
   "metadata": {
    "slideshow": {
     "slide_type": "subslide"
    }
   },
   "source": [
    "![The network requests pane is open but empty.](slides/network-requests-before-loading.png)\n",
    "\n",
    "Here, the network requests pane is open but empty. Since the website already loaded, the requests are done."
   ]
  },
  {
   "cell_type": "markdown",
   "metadata": {
    "slideshow": {
     "slide_type": "subslide"
    }
   },
   "source": [
    "To view the requests as they happen, simply refresh the webpage with the network requests tab open.\n",
    "\n",
    "![The network requests pane is open and monitoring activity.](slides/network-requests-after-loading.png)"
   ]
  },
  {
   "cell_type": "markdown",
   "metadata": {
    "slideshow": {
     "slide_type": "subslide"
    }
   },
   "source": [
    "Recall the procedure that the browser uses to access data:"
   ]
  },
  {
   "cell_type": "markdown",
   "metadata": {
    "slideshow": {
     "slide_type": "fragment"
    }
   },
   "source": [
    "1. DNS lookup\n",
    "2. Initial HTTP request\n",
    "3. Server response\n",
    "4. Parsing HTML + additional requests\n",
    "5. Assembling the page"
   ]
  },
  {
   "cell_type": "markdown",
   "metadata": {
    "slideshow": {
     "slide_type": "fragment"
    }
   },
   "source": [
    "The first request we see is the **initial HTTP request** (**step 2**). The response from the server is the initial HTML file (**step 3**), which your browser begins to parse.\n",
    "\n",
    "![The initial HTTP request](slides/first-http-request-screenshot.png)"
   ]
  },
  {
   "cell_type": "markdown",
   "metadata": {
    "slideshow": {
     "slide_type": "fragment"
    }
   },
   "source": [
    "As your browser parses this HTML file, it encounters additional references that it needs, causing it to make more requests for external resources (**step 4**).\n",
    "\n",
    "![The remaining requests.](slides/more-http-requests-screenshot.png)"
   ]
  },
  {
   "cell_type": "markdown",
   "metadata": {
    "slideshow": {
     "slide_type": "subslide"
    }
   },
   "source": [
    "## Monitoring network requests\n",
    "\n",
    "Websites make many requests, and API requests are often subtle. It can be tricky to tell which - if any- exchange the information you seek, since their titles are often uninformative.\n",
    "\n",
    "**I typically start by sorting requests by `Type`**. API requests tend to be of type `xhr` or `fetch`, but this is not a hard and fast rule.\n",
    "\n",
    "You can also look at the **title of the request** and its **headers**. If the request contains the string \"api\" in it, that can be a good tell.\n"
   ]
  },
  {
   "cell_type": "markdown",
   "metadata": {
    "slideshow": {
     "slide_type": "fragment"
    }
   },
   "source": [
    "When in doubt, inspect the responses. Do they contain the data you seek?"
   ]
  },
  {
   "cell_type": "markdown",
   "metadata": {
    "slideshow": {
     "slide_type": "subslide"
    }
   },
   "source": [
    "For especially tough cases, poking around where you think APIs might be used on the frontend, such as **navigating forward on a menu, displaying more years on an interactive graph, or searching for things in the website's the search bar** can help."
   ]
  },
  {
   "cell_type": "markdown",
   "metadata": {
    "slideshow": {
     "slide_type": "fragment"
    }
   },
   "source": [
    "If those actions trigger an API request, the network requests pane will show new entries at the bottom."
   ]
  },
  {
   "cell_type": "markdown",
   "metadata": {
    "slideshow": {
     "slide_type": "subslide"
    }
   },
   "source": [
    "## Live demo: Find the API requests\n",
    "\n",
    "Link: https://lorae.github.io/web-scraping-tutorial/"
   ]
  },
  {
   "cell_type": "markdown",
   "metadata": {
    "slideshow": {
     "slide_type": "subslide"
    }
   },
   "source": [
    "This website uses 2 API requests, which each load a file:\n",
    "\n",
    "- web-scraping-resources.json\n",
    "- gdp-data.csv"
   ]
  },
  {
   "cell_type": "markdown",
   "metadata": {
    "slideshow": {
     "slide_type": "fragment"
    }
   },
   "source": [
    "Let's learn how to access these files using the `requests` package."
   ]
  },
  {
   "cell_type": "markdown",
   "metadata": {
    "slideshow": {
     "slide_type": "subslide"
    }
   },
   "source": [
    "## Using `requests` to access APIs\n",
    "\n",
    "**Fun fact**: If the request is a GET request, you can oftentimes request the API quickly and cheaply by copying and pasting the request URL into your browser's navigation bar.\n",
    "\n",
    "(In my experience, this works about 80% of the time.)\n",
    "\n",
    "Translating this process to Python code is very easy.\n"
   ]
  },
  {
   "cell_type": "markdown",
   "metadata": {
    "slideshow": {
     "slide_type": "subslide"
    }
   },
   "source": [
    "Let's start by importing the `requests` library and assigning some headers."
   ]
  },
  {
   "cell_type": "code",
   "execution_count": 45,
   "metadata": {},
   "outputs": [],
   "source": [
    "import requests\n",
    "\n",
    "my_headers = {\n",
    "    'User-Agent': (\n",
    "        'Mozilla/5.0 (Windows NT 10.0; Win64; x64) '\n",
    "        'AppleWebKit/537.36 (KHTML, like Gecko) '\n",
    "        'Chrome/122.0.6261.112 Safari/537.36'\n",
    "    ),\n",
    "    'Accept': (\n",
    "        'text/html,application/xhtml+xml,application/xml;q=0.9,'\n",
    "        'image/avif,image/webp,image/apng,*/*;q=0.8,'\n",
    "        'application/signed-exchange;v=b3;q=0.7'\n",
    "    )\n",
    "}"
   ]
  },
  {
   "cell_type": "markdown",
   "metadata": {
    "slideshow": {
     "slide_type": "subslide"
    }
   },
   "source": [
    "Next, we copy the request URL."
   ]
  },
  {
   "cell_type": "code",
   "execution_count": 46,
   "metadata": {
    "slideshow": {
     "slide_type": "fragment"
    }
   },
   "outputs": [],
   "source": [
    "my_request_url = \"https://lorae.github.io/web-scraping-tutorial/data/web-scraping-resources.json\""
   ]
  },
  {
   "cell_type": "markdown",
   "metadata": {
    "slideshow": {
     "slide_type": "fragment"
    }
   },
   "source": [
    "We then proceed exactly as we did earlier in this presentation:"
   ]
  },
  {
   "cell_type": "code",
   "execution_count": 47,
   "metadata": {},
   "outputs": [],
   "source": [
    "session_arguments = requests.Request(method='GET', \n",
    "                                     url=my_request_url, \n",
    "                                     headers=my_headers)\n",
    "session = requests.Session()\n",
    "prepared_request = session.prepare_request(session_arguments)\n",
    "response: requests.Response = session.send(prepared_request)"
   ]
  },
  {
   "cell_type": "markdown",
   "metadata": {
    "slideshow": {
     "slide_type": "subslide"
    }
   },
   "source": [
    "But this time, the response is not HTML code that we have to clean.  Instead, it's a file in a JSON format.<sup id=\"ref12\" class=\"footnote\"><a href=\"https://www.w3schools.com/whatis/whatis_json.asp\" title=\"JSON, or JavaScript Object Notation, is a file format commonly used for transferring data over the internet. If you web scrape, you will encounter it frequently. For more information, visit: https://www.w3schools.com/whatis/whatis_json.asp\">[12]</a></sup> \n"
   ]
  },
  {
   "cell_type": "markdown",
   "metadata": {},
   "source": [
    "Accessing the data is in this format is very strightforward. We simply retrieve it using the `json()` method of the response object.\n",
    "\n",
    "</p>\n",
    "<p style=\"font-size:10px\">\n",
    "[12] JSON, or JavaScript Object Notation, is a file format commonly used for transferring data over the internet. If you web scrape, you will encounter it frequently. For more information, visit: https://www.w3schools.com/whatis/whatis_json.asp <br>\n",
    "</p>"
   ]
  },
  {
   "cell_type": "code",
   "execution_count": 56,
   "metadata": {
    "slideshow": {
     "slide_type": "fragment"
    }
   },
   "outputs": [
    {
     "data": {
      "text/plain": [
       "[{'title': 'Introduction to Data Science Using Python',\n",
       "  'date': 'June 5, 2020',\n",
       "  'link': 'https://github.com/DistrictDataLabs/Brookings_Python_DS',\n",
       "  'authors': [{'name': 'District Data Labs', 'link': '#'}],\n",
       "  'description': 'A GitHub repository containing slides and code introducing an audience with no Python experience to data science tools in Python.',\n",
       "  'keywords': ['Python',\n",
       "   'data science',\n",
       "   'data structures',\n",
       "   'loops',\n",
       "   'list comprehension',\n",
       "   'conditional evaluation',\n",
       "   'functions',\n",
       "   'Pandas',\n",
       "   'DataFrame',\n",
       "   'data visualization',\n",
       "   'plotly',\n",
       "   'hypothesis tests',\n",
       "   'regression analysis',\n",
       "   'machine learning'],\n",
       "  'source': 'GitHub',\n",
       "  'image': 'images/upward-connected-scatter.jpg'},\n",
       " {'title': 'Webscraping in R (and a little Python and Excel too)',\n",
       "  'date': 'February 22, 2023',\n",
       "  'link': 'https://example.com/secret',\n",
       "  'authors': [{'name': 'Valerie Wirtschafter', 'link': '#'},\n",
       "   {'name': 'Mimi Majumder', 'link': '#'}],\n",
       "  'description': 'Another test description.',\n",
       "  'keywords': ['test', 'keyword'],\n",
       "  'source': 'Brookings Internal',\n",
       "  'image': ''},\n",
       " {'title': 'Populating the page: how browsers work',\n",
       "  'date': 'July 20, 2023',\n",
       "  'link': 'https://developer.mozilla.org/en-US/docs/Web/Performance/How_browsers_work',\n",
       "  'authors': [{'name': 'MDN contributors',\n",
       "    'link': 'https://developer.mozilla.org/en-US/docs/Web/Performance/How_browsers_work/contributors.txt'}],\n",
       "  'description': 'A concise blog post, aimed at developers, that explains how browsers provide their users with a web experience.',\n",
       "  'keywords': ['DNS lookup',\n",
       "   'TCP handshake',\n",
       "   'TLS negotiation',\n",
       "   'HTTP GET request',\n",
       "   'response',\n",
       "   'parsing',\n",
       "   'DOM tree',\n",
       "   'CSSOM tree',\n",
       "   'JavaScript compilation',\n",
       "   'render',\n",
       "   'paint'],\n",
       "  'source': 'Mozilla Developer Network',\n",
       "  'image': 'images/laptop-web.jpg'},\n",
       " {'title': 'What is DNS? | How DNS works',\n",
       "  'date': '',\n",
       "  'link': 'https://www.cloudflare.com/learning/dns/what-is-dns/',\n",
       "  'authors': [{'name': '', 'link': '#'}],\n",
       "  'description': 'A blog post explaining the DNS resolution process. A useful starting point for laypeople interested in learning more about the process.',\n",
       "  'keywords': ['DNS server',\n",
       "   'IP address',\n",
       "   'recursive DNS resolver',\n",
       "   'DNS lookup',\n",
       "   'DNS caching'],\n",
       "  'source': 'Cloudflare',\n",
       "  'image': 'images/router.jpg'},\n",
       " {'title': 'How the web works',\n",
       "  'date': 'November 17, 2023',\n",
       "  'link': 'https://developer.mozilla.org/en-US/docs/Learn/Getting_started_with_the_web/How_the_Web_works',\n",
       "  'authors': [{'name': 'MDN contributors',\n",
       "    'link': 'https://developer.mozilla.org/en-US/docs/Learn/Getting_started_with_the_web/How_the_Web_works/contributors.txt'}],\n",
       "  'description': 'A high-level blog post accessible to beginners, aimed at developers, that explains how a phone or computer browser displays a webpage. Part of a longer series of blog posts that may be helpful for those hoping to learn more about browsers in depth.',\n",
       "  'keywords': ['clients',\n",
       "   'servers',\n",
       "   'requests',\n",
       "   'responses',\n",
       "   'TCP',\n",
       "   'IP address',\n",
       "   'DNS',\n",
       "   'HTTP',\n",
       "   'component files',\n",
       "   'code files',\n",
       "   'assets',\n",
       "   'packets'],\n",
       "  'source': 'Mozilla Developer Network',\n",
       "  'image': 'images/writing-website-with-image.jpg'},\n",
       " {'title': 'A Practical Introduction to Web Scraping in Python',\n",
       "  'date': '',\n",
       "  'link': 'https://realpython.com/python-web-scraping-practical-introduction/',\n",
       "  'authors': [{'name': 'David Amos',\n",
       "    'link': 'https://realpython.com/python-web-scraping-practical-introduction/#author'}],\n",
       "  'description': 'A tutorial aimed at beginners to web scraping with some prior knowledge of Python. Focuses mainly on building skills with HTML parsing using BeautifulSoup and interacting with the browser using MechanicalSoup. After this tutorial, users will likely be ready to learn to use Selenium.',\n",
       "  'keywords': ['HTML',\n",
       "   'regex',\n",
       "   'regular expressions',\n",
       "   'BeautifulSoup',\n",
       "   'MechanicalSoup'],\n",
       "  'source': 'Real Python',\n",
       "  'image': 'images/computer.jpg'},\n",
       " {'title': 'Automate the Boring Stuff: Web Scraping (Chapter 12)',\n",
       "  'date': '',\n",
       "  'link': 'https://automatetheboringstuff.com/2e/chapter12/',\n",
       "  'authors': [{'name': 'Al Sweigart',\n",
       "    'link': 'https://realpython.com/python-web-scraping-practical-introduction/#author'}],\n",
       "  'description': 'A free online textbook introducing users to concepts in Python. This chapter assumes basic proficiency in Python from reading previous chapters. Walks users through inspecting the HTML code underlying websites using developer tools on the web browser, parsing the content using BeautifulSoup, and rendering interactive pages using a Selenium webdriver.',\n",
       "  'keywords': ['requests',\n",
       "   'GET requests',\n",
       "   'HTML',\n",
       "   'View page source',\n",
       "   'Inspect element',\n",
       "   'Developer tools',\n",
       "   'HTML elements',\n",
       "   'BeautifulSoup',\n",
       "   'select method',\n",
       "   'Selenium'],\n",
       "  'source': 'Real Python',\n",
       "  'image': 'images/book.jpg'},\n",
       " {'title': 'Getting Started (with Selenium)',\n",
       "  'date': 'January 12, 2022',\n",
       "  'link': 'https://www.selenium.dev/documentation/webdriver/getting_started/',\n",
       "  'authors': [{'name': '', 'link': '#'}],\n",
       "  'description': 'Generalized documentation for Selenium, with options to select programming language (such as Python).',\n",
       "  'keywords': ['webdrivers',\n",
       "   'browsers',\n",
       "   'waits',\n",
       "   'elements',\n",
       "   'interactions',\n",
       "   'sample code',\n",
       "   'Python'],\n",
       "  'source': 'Selenium',\n",
       "  'image': 'images/laptop-web.jpg'},\n",
       " {'title': 'Getting started with the web',\n",
       "  'date': 'February 4, 2024',\n",
       "  'link': 'https://developer.mozilla.org/en-US/docs/Learn/Getting_started_with_the_web',\n",
       "  'authors': [{'name': 'MDN contributors',\n",
       "    'link': 'https://developer.mozilla.org/en-US/docs/Learn/Getting_started_with_the_web/contributors.txt'}],\n",
       "  'description': 'A high-quality series of blog posts that guides skills levels ranging from absolute beginners to those with more intermediate understanding through the process of building a website. Comprised of short, accessible blog posts covering many topics, including how the web works, and introductions to HTML, CSS, and JavaScript. Aimed at developers, but serves as useful background for more general audiences and those interested in understanding the web better for web scraping.',\n",
       "  'keywords': ['HTML', 'CSS', 'JavaScript', 'tools and testing'],\n",
       "  'source': 'Mozilla Developer Network',\n",
       "  'image': 'images/building-blocks.jpg'},\n",
       " {'title': 'roundup',\n",
       "  'date': 'June 16, 2024',\n",
       "  'link': 'https://developer.mozilla.org/en-US/docs/Learn/Getting_started_with_the_web',\n",
       "  'authors': [{'name': 'Lorae Stojanovic', 'link': '#'}],\n",
       "  'description': \"Lorae's (the creater of this website) GitHub repository which scrapes pre-print academic economics papers from 20+ sources; presents titles, abstracts, authors and hyperlinks on an online dashboard. Auto-updates daily using GitHub Actions workflow. May be helpful sample code for those interested in web scraping in Python or automating their scraping using GitHub Actions.\",\n",
       "  'keywords': ['web scraping', 'Python', 'GitHub Actions', 'Streamlit'],\n",
       "  'source': 'GitHub',\n",
       "  'image': 'images/single-page-file.jpg'}]"
      ]
     },
     "execution_count": 56,
     "metadata": {},
     "output_type": "execute_result"
    }
   ],
   "source": [
    "json_data = response.json()\n",
    "json_data"
   ]
  },
  {
   "cell_type": "markdown",
   "metadata": {
    "slideshow": {
     "slide_type": "subslide"
    }
   },
   "source": [
    "We can easily access the entries we need as follows."
   ]
  },
  {
   "cell_type": "code",
   "execution_count": null,
   "metadata": {
    "slideshow": {
     "slide_type": "fragment"
    }
   },
   "outputs": [
    {
     "name": "stdout",
     "output_type": "stream",
     "text": [
      "Introduction to Data Science Using Python\n",
      "Webscraping in R (and a little Python and Excel too)\n",
      "Populating the page: how browsers work\n",
      "What is DNS? | How DNS works\n",
      "How the web works\n",
      "A Practical Introduction to Web Scraping in Python\n",
      "Automate the Boring Stuff: Web Scraping (Chapter 12)\n",
      "Getting Started (with Selenium)\n",
      "Getting started with the web\n",
      "roundup\n"
     ]
    }
   ],
   "source": [
    "# Now json_data is a list of dictionaries, each representing an article/resource\n",
    "for article in json_data:\n",
    "    title = article['title']\n",
    "\n",
    "    print(title)"
   ]
  },
  {
   "cell_type": "markdown",
   "metadata": {
    "slideshow": {
     "slide_type": "subslide"
    }
   },
   "source": [
    "If the request is a POST request, or if it requires more complex headers, this strategy will not work.\n",
    "\n",
    "In that case, I recommend using a free software like [Postman](https://www.postman.com/). The process is simple:\n",
    "\n",
    "1. Right click on the request in the network requests pane.\n",
    "2. Select \"Copy as cURL\"\n",
    "2. Paste the request into Postman\n",
    "3. Auto generate Python code by clicking the `</>` button\n",
    "\n",
    "![copy as cURL](slides/copy-as-cURL.png)"
   ]
  }
 ],
 "metadata": {
  "kernelspec": {
   "display_name": "advanced-web-scraping-kZIQxOht-py3.11",
   "language": "python",
   "name": "python3"
  },
  "language_info": {
   "codemirror_mode": {
    "name": "ipython",
    "version": 3
   },
   "file_extension": ".py",
   "mimetype": "text/x-python",
   "name": "python",
   "nbconvert_exporter": "python",
   "pygments_lexer": "ipython3",
   "version": "3.11.0"
  }
 },
 "nbformat": 4,
 "nbformat_minor": 2
}
