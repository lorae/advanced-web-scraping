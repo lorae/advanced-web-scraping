{
 "cells": [
  {
   "cell_type": "markdown",
   "metadata": {
    "slideshow": {
     "slide_type": "notes"
    }
   },
   "source": [
    "To serve this slide deck, run the following line in the terminal or PowerShell:"
   ]
  },
  {
   "cell_type": "code",
   "execution_count": null,
   "metadata": {
    "slideshow": {
     "slide_type": "notes"
    },
    "vscode": {
     "languageId": "powershell"
    }
   },
   "outputs": [],
   "source": [
    "jupyter nbconvert 'slides/advanced-web-scraping.ipynb' --to slides --output='../advanced-web-scraping'"
   ]
  },
  {
   "cell_type": "markdown",
   "metadata": {
    "slideshow": {
     "slide_type": "notes"
    }
   },
   "source": [
    "TODO: Fix the reference numbers on the footnotes."
   ]
  },
  {
   "cell_type": "markdown",
   "metadata": {
    "slideshow": {
     "slide_type": "slide"
    }
   },
   "source": [
    "# Advanced Web Scraping with Python\n",
    "\n",
    "<br>\n",
    "\n",
    "### Lorae Stojanovic\n",
    "\n",
    "June 20, 2024\n"
   ]
  },
  {
   "cell_type": "markdown",
   "metadata": {
    "slideshow": {
     "slide_type": "slide"
    },
    "vscode": {
     "languageId": "plaintext"
    }
   },
   "source": [
    "# Agenda\n",
    "1. [How does a website work?](#/2)\n",
    "    - [Key terminology](#/2/1)\n",
    "    - [Accessing a website](#/2/3)\n",
    "2. [Web Scraping Basics](#/3)\n",
    "    - [Web requests](#web-requests)\n",
    "2. Selenium\n",
    "3. API Scraping\n",
    "4. Automating a web scrape with GitHub Actions\n",
    "4. Demo\n",
    "5. [Additional Resources](#/3)"
   ]
  },
  {
   "cell_type": "markdown",
   "metadata": {
    "slideshow": {
     "slide_type": "subslide"
    }
   },
   "source": [
    "Libraries we WILL use in this presentation:\n",
    "\n",
    "- requests\n",
    "- BeautifulSoup\n",
    "- JSON\n",
    "- XML\n",
    "- selenium\n",
    "\n",
    "These topics will NOT be covered in this presentation:\n",
    "\n",
    "- pyppeteer, playwright (an even more advanced way to scrape using Chrome Developer Protocol) [FACT CHECK!!!!]\n",
    "- scrapy\n",
    "- MechanicalSoup"
   ]
  },
  {
   "cell_type": "markdown",
   "metadata": {
    "slideshow": {
     "slide_type": "slide"
    }
   },
   "source": [
    "# How does a website work?\n",
    "\n",
    "A lot goes on behind the scenes when you view a website like https://www.brookings.edu/.\n",
    "\n",
    "Understanding how your computer interacts with remote resources will help you become a more capable data collector."
   ]
  },
  {
   "cell_type": "markdown",
   "metadata": {
    "slideshow": {
     "slide_type": "subslide"
    }
   },
   "source": [
    "## **Key terminology**\n",
    "### **Client**\n",
    "\"Clients are the typical **web user's internet-connected devices** (for example, your computer connected to your Wi-Fi, or your phone connected to your mobile network) and **web-accessing software available on those devices** (usually a web browser like Firefox or Chrome).\"<sup id=\"ref01\" class=\"reference\"><a href=\"https://developer.mozilla.org/en-US/docs/Learn/Getting_started_with_the_web/How_the_Web_works\" title=\"Mozilla (2023). How the web works. Retrieved from https://developer.mozilla.org/en-US/docs/Learn/Getting_started_with_the_web/How_the_Web_works\">[1]</a></sup> \n",
    "\n",
    "### **Server**\n",
    "\"Servers are **computers that store webpages, sites, or apps**. When a client device wants to access a webpage, a copy of the webpage is downloaded from the server onto the client machine to be displayed in the user's web browser.\"<sup id=\"ref02\" class=\"reference\"><a href=\"https://developer.mozilla.org/en-US/docs/Learn/Getting_started_with_the_web/How_the_Web_works\" title=\"Mozilla (2023). How the web works. Retrieved from https://developer.mozilla.org/en-US/docs/Learn/Getting_started_with_the_web/How_the_Web_works\">[2]</a></sup> "
   ]
  },
  {
   "cell_type": "markdown",
   "metadata": {},
   "source": [
    "</p>\n",
    "<p style=\"font-size:10px\">\n",
    "[1] Mozilla (2023). How the web works. Retrieved from https://developer.mozilla.org/en-US/docs/Learn/Getting_started_with_the_web/How_the_Web_works <br>\n",
    "[2] Ibid.\n",
    "</p>"
   ]
  },
  {
   "cell_type": "markdown",
   "metadata": {
    "slideshow": {
     "slide_type": "subslide"
    }
   },
   "source": [
    "Clients send **requests** for information from servers. The servers send back **responses**.\n",
    "![A schematic illustrating the relationship between clients and servers](slides/client-server-request-response.png)"
   ]
  },
  {
   "cell_type": "markdown",
   "metadata": {
    "slideshow": {
     "slide_type": "subslide"
    }
   },
   "source": [
    "### **HTTP web requests**\n",
    "\n",
    "There are many types of internet *protocols* that you can use to make requests,<sup id=\"ref03\" class=\"reference\"><a href=\"https://www.geeksforgeeks.org/types-of-internet-protocols/\" title=\"GeeksforGeeks (2023). Types of Internet Protocols. Retrieved from https://www.geeksforgeeks.org/types-of-internet-protocols/\">[3]</a></sup> but when we web scrape, we will concern ourselves primarily with **HTTP (Hypertext Transfer Protocol)**. There are 9 types:<sup id=\"ref04\" class=\"reference\"><a href=\"https://developer.mozilla.org/en-US/docs/Web/HTTP/Methods\" title=\"Mozilla (2023). HTTP request methods. Retrieved from https://developer.mozilla.org/en-US/docs/Web/HTTP/Methods\">[4]</a></sup> "
   ]
  },
  {
   "cell_type": "markdown",
   "metadata": {
    "slideshow": {
     "slide_type": "fragment"
    }
   },
   "source": [
    "- GET\n",
    "- HEAD\n",
    "- POST\n",
    "- PUT\n",
    "- DELETE\n",
    "- CONNECT\n",
    "- OPTIONS\n",
    "- TRACE\n",
    "- PATCH\n"
   ]
  },
  {
   "cell_type": "markdown",
   "metadata": {
    "slideshow": {
     "slide_type": "fragment"
    }
   },
   "source": [
    "</p>\n",
    "<p style=\"font-size:10px\">\n",
    "[3] GeeksforGeeks (2023). Types of Internet Protocols. Retrieved from https://www.geeksforgeeks.org/types-of-internet-protocols/\" <br>\n",
    "[4] Mozilla (2023). HTTP request methods. Retrieved from https://developer.mozilla.org/en-US/docs/Web/HTTP/Methods\" <br>\n",
    "</p>"
   ]
  },
  {
   "cell_type": "markdown",
   "metadata": {
    "slideshow": {
     "slide_type": "subslide"
    }
   },
   "source": [
    "Luckily for us web scrapers, we do not need to memorize all nine types. Ninety nine percent of the time, we will only concern ourselves with **GET** and **POST** requests.\n",
    "\n",
    "- \"The **GET** method requests a representation of the specified resource. Requests using GET should only retrieve data.\"<sup id=\"ref05\" class=\"reference\"><a href=\"https://developer.mozilla.org/en-US/docs/Web/HTTP/Methods\" title=\"Mozilla (2023). HTTP request methods. Retrieved from https://developer.mozilla.org/en-US/docs/Web/HTTP/Methods\">[5]</a></sup> \n",
    "- \"The **POST** method submits an entity to the specified resource, often causing a change in state or side effects on the server.\"<sup id=\"ref06\" class=\"reference\"><a href=\"https://developer.mozilla.org/en-US/docs/Web/HTTP/Methods\" title=\"Mozilla (2023). HTTP request methods. Retrieved from https://developer.mozilla.org/en-US/docs/Web/HTTP/Methods\">[6]</a></sup> \n",
    "\n",
    "Don't worry if you're confused. It's easy to tell which type you need to use. And today, we'll do a demo using both.\n",
    "\n",
    "</p>\n",
    "<p style=\"font-size:10px\">\n",
    "[5] Mozilla (2023). HTTP request methods. Retrieved from https://developer.mozilla.org/en-US/docs/Web/HTTP/Methods\" <br>\n",
    "[6] Ibid. <br>\n",
    "</p>\n"
   ]
  },
  {
   "cell_type": "markdown",
   "metadata": {
    "slideshow": {
     "slide_type": "subslide"
    }
   },
   "source": [
    "## **Accessing a website**\n",
    "\n",
    "When you enter a URL (e.g., www.brookings.edu) into your browser, several things happen:"
   ]
  },
  {
   "cell_type": "markdown",
   "metadata": {
    "slideshow": {
     "slide_type": "fragment"
    }
   },
   "source": [
    "1. DNS lookup\n",
    "2. Initial HTTP request\n",
    "3. Server response\n",
    "4. Parsing HTML + additional requests\n",
    "5. Assembling the page"
   ]
  },
  {
   "cell_type": "markdown",
   "metadata": {
    "slideshow": {
     "slide_type": "subslide"
    }
   },
   "source": [
    "### **Step 1: DNS Lookup**\n",
    "Your browser first translates the human-readable URL (e.g. http://brookings.edu/) into an IP address (e.g. 137.135.107.235) using a Domain Name System (DNS) lookup.<sup id=\"ref07\" class=\"footnote\"><a href=\"\" title=\"Fun fact: we talked about internet protocols in the previous section, but only described HTTP, which is most relevant to this application. DNS is another type of internet protocol.\">[7]</a></sup> \n",
    "\n",
    "Think of the DNS search like the phone book that links a name of a store to a street address. The street address, in this case, is an IP address which points to the server where the website is hosted. <sup id=\"ref08\" class=\"reference\"><a href=\"https://developer.mozilla.org/en-US/docs/Learn/Getting_started_with_the_web/How_the_Web_works\" title=\"Mozilla (2023). How the web works. Retrieved from https://developer.mozilla.org/en-US/docs/Learn/Getting_started_with_the_web/How_the_Web_works\">[8]</a></sup> <sup id=\"ref09\" class=\"reference\"><a href=\"https://www.cloudflare.com/learning/dns/what-is-dns/\" title=\"Cloudflare. What is DNS? Retrieved from https://www.cloudflare.com/learning/dns/what-is-dns/\">[9]</a></sup> \n",
    "</p>\n",
    "<p style=\"font-size:10px\">\n",
    "[7] Fun fact: we talked about internet protocols in the previous section, but only described HTTP, which is most relevant to this application. DNS is another type of internet protocol.\n",
    "[8] Mozilla (2023). How the web works. Retrieved from https://developer.mozilla.org/en-US/docs/Learn/Getting_started_with_the_web/How_the_Web_works\n",
    "<br>\n",
    "[9] Cloudflare. What is DNS? Retrieved from https://www.cloudflare.com/learning/dns/what-is-dns/<br>\n",
    "</p>"
   ]
  },
  {
   "cell_type": "markdown",
   "metadata": {
    "slideshow": {
     "slide_type": "subslide"
    }
   },
   "source": [
    "### **Step 2: HTTP Request**\n",
    "Now that your browser has the IP address of website, it sends an HTTP request to the server at this IP address. This request asks for the main HTML file of the website."
   ]
  },
  {
   "cell_type": "markdown",
   "metadata": {
    "slideshow": {
     "slide_type": "fragment"
    },
    "vscode": {
     "languageId": "powershell"
    }
   },
   "source": [
    "```bash\n",
    "curl -X GET 'https://www.brookings.edu/' \\\n",
    "  -H 'accept: text/html,application/xhtml+xml,application/xml;...' \\\n",
    "  -H 'accept-language: en-US,en;q=0.9' \\\n",
    "  -H 'cookie: _fbp=REDACTED; hubspotutk=REDACTED; ...' \\\n",
    "  -H 'priority: u=0, i' \\\n",
    "  -H 'referer: https://www.google.com/' \\\n",
    "  -H 'sec-ch-ua: \"Google Chrome\";v=\"REDACTED\", \"Chromium\";v=\"REDACTED\", \"Not.A/Brand\";v=\"REDACTED\"' \\\n",
    "  -H 'sec-ch-ua-mobile: ?0' \\\n",
    "  -H 'sec-ch-ua-platform: \"Windows\"' \\\n",
    "  -H 'sec-fetch-dest: document' \\\n",
    "  -H 'sec-fetch-mode: navigate' \\\n",
    "  -H 'sec-fetch-site: cross-site' \\\n",
    "  -H 'sec-fetch-user: ?1' \\\n",
    "  -H 'upgrade-insecure-requests: 1' \\\n",
    "  -H 'user-agent: Mozilla/5.0 (Windows NT 10.0; Win64; x64) AppleWebKit/537.36 (KHTML, like Gecko) Chrome/125.0.0.0 Safari/537.36'\n",
    "```"
   ]
  },
  {
   "cell_type": "markdown",
   "metadata": {
    "slideshow": {
     "slide_type": "fragment"
    }
   },
   "source": [
    "Can you identify what type of request this is?"
   ]
  },
  {
   "cell_type": "markdown",
   "metadata": {
    "slideshow": {
     "slide_type": "subslide"
    }
   },
   "source": [
    "### **Step 3: Server Response**\n",
    "The server processes this request and sends back the requested HTML file. This file contains the basic structure of the webpage."
   ]
  },
  {
   "cell_type": "code",
   "execution_count": null,
   "metadata": {
    "slideshow": {
     "slide_type": "fragment"
    },
    "vscode": {
     "languageId": "html"
    }
   },
   "outputs": [],
   "source": [
    "\n",
    "<!DOCTYPE html>\n",
    "<html lang=\"en-US\">\n",
    "\n",
    "<head>\n",
    "\t<meta charset=\"UTF-8\">\n",
    "\t<meta name=\"viewport\" content=\"width=device-width, initial-scale=1.0, viewport-fit=cover\">\n",
    "\t<meta name='robots' content='index, follow, max-image-preview:large, max-snippet:-1, max-video-preview:-1' />\n",
    "<link rel=\"alternate\" href=\"https://www.brookings.edu/\" hreflang=\"en\" />\n",
    "<link rel=\"alternate\" href=\"https://www.brookings.edu/es/\" hreflang=\"es\" />\n",
    "<link rel=\"alternate\" href=\"https://www.brookings.edu/ar/\" hreflang=\"ar\" />\n",
    "<link rel=\"alternate\" href=\"https://www.brookings.edu/zh/\" hreflang=\"zh\" />\n",
    "<link rel=\"alternate\" href=\"https://www.brookings.edu/fr/\" hreflang=\"fr\" />\n",
    "<link rel=\"alternate\" href=\"https://www.brookings.edu/ko/\" hreflang=\"ko\" />\n",
    "<link rel=\"alternate\" href=\"https://www.brookings.edu/ru/\" hreflang=\"ru\" />\n",
    "\n",
    "\t<!-- This site is optimized with the Yoast SEO plugin v22.0 - https://yoast.com/wordpress/plugins/seo/ -->\n",
    "\t<title>Brookings - Quality. Independence. Impact.</title>\n",
    "\t<meta name=\"description\" content=\"The Brookings Institution is a nonprofit public policy organization based in Washington, DC. Our mission is to conduct in-depth research that leads to new ideas for solving problems facing society at the local, national and global level.\" />\n",
    "\t<link rel=\"canonical\" href=\"https://www.brookings.edu/\" />\n",
    "\t<meta property=\"og:locale\" content=\"en_US\" />"
   ]
  },
  {
   "cell_type": "markdown",
   "metadata": {
    "slideshow": {
     "slide_type": "subslide"
    }
   },
   "source": [
    "### **Step 4: Parsing HTML + additional requests**\n",
    "Your browser starts **parsing** the HTML file: reading its instructions to turn it into a user-friendly webpage. \n",
    "\n",
    "Oftentimes, this code contains references to additional external resources it needs to display the webpage, such as:"
   ]
  },
  {
   "cell_type": "markdown",
   "metadata": {
    "slideshow": {
     "slide_type": "fragment"
    }
   },
   "source": [
    "- **CSS (Cascading Style Sheets)**: To set default aesthetics like fonts, colors, and line spacing\n",
    "- **JavaScript code**: To add interactivity and dynamic content\n",
    "- **Images and videos**: To incorporate multimedia content\n",
    "- **API (Application Programming Interface) responses**: To obtain data from servers, often in JSON format, to display on the webpage"
   ]
  },
  {
   "cell_type": "markdown",
   "metadata": {
    "slideshow": {
     "slide_type": "fragment"
    }
   },
   "source": [
    "As your browser encounters **additional references to files** in the HTML code, it **makes HTTP requests** to the server to retrieve them."
   ]
  },
  {
   "cell_type": "markdown",
   "metadata": {
    "slideshow": {
     "slide_type": "subslide"
    }
   },
   "source": [
    "### **Step 5: Assembling the page**\n",
    "\n",
    "After downloading all the external resources needed to build the webpage, your browser will compile and execute any JavaScript code that it received.\n",
    "\n",
    "With all the downloaded elements in place, the browser processes the HTML, the CSS style sheets, and combines it with other resources (such as downloaded fonts, photos, videos, and data downloaded from APIs) to **paint** the webpage to your screen.<sup id=\"ref05\" class=\"reference\"><a href=\"https://developer.mozilla.org/en-US/docs/Web/Performance/How_browsers_work\" title=\"Mozilla (2023). Populating the page: how browsers work. Retrieved from https://developer.mozilla.org/en-US/docs/Web/Performance/How_browsers_work\">[5]</a></sup> \n",
    "</p>\n",
    "<p style=\"font-size:10px\">\n",
    "[5] Mozilla (2023). Populating the page: how browsers work. Retrieved from https://developer.mozilla.org/en-US/docs/Web/Performance/How_browsers_work\" <br>\n",
    "</p>"
   ]
  },
  {
   "cell_type": "markdown",
   "metadata": {
    "slideshow": {
     "slide_type": "fragment"
    }
   },
   "source": [
    "![An image of the brookings.edu homepage](slides/brookings-edu-screenshot.png)"
   ]
  },
  {
   "cell_type": "markdown",
   "metadata": {
    "slideshow": {
     "slide_type": "slide"
    }
   },
   "source": [
    "# Web Scraping Basics\n",
    "\n",
    "There are several ways to collect data online. The strategy you choose must be catered to the website in question."
   ]
  },
  {
   "cell_type": "markdown",
   "metadata": {
    "slideshow": {
     "slide_type": "subslide"
    }
   },
   "source": [
    "## **Types of web scraping**\n",
    "\n",
    "I like to categorize web data collection techniques by the point in the client-server interaction that they interact."
   ]
  },
  {
   "cell_type": "markdown",
   "metadata": {
    "slideshow": {
     "slide_type": "fragment"
    }
   },
   "source": [
    "1. **DNS lookup**"
   ]
  },
  {
   "cell_type": "markdown",
   "metadata": {
    "slideshow": {
     "slide_type": "fragment"
    }
   },
   "source": [
    "2. **Initial HTTP request**"
   ]
  },
  {
   "cell_type": "markdown",
   "metadata": {
    "slideshow": {
     "slide_type": "fragment"
    }
   },
   "source": [
    "3. **Server response**\n",
    "   - **HTML scraping** parses the main HTML file for the webpage to extract data."
   ]
  },
  {
   "cell_type": "markdown",
   "metadata": {
    "slideshow": {
     "slide_type": "fragment"
    }
   },
   "source": [
    "4. **Parsing HTML + additional requests**\n",
    "   - Technically not classified as \"web scraping,\" **APIs** are a neat way to access data. They are usually requested at this point in the client-server interaction."
   ]
  },
  {
   "cell_type": "markdown",
   "metadata": {
    "slideshow": {
     "slide_type": "fragment"
    }
   },
   "source": [
    "5. **Assembling the page**\n",
    "   - **Selenium** behaves like a browser to view content that is otherwise not available in HTML files, because it is dynamically rendered using JavaScript code."
   ]
  },
  {
   "cell_type": "markdown",
   "metadata": {
    "slideshow": {
     "slide_type": "subslide"
    }
   },
   "source": [
    "## **Let's get started!**\n",
    "\n",
    "If you don't already have these packages installed, start by installing them.\n",
    "\n",
    "Note: It's a best practice to use environments to control package dependencies.<sup id=\"ref10\" class=\"footnote\"><a href=\"https://python-poetry.org/\" title=\"This project uses Poetry: https://python-poetry.org/\">[10]</a></sup> \n",
    "\n",
    "</p>\n",
    "<p style=\"font-size:10px\">\n",
    "[10] This project uses Poetry: https://python-poetry.org/ <br>\n",
    "</p>"
   ]
  },
  {
   "cell_type": "markdown",
   "metadata": {
    "slideshow": {
     "slide_type": "notes"
    }
   },
   "source": [
    "NOTE: If you're following along with this Jupyter notebook in your IDE (such as VSCode or JupyterLab), please skip the following terminal command. You can proceed directly to the `import requests` line, as your Poetry environment should already have the necessary packages installed."
   ]
  },
  {
   "cell_type": "code",
   "execution_count": null,
   "metadata": {
    "slideshow": {
     "slide_type": "fragment"
    },
    "vscode": {
     "languageId": "powershell"
    }
   },
   "outputs": [],
   "source": [
    "pip install requests"
   ]
  },
  {
   "cell_type": "markdown",
   "metadata": {
    "slideshow": {
     "slide_type": "fragment"
    }
   },
   "source": [
    "Now let's import the requests library to make our first HTTP request."
   ]
  },
  {
   "cell_type": "code",
   "execution_count": 1,
   "metadata": {},
   "outputs": [],
   "source": [
    "import requests"
   ]
  },
  {
   "cell_type": "markdown",
   "metadata": {
    "slideshow": {
     "slide_type": "slide"
    },
    "vscode": {
     "languageId": "plaintext"
    }
   },
   "source": [
    "# 5. Additional Resources\n",
    "Links to resources (both internal Brookings resources and publicly available ones) that will provide additional context/training."
   ]
  },
  {
   "cell_type": "markdown",
   "metadata": {
    "slideshow": {
     "slide_type": "notes"
    }
   },
   "source": [
    "Note to self: Make the slides some sort of table that easily indicate which resources are internal and which aren't"
   ]
  },
  {
   "cell_type": "markdown",
   "metadata": {
    "slideshow": {
     "slide_type": "subslide"
    }
   },
   "source": [
    "## If you want a light introduction to web scraping\n",
    "[DistrictDataLabs/brookings](https://github.com/DistrictDataLabs/brookings/) **Publicly available** GitHub repository presented to Brookings Data Network on March 31, 2017 which has slides and sample code. The resource is older, but the concepts are still relevant. [NOTE: I haven't tested the code, so I'm not sure if it still works]\n",
    "\n",
    "Keywords: Publicly available datasets, common data formats, RESTful APIs, HTTP requests, web scraping vs web crawling"
   ]
  },
  {
   "cell_type": "markdown",
   "metadata": {},
   "source": [
    "## If you want a more involved introduction to web scraping\n",
    "[trainingNotebook.ipynb](https://brookingsinstitution.sharepoint.com/:f:/r/sites/BrookingsDataNetwork/Shared%20Documents/Python/2017-05%20-%20Getting%20Started%20with%20Web%20Scraping?csf=1&web=1&e=d2sfux) Curtlyn Kramer's **Brookings internal** Jupyter notebook, presented to the Brookings Data Network on May 26, 2017. This is only useful if the code works, so I will have to test if the code works. If it does, then this is a helpful Jupyter notebook that walks you through the steps.\n",
    "\n",
    "Keywords: inspect element, BeautifulSoup4, "
   ]
  },
  {
   "cell_type": "markdown",
   "metadata": {
    "slideshow": {
     "slide_type": "slide"
    }
   },
   "source": [
    "## Extra material goes down here"
   ]
  },
  {
   "cell_type": "markdown",
   "metadata": {},
   "source": [
    "\n",
    "### What is a web browser?\n",
    "A web browser - like Chrome, Safari, Edge, or Firefox - is a specialized software designed to fetch and display web resources. Web resources are usually in the form of HTML documents, but can also be PDFs, images, or other documents. \n"
   ]
  },
  {
   "cell_type": "markdown",
   "metadata": {
    "slideshow": {
     "slide_type": "fragment"
    }
   },
   "source": [
    "**Web scraping**: The act of systematically extracting data from an online resource, such as a website.\n",
    "**Web crawling**: (use the explanation given by District Data Lab on /brookings repo)"
   ]
  }
 ],
 "metadata": {
  "kernelspec": {
   "display_name": "advanced-web-scraping-kZIQxOht-py3.11",
   "language": "python",
   "name": "python3"
  },
  "language_info": {
   "codemirror_mode": {
    "name": "ipython",
    "version": 3
   },
   "file_extension": ".py",
   "mimetype": "text/x-python",
   "name": "python",
   "nbconvert_exporter": "python",
   "pygments_lexer": "ipython3",
   "version": "3.11.0"
  }
 },
 "nbformat": 4,
 "nbformat_minor": 2
}
