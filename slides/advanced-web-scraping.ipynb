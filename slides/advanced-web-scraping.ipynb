{
 "cells": [
  {
   "cell_type": "markdown",
   "metadata": {
    "slideshow": {
     "slide_type": "notes"
    }
   },
   "source": [
    "To serve this slide deck, run the following line in the terminal or PowerShell:"
   ]
  },
  {
   "cell_type": "code",
   "execution_count": 3,
   "metadata": {
    "slideshow": {
     "slide_type": "notes"
    },
    "vscode": {
     "languageId": "powershell"
    }
   },
   "outputs": [
    {
     "ename": "SyntaxError",
     "evalue": "invalid syntax (957921146.py, line 1)",
     "output_type": "error",
     "traceback": [
      "\u001b[1;36m  Cell \u001b[1;32mIn[3], line 1\u001b[1;36m\u001b[0m\n\u001b[1;33m    jupyter nbconvert 'slides/advanced-web-scraping.ipynb' --to slides --output='../advanced-web-scraping'\u001b[0m\n\u001b[1;37m            ^\u001b[0m\n\u001b[1;31mSyntaxError\u001b[0m\u001b[1;31m:\u001b[0m invalid syntax\n"
     ]
    }
   ],
   "source": [
    "jupyter nbconvert 'slides/advanced-web-scraping.ipynb' --to slides --output='../advanced-web-scraping'"
   ]
  },
  {
   "cell_type": "markdown",
   "metadata": {
    "slideshow": {
     "slide_type": "notes"
    }
   },
   "source": [
    "TODO: Fix the reference numbers on the footnotes."
   ]
  },
  {
   "cell_type": "markdown",
   "metadata": {
    "slideshow": {
     "slide_type": "slide"
    }
   },
   "source": [
    "# Advanced Web Scraping with Python\n",
    "\n",
    "<br>\n",
    "\n",
    "### Lorae Stojanovic\n",
    "\n",
    "June 20, 2024\n"
   ]
  },
  {
   "cell_type": "markdown",
   "metadata": {
    "slideshow": {
     "slide_type": "slide"
    },
    "vscode": {
     "languageId": "plaintext"
    }
   },
   "source": [
    "# Agenda\n",
    "1. [How does a website work?](#/2)\n",
    "    - [Key terminology](#/2/1)\n",
    "    - [Accessing a website](#/2/3)\n",
    "2. [Web Scraping Basics](#/3)\n",
    "    - [Web requests](#web-requests)\n",
    "2. Selenium\n",
    "3. API Scraping\n",
    "4. Automating a web scrape with GitHub Actions\n",
    "4. Demo\n",
    "5. [Additional Resources](#/3)"
   ]
  },
  {
   "cell_type": "markdown",
   "metadata": {
    "slideshow": {
     "slide_type": "subslide"
    }
   },
   "source": [
    "Libraries we WILL use in this presentation:\n",
    "\n",
    "- requests\n",
    "- BeautifulSoup\n",
    "- JSON\n",
    "- XML\n",
    "- selenium\n",
    "\n",
    "These topics will NOT be covered in this presentation:\n",
    "\n",
    "- pyppeteer, playwright (an even more advanced way to scrape using Chrome Developer Protocol) [FACT CHECK!!!!]\n",
    "- scrapy\n",
    "- MechanicalSoup"
   ]
  },
  {
   "cell_type": "markdown",
   "metadata": {
    "slideshow": {
     "slide_type": "slide"
    }
   },
   "source": [
    "# How does a website work?\n",
    "\n",
    "A lot goes on behind the scenes when you view a website like https://www.brookings.edu/.\n",
    "\n",
    "Understanding how your computer interacts with remote resources will help you become a more capable data collector."
   ]
  },
  {
   "cell_type": "markdown",
   "metadata": {
    "slideshow": {
     "slide_type": "subslide"
    }
   },
   "source": [
    "## **Key terminology**\n",
    "### **Client**\n",
    "\"Clients are the typical **web user's internet-connected devices** (for example, your computer connected to your Wi-Fi, or your phone connected to your mobile network) and **web-accessing software available on those devices** (usually a web browser like Firefox or Chrome).\"<sup id=\"ref01\" class=\"reference\"><a href=\"https://developer.mozilla.org/en-US/docs/Learn/Getting_started_with_the_web/How_the_Web_works\" title=\"Mozilla (2023). How the web works. Retrieved from https://developer.mozilla.org/en-US/docs/Learn/Getting_started_with_the_web/How_the_Web_works\">[1]</a></sup> \n",
    "\n",
    "### **Server**\n",
    "\"Servers are **computers that store webpages, sites, or apps**. When a client device wants to access a webpage, a copy of the webpage is downloaded from the server onto the client machine to be displayed in the user's web browser.\"<sup id=\"ref02\" class=\"reference\"><a href=\"https://developer.mozilla.org/en-US/docs/Learn/Getting_started_with_the_web/How_the_Web_works\" title=\"Mozilla (2023). How the web works. Retrieved from https://developer.mozilla.org/en-US/docs/Learn/Getting_started_with_the_web/How_the_Web_works\">[2]</a></sup> "
   ]
  },
  {
   "cell_type": "markdown",
   "metadata": {},
   "source": [
    "</p>\n",
    "<p style=\"font-size:10px\">\n",
    "[1] Mozilla (2023). How the web works. Retrieved from https://developer.mozilla.org/en-US/docs/Learn/Getting_started_with_the_web/How_the_Web_works <br>\n",
    "[2] Ibid.\n",
    "</p>"
   ]
  },
  {
   "cell_type": "markdown",
   "metadata": {
    "slideshow": {
     "slide_type": "subslide"
    }
   },
   "source": [
    "Clients send **requests** for information from servers. The servers send back **responses**.\n",
    "![A schematic illustrating the relationship between clients and servers](slides/client-server-request-response.png)"
   ]
  },
  {
   "cell_type": "markdown",
   "metadata": {
    "slideshow": {
     "slide_type": "subslide"
    }
   },
   "source": [
    "### **HTTP web requests**\n",
    "\n",
    "There are many types of internet *protocols* that you can use to make requests,<sup id=\"ref03\" class=\"reference\"><a href=\"https://www.geeksforgeeks.org/types-of-internet-protocols/\" title=\"GeeksforGeeks (2023). Types of Internet Protocols. Retrieved from https://www.geeksforgeeks.org/types-of-internet-protocols/\">[3]</a></sup> but when we web scrape, we will concern ourselves primarily with **HTTP (Hypertext Transfer Protocol)**. There are 9 types:<sup id=\"ref04\" class=\"reference\"><a href=\"https://developer.mozilla.org/en-US/docs/Web/HTTP/Methods\" title=\"Mozilla (2023). HTTP request methods. Retrieved from https://developer.mozilla.org/en-US/docs/Web/HTTP/Methods\">[4]</a></sup> "
   ]
  },
  {
   "cell_type": "markdown",
   "metadata": {
    "slideshow": {
     "slide_type": "fragment"
    }
   },
   "source": [
    "- GET\n",
    "- HEAD\n",
    "- POST\n",
    "- PUT\n",
    "- DELETE\n",
    "- CONNECT\n",
    "- OPTIONS\n",
    "- TRACE\n",
    "- PATCH\n"
   ]
  },
  {
   "cell_type": "markdown",
   "metadata": {
    "slideshow": {
     "slide_type": "fragment"
    }
   },
   "source": [
    "</p>\n",
    "<p style=\"font-size:10px\">\n",
    "[3] GeeksforGeeks (2023). Types of Internet Protocols. Retrieved from https://www.geeksforgeeks.org/types-of-internet-protocols/\" <br>\n",
    "[4] Mozilla (2023). HTTP request methods. Retrieved from https://developer.mozilla.org/en-US/docs/Web/HTTP/Methods\" <br>\n",
    "</p>"
   ]
  },
  {
   "cell_type": "markdown",
   "metadata": {
    "slideshow": {
     "slide_type": "subslide"
    }
   },
   "source": [
    "Luckily for us web scrapers, we do not need to memorize all nine types. Ninety nine percent of the time, we will only concern ourselves with **GET** and **POST** requests.\n",
    "\n",
    "- \"The **GET** method requests a representation of the specified resource. Requests using GET should only retrieve data.\"<sup id=\"ref05\" class=\"reference\"><a href=\"https://developer.mozilla.org/en-US/docs/Web/HTTP/Methods\" title=\"Mozilla (2023). HTTP request methods. Retrieved from https://developer.mozilla.org/en-US/docs/Web/HTTP/Methods\">[5]</a></sup> \n",
    "- \"The **POST** method submits an entity to the specified resource, often causing a change in state or side effects on the server.\"<sup id=\"ref06\" class=\"reference\"><a href=\"https://developer.mozilla.org/en-US/docs/Web/HTTP/Methods\" title=\"Mozilla (2023). HTTP request methods. Retrieved from https://developer.mozilla.org/en-US/docs/Web/HTTP/Methods\">[6]</a></sup> \n",
    "\n",
    "Don't worry if you're confused. It's easy to tell which type you need to use. And today, we'll do a demo using both.\n",
    "\n",
    "</p>\n",
    "<p style=\"font-size:10px\">\n",
    "[5] Mozilla (2023). HTTP request methods. Retrieved from https://developer.mozilla.org/en-US/docs/Web/HTTP/Methods\" <br>\n",
    "[6] Ibid. <br>\n",
    "</p>\n"
   ]
  },
  {
   "cell_type": "markdown",
   "metadata": {
    "slideshow": {
     "slide_type": "subslide"
    }
   },
   "source": [
    "## **Accessing a website**\n",
    "\n",
    "When you enter a URL (e.g., www.brookings.edu) into your browser, several things happen:"
   ]
  },
  {
   "cell_type": "markdown",
   "metadata": {
    "slideshow": {
     "slide_type": "fragment"
    }
   },
   "source": [
    "1. DNS lookup\n",
    "2. Initial HTTP request\n",
    "3. Server response\n",
    "4. Parsing HTML + additional requests\n",
    "5. Assembling the page"
   ]
  },
  {
   "cell_type": "markdown",
   "metadata": {
    "slideshow": {
     "slide_type": "subslide"
    }
   },
   "source": [
    "### **Step 1: DNS Lookup**\n",
    "Your browser first translates the human-readable URL (e.g. http://brookings.edu/) into an IP address (e.g. 137.135.107.235) using a Domain Name System (DNS) lookup.<sup id=\"ref07\" class=\"footnote\"><a href=\"\" title=\"Fun fact: we talked about internet protocols in the previous section, but only described HTTP, which is most relevant to this application. DNS is another type of internet protocol.\">[7]</a></sup> \n",
    "\n",
    "Think of the DNS search like the phone book that links a name of a store to a street address. The street address, in this case, is an IP address which points to the server where the website is hosted. <sup id=\"ref08\" class=\"reference\"><a href=\"https://developer.mozilla.org/en-US/docs/Learn/Getting_started_with_the_web/How_the_Web_works\" title=\"Mozilla (2023). How the web works. Retrieved from https://developer.mozilla.org/en-US/docs/Learn/Getting_started_with_the_web/How_the_Web_works\">[8]</a></sup> <sup id=\"ref09\" class=\"reference\"><a href=\"https://www.cloudflare.com/learning/dns/what-is-dns/\" title=\"Cloudflare. What is DNS? Retrieved from https://www.cloudflare.com/learning/dns/what-is-dns/\">[9]</a></sup> \n",
    "</p>\n",
    "<p style=\"font-size:10px\">\n",
    "[7] Fun fact: we talked about internet protocols in the previous section, but only described HTTP, which is most relevant to this application. DNS is another type of internet protocol.\n",
    "[8] Mozilla (2023). How the web works. Retrieved from https://developer.mozilla.org/en-US/docs/Learn/Getting_started_with_the_web/How_the_Web_works\n",
    "<br>\n",
    "[9] Cloudflare. What is DNS? Retrieved from https://www.cloudflare.com/learning/dns/what-is-dns/<br>\n",
    "</p>"
   ]
  },
  {
   "cell_type": "markdown",
   "metadata": {
    "slideshow": {
     "slide_type": "subslide"
    }
   },
   "source": [
    "### **Step 2: HTTP Request**\n",
    "Now that your browser has the IP address of website, it sends an HTTP request to the server at this IP address. This request asks for the main HTML file of the website."
   ]
  },
  {
   "cell_type": "markdown",
   "metadata": {
    "slideshow": {
     "slide_type": "fragment"
    },
    "vscode": {
     "languageId": "powershell"
    }
   },
   "source": [
    "```bash\n",
    "curl -X GET 'https://www.brookings.edu/' \\\n",
    "  -H 'accept: text/html,application/xhtml+xml,application/xml;...' \\\n",
    "  -H 'accept-language: en-US,en;q=0.9' \\\n",
    "  -H 'cookie: _fbp=REDACTED; hubspotutk=REDACTED; ...' \\\n",
    "  -H 'priority: u=0, i' \\\n",
    "  -H 'referer: https://www.google.com/' \\\n",
    "  -H 'sec-ch-ua: \"Google Chrome\";v=\"REDACTED\", \"Chromium\";v=\"REDACTED\", \"Not.A/Brand\";v=\"REDACTED\"' \\\n",
    "  -H 'sec-ch-ua-mobile: ?0' \\\n",
    "  -H 'sec-ch-ua-platform: \"Windows\"' \\\n",
    "  -H 'sec-fetch-dest: document' \\\n",
    "  -H 'sec-fetch-mode: navigate' \\\n",
    "  -H 'sec-fetch-site: cross-site' \\\n",
    "  -H 'sec-fetch-user: ?1' \\\n",
    "  -H 'upgrade-insecure-requests: 1' \\\n",
    "  -H 'user-agent: Mozilla/5.0 (Windows NT 10.0; Win64; x64) AppleWebKit/537.36 (KHTML, like Gecko) Chrome/125.0.0.0 Safari/537.36'\n",
    "```"
   ]
  },
  {
   "cell_type": "markdown",
   "metadata": {
    "slideshow": {
     "slide_type": "fragment"
    }
   },
   "source": [
    "Can you identify what type of request this is?"
   ]
  },
  {
   "cell_type": "markdown",
   "metadata": {
    "slideshow": {
     "slide_type": "subslide"
    }
   },
   "source": [
    "### **Step 3: Server Response**\n",
    "The server processes this request and sends back the requested HTML file. This file contains the basic structure of the webpage."
   ]
  },
  {
   "cell_type": "code",
   "execution_count": null,
   "metadata": {
    "slideshow": {
     "slide_type": "fragment"
    },
    "vscode": {
     "languageId": "html"
    }
   },
   "outputs": [],
   "source": [
    "\n",
    "<!DOCTYPE html>\n",
    "<html lang=\"en-US\">\n",
    "\n",
    "<head>\n",
    "\t<meta charset=\"UTF-8\">\n",
    "\t<meta name=\"viewport\" content=\"width=device-width, initial-scale=1.0, viewport-fit=cover\">\n",
    "\t<meta name='robots' content='index, follow, max-image-preview:large, max-snippet:-1, max-video-preview:-1' />\n",
    "<link rel=\"alternate\" href=\"https://www.brookings.edu/\" hreflang=\"en\" />\n",
    "<link rel=\"alternate\" href=\"https://www.brookings.edu/es/\" hreflang=\"es\" />\n",
    "<link rel=\"alternate\" href=\"https://www.brookings.edu/ar/\" hreflang=\"ar\" />\n",
    "<link rel=\"alternate\" href=\"https://www.brookings.edu/zh/\" hreflang=\"zh\" />\n",
    "<link rel=\"alternate\" href=\"https://www.brookings.edu/fr/\" hreflang=\"fr\" />\n",
    "<link rel=\"alternate\" href=\"https://www.brookings.edu/ko/\" hreflang=\"ko\" />\n",
    "<link rel=\"alternate\" href=\"https://www.brookings.edu/ru/\" hreflang=\"ru\" />\n",
    "\n",
    "\t<!-- This site is optimized with the Yoast SEO plugin v22.0 - https://yoast.com/wordpress/plugins/seo/ -->\n",
    "\t<title>Brookings - Quality. Independence. Impact.</title>\n",
    "\t<meta name=\"description\" content=\"The Brookings Institution is a nonprofit public policy organization based in Washington, DC. Our mission is to conduct in-depth research that leads to new ideas for solving problems facing society at the local, national and global level.\" />\n",
    "\t<link rel=\"canonical\" href=\"https://www.brookings.edu/\" />\n",
    "\t<meta property=\"og:locale\" content=\"en_US\" />"
   ]
  },
  {
   "cell_type": "markdown",
   "metadata": {
    "slideshow": {
     "slide_type": "subslide"
    }
   },
   "source": [
    "### **Step 4: Parsing HTML + additional requests**\n",
    "Your browser starts **parsing** the HTML file: reading its instructions to turn it into a user-friendly webpage. \n",
    "\n",
    "Oftentimes, this code contains references to additional external resources it needs to display the webpage, such as:"
   ]
  },
  {
   "cell_type": "markdown",
   "metadata": {
    "slideshow": {
     "slide_type": "fragment"
    }
   },
   "source": [
    "- **CSS (Cascading Style Sheets)**: To set default aesthetics like fonts, colors, and line spacing\n",
    "- **JavaScript code**: To add interactivity and dynamic content\n",
    "- **Images and videos**: To incorporate multimedia content\n",
    "- **API (Application Programming Interface) responses**: To obtain data from servers, often in JSON format, to display on the webpage"
   ]
  },
  {
   "cell_type": "markdown",
   "metadata": {
    "slideshow": {
     "slide_type": "fragment"
    }
   },
   "source": [
    "As your browser encounters **additional references to files** in the HTML code, it **makes HTTP requests** to the server to retrieve them."
   ]
  },
  {
   "cell_type": "markdown",
   "metadata": {
    "slideshow": {
     "slide_type": "subslide"
    }
   },
   "source": [
    "### **Step 5: Assembling the page**\n",
    "\n",
    "After downloading all the external resources needed to build the webpage, your browser will compile and execute any JavaScript code that it received.\n",
    "\n",
    "With all the downloaded elements in place, the browser processes the HTML, the CSS style sheets, and combines it with other resources (such as downloaded fonts, photos, videos, and data downloaded from APIs) to **paint** the webpage to your screen.<sup id=\"ref05\" class=\"reference\"><a href=\"https://developer.mozilla.org/en-US/docs/Web/Performance/How_browsers_work\" title=\"Mozilla (2023). Populating the page: how browsers work. Retrieved from https://developer.mozilla.org/en-US/docs/Web/Performance/How_browsers_work\">[5]</a></sup> \n",
    "</p>\n",
    "<p style=\"font-size:10px\">\n",
    "[5] Mozilla (2023). Populating the page: how browsers work. Retrieved from https://developer.mozilla.org/en-US/docs/Web/Performance/How_browsers_work\" <br>\n",
    "</p>"
   ]
  },
  {
   "cell_type": "markdown",
   "metadata": {
    "slideshow": {
     "slide_type": "fragment"
    }
   },
   "source": [
    "![An image of the brookings.edu homepage](slides/brookings-edu-screenshot.png)"
   ]
  },
  {
   "cell_type": "markdown",
   "metadata": {
    "slideshow": {
     "slide_type": "slide"
    }
   },
   "source": [
    "# Web Scraping Basics\n",
    "\n",
    "There are several ways to collect data online. The strategy you choose must be catered to the website in question."
   ]
  },
  {
   "cell_type": "markdown",
   "metadata": {
    "slideshow": {
     "slide_type": "subslide"
    }
   },
   "source": [
    "## **Types of web scraping**\n",
    "\n",
    "I like to categorize web data collection techniques by the point in the client-server interaction that they interact."
   ]
  },
  {
   "cell_type": "markdown",
   "metadata": {
    "slideshow": {
     "slide_type": "fragment"
    }
   },
   "source": [
    "1. **DNS lookup**"
   ]
  },
  {
   "cell_type": "markdown",
   "metadata": {
    "slideshow": {
     "slide_type": "fragment"
    }
   },
   "source": [
    "2. **Initial HTTP request**"
   ]
  },
  {
   "cell_type": "markdown",
   "metadata": {
    "slideshow": {
     "slide_type": "fragment"
    }
   },
   "source": [
    "3. **Server response**\n",
    "   - **HTML scraping** parses the main HTML file for the webpage to extract data."
   ]
  },
  {
   "cell_type": "markdown",
   "metadata": {
    "slideshow": {
     "slide_type": "fragment"
    }
   },
   "source": [
    "4. **Parsing HTML + additional requests**\n",
    "   - Technically not classified as \"web scraping,\" **APIs** are a neat way to access data. They are usually requested at this point in the client-server interaction."
   ]
  },
  {
   "cell_type": "markdown",
   "metadata": {
    "slideshow": {
     "slide_type": "fragment"
    }
   },
   "source": [
    "5. **Assembling the page**\n",
    "   - **Selenium** behaves like a browser to view content that is otherwise not available in HTML files, because it is dynamically rendered using JavaScript code."
   ]
  },
  {
   "cell_type": "markdown",
   "metadata": {
    "slideshow": {
     "slide_type": "slide"
    }
   },
   "source": [
    "# Sample code: HTML parsing\n",
    "\n",
    "First, we'll walk through making HTTP requests and parsing HTML."
   ]
  },
  {
   "cell_type": "markdown",
   "metadata": {
    "slideshow": {
     "slide_type": "subslide"
    }
   },
   "source": [
    "\n",
    "If you don't already have these packages installed, start by installing them.\n",
    "\n",
    "Note: It's a best practice to use environments to control package dependencies.<sup id=\"ref10\" class=\"footnote\"><a href=\"https://python-poetry.org/\" title=\"This project uses Poetry: https://python-poetry.org/\">[10]</a></sup> \n",
    "\n",
    "</p>\n",
    "<p style=\"font-size:10px\">\n",
    "[10] This project uses Poetry: https://python-poetry.org/ <br>\n",
    "</p>"
   ]
  },
  {
   "cell_type": "markdown",
   "metadata": {
    "slideshow": {
     "slide_type": "notes"
    }
   },
   "source": [
    "NOTE: If you're following along with this Jupyter notebook in your IDE (such as VSCode or JupyterLab), please skip the following terminal command. Instead, type `poetry shell` into the terminal."
   ]
  },
  {
   "cell_type": "code",
   "execution_count": null,
   "metadata": {
    "slideshow": {
     "slide_type": "fragment"
    },
    "vscode": {
     "languageId": "powershell"
    }
   },
   "outputs": [],
   "source": [
    "pip install requests beautifulsoup4"
   ]
  },
  {
   "cell_type": "markdown",
   "metadata": {
    "slideshow": {
     "slide_type": "fragment"
    }
   },
   "source": [
    "Now we import the needed libraries:"
   ]
  },
  {
   "cell_type": "code",
   "execution_count": 17,
   "metadata": {},
   "outputs": [],
   "source": [
    "import requests\n",
    "from bs4 import BeautifulSoup"
   ]
  },
  {
   "cell_type": "markdown",
   "metadata": {
    "slideshow": {
     "slide_type": "subslide"
    }
   },
   "source": [
    "Time to get scraping. Recall the earlier GET request we saw? It had a lot of information in it, in the form of **headers**."
   ]
  },
  {
   "cell_type": "markdown",
   "metadata": {
    "slideshow": {
     "slide_type": "fragment"
    }
   },
   "source": [
    "```bash\n",
    "curl -X GET 'https://www.brookings.edu/' \\\n",
    "  -H 'accept: text/html,application/xhtml+xml,application/xml;...' \\\n",
    "  -H 'accept-language: en-US,en;q=0.9' \\\n",
    "  -H 'cookie: _fbp=REDACTED; hubspotutk=REDACTED; ...' \\\n",
    "  -H 'priority: u=0, i' \\\n",
    "  -H 'referer: https://www.google.com/' \\\n",
    "  -H 'sec-ch-ua: \"Google Chrome\";v=\"REDACTED\", \"Chromium\";v=\"REDACTED\", \"Not.A/Brand\";v=\"REDACTED\"' \\\n",
    "  -H 'sec-ch-ua-mobile: ?0' \\\n",
    "  -H 'sec-ch-ua-platform: \"Windows\"' \\\n",
    "  -H 'sec-fetch-dest: document' \\\n",
    "  -H 'sec-fetch-mode: navigate' \\\n",
    "  -H 'sec-fetch-site: cross-site' \\\n",
    "  -H 'sec-fetch-user: ?1' \\\n",
    "  -H 'upgrade-insecure-requests: 1' \\\n",
    "  -H 'user-agent: Mozilla/5.0 (Windows NT 10.0; Win64; x64) AppleWebKit/537.36 (KHTML, like Gecko) Chrome/125.0.0.0 Safari/537.36'\n",
    "```"
   ]
  },
  {
   "cell_type": "markdown",
   "metadata": {
    "slideshow": {
     "slide_type": "fragment"
    }
   },
   "source": [
    "As you can see, headers contain quite a bit of information. Unless otherwise required, I tend to keep my headers on the lighter side."
   ]
  },
  {
   "cell_type": "markdown",
   "metadata": {
    "slideshow": {
     "slide_type": "subslide"
    }
   },
   "source": [
    "These are the headers I usually provide in my HTTP requests. Sometimes, I get blocked - in which case, I change the user-agent string slightly.\n",
    "\n",
    "Note that headers must be formatted as a dictionary."
   ]
  },
  {
   "cell_type": "code",
   "execution_count": 2,
   "metadata": {
    "slideshow": {
     "slide_type": "fragment"
    }
   },
   "outputs": [],
   "source": [
    "my_headers = {\n",
    "    'User-Agent': (\n",
    "        'Mozilla/5.0 (Windows NT 10.0; Win64; x64) '\n",
    "        'AppleWebKit/537.36 (KHTML, like Gecko) '\n",
    "        'Chrome/122.0.6261.112 Safari/537.36'\n",
    "    ),\n",
    "    'Accept': (\n",
    "        'text/html,application/xhtml+xml,application/xml;q=0.9,'\n",
    "        'image/avif,image/webp,image/apng,*/*;q=0.8,'\n",
    "        'application/signed-exchange;v=b3;q=0.7'\n",
    "    )\n",
    "}"
   ]
  },
  {
   "cell_type": "markdown",
   "metadata": {
    "slideshow": {
     "slide_type": "subslide"
    }
   },
   "source": [
    "Today, we'll be scraping a website that I created to practice on! Our URL is:\n",
    "https://lorae.github.io/web-scraping-tutorial/"
   ]
  },
  {
   "cell_type": "code",
   "execution_count": 28,
   "metadata": {
    "slideshow": {
     "slide_type": "fragment"
    }
   },
   "outputs": [],
   "source": [
    "my_url = \"https://lorae.github.io/web-scraping-tutorial/\""
   ]
  },
  {
   "cell_type": "markdown",
   "metadata": {
    "slideshow": {
     "slide_type": "fragment"
    }
   },
   "source": [
    "[insert screenshot here]\n",
    "\n",
    "We're interested specifically in scraping the titles and authors of the books that appear on the table in the webpage. \n",
    "\n",
    "In order to do this, we have to first get the HTML file for the website."
   ]
  },
  {
   "cell_type": "markdown",
   "metadata": {
    "slideshow": {
     "slide_type": "subslide"
    }
   },
   "source": [
    "In these next steps, we bundle our arguments together into an instance of the `Request` object from the `requests` library. We then initialize the session, prepare the request for sending, and save the response."
   ]
  },
  {
   "cell_type": "code",
   "execution_count": 29,
   "metadata": {
    "slideshow": {
     "slide_type": "fragment"
    }
   },
   "outputs": [],
   "source": [
    "session_arguments = requests.Request(method='GET', \n",
    "                                     url=my_url, \n",
    "                                     headers=my_headers)\n",
    "session = requests.Session()\n",
    "prepared_request = session.prepare_request(session_arguments)\n",
    "response: requests.Response = session.send(prepared_request)"
   ]
  },
  {
   "cell_type": "markdown",
   "metadata": {
    "slideshow": {
     "slide_type": "fragment"
    }
   },
   "source": [
    "Let's see what the response was. A response code of 200 indicates a successful response, with the server returning the required resource."
   ]
  },
  {
   "cell_type": "code",
   "execution_count": 30,
   "metadata": {
    "slideshow": {
     "slide_type": "fragment"
    }
   },
   "outputs": [
    {
     "name": "stdout",
     "output_type": "stream",
     "text": [
      "200\n"
     ]
    }
   ],
   "source": [
    "print(response.status_code)"
   ]
  },
  {
   "cell_type": "markdown",
   "metadata": {
    "slideshow": {
     "slide_type": "subslide"
    }
   },
   "source": [
    "More interestingly, let's take a peek at the text."
   ]
  },
  {
   "cell_type": "code",
   "execution_count": 31,
   "metadata": {
    "slideshow": {
     "slide_type": "fragment"
    }
   },
   "outputs": [
    {
     "name": "stdout",
     "output_type": "stream",
     "text": [
      "<!DOCTYPE html>\n",
      "<html lang=\"en\">\n",
      "<head>\n",
      "    <meta charset=\"UTF-8\">\n",
      "    <meta name=\"viewport\" content=\"width=device-width, initial-scale=1.0\">\n",
      "    <title>Web Scraping Resources</title>\n",
      "    <link rel=\"stylesheet\" href=\"css/styles.css\">\n",
      "    <link href=\"https://fonts.googleapis.com/css2?family=Roboto:wght@400;700&display=swap\" rel=\"stylesheet\">\n",
      "    <script src=\"https://cdn.jsdelivr.net/npm/chart.js\"></script>\n",
      "    <script src=\"https://cdnjs.cloudflare.com/ajax/libs/PapaParse/5.3.0/papaparse.min.js\"></script>\n",
      "</head>\n",
      "<body>\n",
      "    <h1>Scrape this website!</h1>\n",
      "    <p>Welcome! On this website, you'll find a variety of opportunities to practice your skills web scraping with Python. If you'd like to learn more about how to use this page, please visit my repository, \n",
      "        <a href=\"https://github.com/lorae/web-scraping-tutorial\" target=\"_blank\">lorae/web-scraping-tutorial</a>\n",
      "        .\n",
      "    </p>\n",
      "    <h2>Reading list</h2>\n",
      "    <table>\n",
      "        <tr class=\"header-row\">\n",
      "            <th class=\"header-cell\">Title</th>\n",
      "            <th class=\"header-cell\">Author</th>\n",
      "            <th class=\"header-cell\">Genre</th>\n",
      "            <th class=\"header-cell\">Copies Sold</th>\n",
      "            <th class=\"header-cell\">Publication Year</th>\n",
      "        </tr>\n",
      "        <tr class=\"data-row\">\n",
      "            <td class=\"data-cell title\">The Adventures of Tom Sawyer</td>\n",
      "            <td class=\"data-cell author\">Mark Twain</td>\n",
      "            <td class=\"data-cell genre\">Adventure</td>\n",
      "            <td class=\"data-cell copies-sold\">2,000,000</td>\n",
      "            <td class=\"data-cell publication-year\">1876</td>\n",
      "        </tr>\n",
      "        <tr class=\"data-row\">\n",
      "            <td class=\"data-cell title\">Pride and Prejudice</td>\n",
      "            <td class=\"data-cell author\">Jane Austen</td>\n",
      "            <td class=\"data-cell genre\">Romance</td>\n",
      "            <td class=\"data-cell copies-sold\">20,000,000</td>\n",
      "            <td class=\"data-cell publication-year\">1813</td>\n",
      "        </tr>\n",
      "        <tr class=\"data-row\">\n",
      "            <td class=\"data-cell title\">1984</td>\n",
      "            <td class=\"data-cell author\">George Orwell</td>\n",
      "            <td class=\"data-cell genre\">Dystopian</td>\n",
      "            <td class=\"data-cell copies-sold\">25,000,000</td>\n",
      "            <td class=\"data-cell publication-year\">1949</td>\n",
      "        </tr>\n",
      "        <tr class=\"data-row\">\n",
      "            <td class=\"data-cell title\">The Great Gatsby</td>\n",
      "            <td class=\"data-cell author\">F. Scott Fitzgerald</td>\n",
      "            <td class=\"data-cell genre\">Tragedy</td>\n",
      "            <td class=\"data-cell copies-sold\">15,000,000</td>\n",
      "            <td class=\"data-cell publication-year\">1925</td>\n",
      "        </tr>\n",
      "        <tr class=\"data-row\">\n",
      "            <td class=\"data-cell title\">To Kill a Mockingbird</td>\n",
      "            <td class=\"data-cell author\">Harper Lee</td>\n",
      "            <td class=\"data-cell genre\">Southern Gothic</td>\n",
      "            <td class=\"data-cell copies-sold\">40,000,000</td>\n",
      "            <td class=\"data-cell publication-year\">1960</td>\n",
      "        </tr>\n",
      "        <tr class=\"data-row\">\n",
      "            <td class=\"data-cell title\">Moby-Dick</td>\n",
      "            <td class=\"data-cell author\">Herman Melville</td>\n",
      "            <td class=\"data-cell genre\">Adventure</td>\n",
      "            <td class=\"data-cell copies-sold\">3,000,000</td>\n",
      "            <td class=\"data-cell publication-year\">1851</td>\n",
      "        </tr>\n",
      "        <tr class=\"data-row\">\n",
      "            <td class=\"data-cell title\">War and Peace</td>\n",
      "            <td class=\"data-cell author\">Leo Tolstoy</td>\n",
      "            <td class=\"data-cell genre\">Historical</td>\n",
      "            <td class=\"data-cell copies-sold\">36,000,000</td>\n",
      "            <td class=\"data-cell publication-year\">1869</td>\n",
      "        </tr>\n",
      "        <tr class=\"data-row\">\n",
      "            <td class=\"data-cell title\">Crime and Punishment</td>\n",
      "            <td class=\"data-cell author\">Fyodor Dostoevsky</td>\n",
      "            <td class=\"data-cell genre\">Psychological</td>\n",
      "            <td class=\"data-cell copies-sold\">12,000,000</td>\n",
      "            <td class=\"data-cell publication-year\">1866</td>\n",
      "        </tr>\n",
      "        <tr class=\"data-row\">\n",
      "            <td class=\"data-cell title\">The Catcher in the Rye</td>\n",
      "            <td class=\"data-cell author\">J.D. Salinger</td>\n",
      "            <td class=\"data-cell genre\">Realistic Fiction</td>\n",
      "            <td class=\"data-cell copies-sold\">65,000,000</td>\n",
      "            <td class=\"data-cell publication-year\">1951</td>\n",
      "        </tr>\n",
      "        <tr class=\"data-row\">\n",
      "            <td class=\"data-cell title\">Harry Potter and the Sorcerer's Stone</td>\n",
      "            <td class=\"data-cell author\">J.K. Rowling</td>\n",
      "            <td class=\"data-cell genre\">Fantasy</td>\n",
      "            <td class=\"data-cell copies-sold\">120,000,000</td>\n",
      "            <td class=\"data-cell publication-year\">1997</td>\n",
      "        </tr>\n",
      "        <tr class=\"data-row\">\n",
      "            <td class=\"data-cell title\">The Hobbit</td>\n",
      "            <td class=\"data-cell author\">J.R.R. Tolkien</td>\n",
      "            <td class=\"data-cell genre\">Fantasy</td>\n",
      "            <td class=\"data-cell copies-sold\">100,000,000</td>\n",
      "            <td class=\"data-cell publication-year\">1937</td>\n",
      "        </tr>\n",
      "        <tr class=\"data-row\">\n",
      "            <td class=\"data-cell title\">The Lord of the Rings</td>\n",
      "            <td class=\"data-cell author\">J.R.R. Tolkien</td>\n",
      "            <td class=\"data-cell genre\">Fantasy</td>\n",
      "            <td class=\"data-cell copies-sold\">150,000,000</td>\n",
      "            <td class=\"data-cell publication-year\">1954</td>\n",
      "        </tr>\n",
      "        <tr class=\"data-row\">\n",
      "            <td class=\"data-cell title\">The Chronicles of Narnia</td>\n",
      "            <td class=\"data-cell author\">C.S. Lewis</td>\n",
      "            <td class=\"data-cell genre\">Fantasy</td>\n",
      "            <td class=\"data-cell copies-sold\">85,000,000</td>\n",
      "            <td class=\"data-cell publication-year\">1950</td>\n",
      "        </tr>\n",
      "        <tr class=\"data-row\">\n",
      "            <td class=\"data-cell title\">Anne of Green Gables</td>\n",
      "            <td class=\"data-cell author\">Lucy Maud Montgomery</td>\n",
      "            <td class=\"data-cell genre\">Children's Literature</td>\n",
      "            <td class=\"data-cell copies-sold\">50,000,000</td>\n",
      "            <td class=\"data-cell publication-year\">1908</td>\n",
      "        </tr>\n",
      "    </table>\n",
      "    <h2>Learning resources</h2>\n",
      "    <div class=\"promo-grid__promos\" id=\"resources-container\">\n",
      "        <!-- Data will be populated here -->\n",
      "    </div>\n",
      "    <script>\n",
      "        let resourcesData = [];\n",
      "        \n",
      "        async function fetchResources() {\n",
      "            const response = await fetch('data/web-scraping-resources.json');\n",
      "            resourcesData = await response.json();\n",
      "            displayResources(resourcesData);\n",
      "        }\n",
      "\n",
      "        function displayResources(data) {\n",
      "            const container = document.getElementById('resources-container');\n",
      "            container.innerHTML = '';\n",
      "            data.forEach(resource => {\n",
      "                const card = document.createElement('div');\n",
      "                card.className = 'digest-card';\n",
      "\n",
      "                const topSection = document.createElement('div');\n",
      "                topSection.className = 'digest-card__top';\n",
      "\n",
      "                const image = document.createElement('img');\n",
      "                image.className = 'digest-card__image';\n",
      "                image.src = resource.image;\n",
      "                image.alt = `${resource.title} image`;\n",
      "                topSection.appendChild(image);\n",
      "\n",
      "                const textContainer = document.createElement('div');\n",
      "                textContainer.className = 'digest-card__text';\n",
      "\n",
      "                const title = document.createElement('div');\n",
      "                title.className = 'digest-card__title';\n",
      "                title.innerHTML = `<a href=\"${resource.link}\">${resource.title}</a>`;\n",
      "                textContainer.appendChild(title);\n",
      "\n",
      "                const date = document.createElement('div');\n",
      "                date.className = 'digest-card__date';\n",
      "                date.innerHTML = `<span class=\"digest-card__label\">${resource.date}</span>`;\n",
      "                textContainer.appendChild(date);\n",
      "\n",
      "                const authors = document.createElement('div');\n",
      "                authors.className = 'digest-card__items';\n",
      "                authors.innerHTML = `<span class=\"digest-card__label\">Author(s) - </span>${resource.authors.map(author => `<span><a href=\"${author.link}\">${author.name}</a></span>`).join(', ')}`;\n",
      "                textContainer.appendChild(authors);\n",
      "\n",
      "                topSection.appendChild(textContainer);\n",
      "                card.appendChild(topSection);\n",
      "\n",
      "                const description = document.createElement('div');\n",
      "                description.className = 'digest-card__summary';\n",
      "                description.textContent = resource.description;\n",
      "                card.appendChild(description);\n",
      "\n",
      "                const keywords = document.createElement('div');\n",
      "                keywords.className = 'digest-card__keywords';\n",
      "                keywords.innerHTML = `<span class=\"digest-card__label\">Keywords: </span>${resource.keywords.join(', ')}`;\n",
      "                card.appendChild(keywords);\n",
      "\n",
      "                container.appendChild(card);\n",
      "            });\n",
      "        }\n",
      "\n",
      "        fetchResources();\n",
      "\n",
      "        // Function to fetch and display GDP data\n",
      "        async function fetchGDPData() {\n",
      "            const response = await fetch('data/gdp-data.csv');\n",
      "            const data = await response.text();\n",
      "            const parsedData = Papa.parse(data, { header: true }).data;\n",
      "\n",
      "            const labels = parsedData.map(row => row.Date);\n",
      "            const gdpValues = parsedData.map(row => parseFloat(row.GDP));\n",
      "\n",
      "            const ctx = document.getElementById('gdpChart').getContext('2d');\n",
      "            new Chart(ctx, {\n",
      "                type: 'line',\n",
      "                data: {\n",
      "                    labels: labels,\n",
      "                    datasets: [{\n",
      "                        label: 'US GDP',\n",
      "                        data: gdpValues,\n",
      "                        borderColor: 'rgba(75, 192, 192, 1)',\n",
      "                        backgroundColor: 'rgba(75, 192, 192, 0.2)',\n",
      "                        borderWidth: 1\n",
      "                    }]\n",
      "                },\n",
      "                options: {\n",
      "                    responsive: true,\n",
      "                    scales: {\n",
      "                        x: {\n",
      "                            display: true,\n",
      "                            title: {\n",
      "                                display: true,\n",
      "                                text: 'Year'\n",
      "                            }\n",
      "                        },\n",
      "                        y: {\n",
      "                            display: true,\n",
      "                            title: {\n",
      "                                display: true,\n",
      "                                text: 'GDP (in billions)'\n",
      "                            }\n",
      "                        }\n",
      "                    },\n",
      "                    plugins: {\n",
      "                        tooltip: {\n",
      "                            enabled: true,\n",
      "                            mode: 'nearest',\n",
      "                            intersect: false,\n",
      "                            callbacks: {\n",
      "                                label: function(context) {\n",
      "                                    let label = context.dataset.label || '';\n",
      "                                    if (label) {\n",
      "                                        label += ': ';\n",
      "                                    }\n",
      "                                    if (context.parsed.y !== null) {\n",
      "                                        label += new Intl.NumberFormat('en-US', { style: 'currency', currency: 'USD' }).format(context.parsed.y);\n",
      "                                    }\n",
      "                                    return label;\n",
      "                                }\n",
      "                            }\n",
      "                        }\n",
      "                    }\n",
      "                }\n",
      "            });\n",
      "        }\n",
      "\n",
      "        fetchGDPData();\n",
      "    </script>\n",
      "    <h2>Interactive Graph</h2>\n",
      "    <p>The following graph contains United States nominal Gross Domestic Product data from Q1 1947 to Q1 2024. Data is courtesy of the Federal Reserve Bank of St. Louis \"FRED\" service. </p>\n",
      "    <div class=\"container\">\n",
      "        <canvas id=\"gdpChart\" width=\"400\" height=\"200\"></canvas>\n",
      "        <div class=\"promo-grid__promos\" id=\"resources-container\">\n",
      "            <!-- Data will be populated here -->\n",
      "        </div>\n",
      "    </div>\n",
      "</body>\n",
      "</html>\n",
      "\n"
     ]
    }
   ],
   "source": [
    "print(response.text)"
   ]
  },
  {
   "cell_type": "markdown",
   "metadata": {
    "slideshow": {
     "slide_type": "subslide"
    }
   },
   "source": [
    "Magnificent! We now have the HTML file of the webpage. But now we want to only extract the data of interest. How do we do this?"
   ]
  },
  {
   "cell_type": "markdown",
   "metadata": {
    "slideshow": {
     "slide_type": "fragment"
    }
   },
   "source": [
    "**Inspect element**."
   ]
  },
  {
   "cell_type": "markdown",
   "metadata": {
    "slideshow": {
     "slide_type": "fragment"
    }
   },
   "source": [
    "\n",
    "![Inspect element screenshot](slides/inspect-element-static-screenshot.png)"
   ]
  },
  {
   "cell_type": "markdown",
   "metadata": {
    "slideshow": {
     "slide_type": "subslide"
    }
   },
   "source": [
    "The data we want is contained in a `<tr>` element with class `data-row`. And after further inspection, we find that the title is in a `<td>` child element with classes `data-cell` and `title`. The author is a sibling `<td>` element with classes `data-cell` and `author`.\n",
    "\n",
    "![Inspect sub-element screenshot](slides/inspect-sub-element-static-screenshot.png)"
   ]
  },
  {
   "cell_type": "markdown",
   "metadata": {
    "slideshow": {
     "slide_type": "subslide"
    }
   },
   "source": [
    "Let's parse the HTML of the response from the web server."
   ]
  },
  {
   "cell_type": "code",
   "execution_count": 32,
   "metadata": {},
   "outputs": [
    {
     "name": "stdout",
     "output_type": "stream",
     "text": [
      "<!DOCTYPE html>\n",
      "\n",
      "<html lang=\"en\">\n",
      "<head>\n",
      "<meta charset=\"utf-8\"/>\n",
      "<meta content=\"width=device-width, initial-scale=1.0\" name=\"viewport\"/>\n",
      "<title>Web Scraping Resources</title>\n",
      "<link href=\"css/styles.css\" rel=\"stylesheet\"/>\n",
      "<link href=\"https://fonts.googleapis.com/css2?family=Roboto:wght@400;700&amp;display=swap\" rel=\"stylesheet\"/>\n",
      "<script src=\"https://cdn.jsdelivr.net/npm/chart.js\"></script>\n",
      "<script src=\"https://cdnjs.cloudflare.com/ajax/libs/PapaParse/5.3.0/papaparse.min.js\"></script>\n",
      "</head>\n",
      "<body>\n",
      "<h1>Scrape this website!</h1>\n",
      "<p>Welcome! On this website, you'll find a variety of opportunities to practice your skills web scraping with Python. If you'd like to learn more about how to use this page, please visit my repository, \n",
      "        <a href=\"https://github.com/lorae/web-scraping-tutorial\" target=\"_blank\">lorae/web-scraping-tutorial</a>\n",
      "        .\n",
      "    </p>\n",
      "<h2>Reading list</h2>\n",
      "<table>\n",
      "<tr class=\"header-row\">\n",
      "<th class=\"header-cell\">Title</th>\n",
      "<th class=\"header-cell\">Author</th>\n",
      "<th class=\"header-cell\">Genre</th>\n",
      "<th class=\"header-cell\">Copies Sold</th>\n",
      "<th class=\"header-cell\">Publication Year</th>\n",
      "</tr>\n",
      "<tr class=\"data-row\">\n",
      "<td class=\"data-cell title\">The Adventures of Tom Sawyer</td>\n",
      "<td class=\"data-cell author\">Mark Twain</td>\n",
      "<td class=\"data-cell genre\">Adventure</td>\n",
      "<td class=\"data-cell copies-sold\">2,000,000</td>\n",
      "<td class=\"data-cell publication-year\">1876</td>\n",
      "</tr>\n",
      "<tr class=\"data-row\">\n",
      "<td class=\"data-cell title\">Pride and Prejudice</td>\n",
      "<td class=\"data-cell author\">Jane Austen</td>\n",
      "<td class=\"data-cell genre\">Romance</td>\n",
      "<td class=\"data-cell copies-sold\">20,000,000</td>\n",
      "<td class=\"data-cell publication-year\">1813</td>\n",
      "</tr>\n",
      "<tr class=\"data-row\">\n",
      "<td class=\"data-cell title\">1984</td>\n",
      "<td class=\"data-cell author\">George Orwell</td>\n",
      "<td class=\"data-cell genre\">Dystopian</td>\n",
      "<td class=\"data-cell copies-sold\">25,000,000</td>\n",
      "<td class=\"data-cell publication-year\">1949</td>\n",
      "</tr>\n",
      "<tr class=\"data-row\">\n",
      "<td class=\"data-cell title\">The Great Gatsby</td>\n",
      "<td class=\"data-cell author\">F. Scott Fitzgerald</td>\n",
      "<td class=\"data-cell genre\">Tragedy</td>\n",
      "<td class=\"data-cell copies-sold\">15,000,000</td>\n",
      "<td class=\"data-cell publication-year\">1925</td>\n",
      "</tr>\n",
      "<tr class=\"data-row\">\n",
      "<td class=\"data-cell title\">To Kill a Mockingbird</td>\n",
      "<td class=\"data-cell author\">Harper Lee</td>\n",
      "<td class=\"data-cell genre\">Southern Gothic</td>\n",
      "<td class=\"data-cell copies-sold\">40,000,000</td>\n",
      "<td class=\"data-cell publication-year\">1960</td>\n",
      "</tr>\n",
      "<tr class=\"data-row\">\n",
      "<td class=\"data-cell title\">Moby-Dick</td>\n",
      "<td class=\"data-cell author\">Herman Melville</td>\n",
      "<td class=\"data-cell genre\">Adventure</td>\n",
      "<td class=\"data-cell copies-sold\">3,000,000</td>\n",
      "<td class=\"data-cell publication-year\">1851</td>\n",
      "</tr>\n",
      "<tr class=\"data-row\">\n",
      "<td class=\"data-cell title\">War and Peace</td>\n",
      "<td class=\"data-cell author\">Leo Tolstoy</td>\n",
      "<td class=\"data-cell genre\">Historical</td>\n",
      "<td class=\"data-cell copies-sold\">36,000,000</td>\n",
      "<td class=\"data-cell publication-year\">1869</td>\n",
      "</tr>\n",
      "<tr class=\"data-row\">\n",
      "<td class=\"data-cell title\">Crime and Punishment</td>\n",
      "<td class=\"data-cell author\">Fyodor Dostoevsky</td>\n",
      "<td class=\"data-cell genre\">Psychological</td>\n",
      "<td class=\"data-cell copies-sold\">12,000,000</td>\n",
      "<td class=\"data-cell publication-year\">1866</td>\n",
      "</tr>\n",
      "<tr class=\"data-row\">\n",
      "<td class=\"data-cell title\">The Catcher in the Rye</td>\n",
      "<td class=\"data-cell author\">J.D. Salinger</td>\n",
      "<td class=\"data-cell genre\">Realistic Fiction</td>\n",
      "<td class=\"data-cell copies-sold\">65,000,000</td>\n",
      "<td class=\"data-cell publication-year\">1951</td>\n",
      "</tr>\n",
      "<tr class=\"data-row\">\n",
      "<td class=\"data-cell title\">Harry Potter and the Sorcerer's Stone</td>\n",
      "<td class=\"data-cell author\">J.K. Rowling</td>\n",
      "<td class=\"data-cell genre\">Fantasy</td>\n",
      "<td class=\"data-cell copies-sold\">120,000,000</td>\n",
      "<td class=\"data-cell publication-year\">1997</td>\n",
      "</tr>\n",
      "<tr class=\"data-row\">\n",
      "<td class=\"data-cell title\">The Hobbit</td>\n",
      "<td class=\"data-cell author\">J.R.R. Tolkien</td>\n",
      "<td class=\"data-cell genre\">Fantasy</td>\n",
      "<td class=\"data-cell copies-sold\">100,000,000</td>\n",
      "<td class=\"data-cell publication-year\">1937</td>\n",
      "</tr>\n",
      "<tr class=\"data-row\">\n",
      "<td class=\"data-cell title\">The Lord of the Rings</td>\n",
      "<td class=\"data-cell author\">J.R.R. Tolkien</td>\n",
      "<td class=\"data-cell genre\">Fantasy</td>\n",
      "<td class=\"data-cell copies-sold\">150,000,000</td>\n",
      "<td class=\"data-cell publication-year\">1954</td>\n",
      "</tr>\n",
      "<tr class=\"data-row\">\n",
      "<td class=\"data-cell title\">The Chronicles of Narnia</td>\n",
      "<td class=\"data-cell author\">C.S. Lewis</td>\n",
      "<td class=\"data-cell genre\">Fantasy</td>\n",
      "<td class=\"data-cell copies-sold\">85,000,000</td>\n",
      "<td class=\"data-cell publication-year\">1950</td>\n",
      "</tr>\n",
      "<tr class=\"data-row\">\n",
      "<td class=\"data-cell title\">Anne of Green Gables</td>\n",
      "<td class=\"data-cell author\">Lucy Maud Montgomery</td>\n",
      "<td class=\"data-cell genre\">Children's Literature</td>\n",
      "<td class=\"data-cell copies-sold\">50,000,000</td>\n",
      "<td class=\"data-cell publication-year\">1908</td>\n",
      "</tr>\n",
      "</table>\n",
      "<h2>Learning resources</h2>\n",
      "<div class=\"promo-grid__promos\" id=\"resources-container\">\n",
      "<!-- Data will be populated here -->\n",
      "</div>\n",
      "<script>\n",
      "        let resourcesData = [];\n",
      "        \n",
      "        async function fetchResources() {\n",
      "            const response = await fetch('data/web-scraping-resources.json');\n",
      "            resourcesData = await response.json();\n",
      "            displayResources(resourcesData);\n",
      "        }\n",
      "\n",
      "        function displayResources(data) {\n",
      "            const container = document.getElementById('resources-container');\n",
      "            container.innerHTML = '';\n",
      "            data.forEach(resource => {\n",
      "                const card = document.createElement('div');\n",
      "                card.className = 'digest-card';\n",
      "\n",
      "                const topSection = document.createElement('div');\n",
      "                topSection.className = 'digest-card__top';\n",
      "\n",
      "                const image = document.createElement('img');\n",
      "                image.className = 'digest-card__image';\n",
      "                image.src = resource.image;\n",
      "                image.alt = `${resource.title} image`;\n",
      "                topSection.appendChild(image);\n",
      "\n",
      "                const textContainer = document.createElement('div');\n",
      "                textContainer.className = 'digest-card__text';\n",
      "\n",
      "                const title = document.createElement('div');\n",
      "                title.className = 'digest-card__title';\n",
      "                title.innerHTML = `<a href=\"${resource.link}\">${resource.title}</a>`;\n",
      "                textContainer.appendChild(title);\n",
      "\n",
      "                const date = document.createElement('div');\n",
      "                date.className = 'digest-card__date';\n",
      "                date.innerHTML = `<span class=\"digest-card__label\">${resource.date}</span>`;\n",
      "                textContainer.appendChild(date);\n",
      "\n",
      "                const authors = document.createElement('div');\n",
      "                authors.className = 'digest-card__items';\n",
      "                authors.innerHTML = `<span class=\"digest-card__label\">Author(s) - </span>${resource.authors.map(author => `<span><a href=\"${author.link}\">${author.name}</a></span>`).join(', ')}`;\n",
      "                textContainer.appendChild(authors);\n",
      "\n",
      "                topSection.appendChild(textContainer);\n",
      "                card.appendChild(topSection);\n",
      "\n",
      "                const description = document.createElement('div');\n",
      "                description.className = 'digest-card__summary';\n",
      "                description.textContent = resource.description;\n",
      "                card.appendChild(description);\n",
      "\n",
      "                const keywords = document.createElement('div');\n",
      "                keywords.className = 'digest-card__keywords';\n",
      "                keywords.innerHTML = `<span class=\"digest-card__label\">Keywords: </span>${resource.keywords.join(', ')}`;\n",
      "                card.appendChild(keywords);\n",
      "\n",
      "                container.appendChild(card);\n",
      "            });\n",
      "        }\n",
      "\n",
      "        fetchResources();\n",
      "\n",
      "        // Function to fetch and display GDP data\n",
      "        async function fetchGDPData() {\n",
      "            const response = await fetch('data/gdp-data.csv');\n",
      "            const data = await response.text();\n",
      "            const parsedData = Papa.parse(data, { header: true }).data;\n",
      "\n",
      "            const labels = parsedData.map(row => row.Date);\n",
      "            const gdpValues = parsedData.map(row => parseFloat(row.GDP));\n",
      "\n",
      "            const ctx = document.getElementById('gdpChart').getContext('2d');\n",
      "            new Chart(ctx, {\n",
      "                type: 'line',\n",
      "                data: {\n",
      "                    labels: labels,\n",
      "                    datasets: [{\n",
      "                        label: 'US GDP',\n",
      "                        data: gdpValues,\n",
      "                        borderColor: 'rgba(75, 192, 192, 1)',\n",
      "                        backgroundColor: 'rgba(75, 192, 192, 0.2)',\n",
      "                        borderWidth: 1\n",
      "                    }]\n",
      "                },\n",
      "                options: {\n",
      "                    responsive: true,\n",
      "                    scales: {\n",
      "                        x: {\n",
      "                            display: true,\n",
      "                            title: {\n",
      "                                display: true,\n",
      "                                text: 'Year'\n",
      "                            }\n",
      "                        },\n",
      "                        y: {\n",
      "                            display: true,\n",
      "                            title: {\n",
      "                                display: true,\n",
      "                                text: 'GDP (in billions)'\n",
      "                            }\n",
      "                        }\n",
      "                    },\n",
      "                    plugins: {\n",
      "                        tooltip: {\n",
      "                            enabled: true,\n",
      "                            mode: 'nearest',\n",
      "                            intersect: false,\n",
      "                            callbacks: {\n",
      "                                label: function(context) {\n",
      "                                    let label = context.dataset.label || '';\n",
      "                                    if (label) {\n",
      "                                        label += ': ';\n",
      "                                    }\n",
      "                                    if (context.parsed.y !== null) {\n",
      "                                        label += new Intl.NumberFormat('en-US', { style: 'currency', currency: 'USD' }).format(context.parsed.y);\n",
      "                                    }\n",
      "                                    return label;\n",
      "                                }\n",
      "                            }\n",
      "                        }\n",
      "                    }\n",
      "                }\n",
      "            });\n",
      "        }\n",
      "\n",
      "        fetchGDPData();\n",
      "    </script>\n",
      "<h2>Interactive Graph</h2>\n",
      "<p>The following graph contains United States nominal Gross Domestic Product data from Q1 1947 to Q1 2024. Data is courtesy of the Federal Reserve Bank of St. Louis \"FRED\" service. </p>\n",
      "<div class=\"container\">\n",
      "<canvas height=\"200\" id=\"gdpChart\" width=\"400\"></canvas>\n",
      "<div class=\"promo-grid__promos\" id=\"resources-container\">\n",
      "<!-- Data will be populated here -->\n",
      "</div>\n",
      "</div>\n",
      "</body>\n",
      "</html>\n",
      "\n"
     ]
    }
   ],
   "source": [
    "soup = BeautifulSoup(response.content, 'html.parser')\n",
    "print(soup)"
   ]
  },
  {
   "cell_type": "markdown",
   "metadata": {
    "slideshow": {
     "slide_type": "subslide"
    }
   },
   "source": [
    "Once it's a BeautifulSoup object, it's pretty easy to get the data you want. The key is selecting the right elements using the correct tags. \n",
    "\n",
    "We'll use `for` loops for this."
   ]
  },
  {
   "cell_type": "code",
   "execution_count": 54,
   "metadata": {
    "slideshow": {
     "slide_type": "subslide"
    }
   },
   "outputs": [
    {
     "name": "stdout",
     "output_type": "stream",
     "text": [
      "['The Adventures of Tom Sawyer', 'Pride and Prejudice', '1984', 'The Great Gatsby', 'To Kill a Mockingbird', 'Moby-Dick', 'War and Peace', 'Crime and Punishment', 'The Catcher in the Rye', \"Harry Potter and the Sorcerer's Stone\", 'The Hobbit', 'The Lord of the Rings', 'The Chronicles of Narnia', 'Anne of Green Gables']\n",
      "['Mark Twain', 'Jane Austen', 'George Orwell', 'F. Scott Fitzgerald', 'Harper Lee', 'Herman Melville', 'Leo Tolstoy', 'Fyodor Dostoevsky', 'J.D. Salinger', 'J.K. Rowling', 'J.R.R. Tolkien', 'J.R.R. Tolkien', 'C.S. Lewis', 'Lucy Maud Montgomery']\n"
     ]
    }
   ],
   "source": [
    "# Select elements corresponding to table rows\n",
    "elements = soup.select('tr.data-row')\n",
    "\n",
    "# Initialize lists for data output\n",
    "Titles = []\n",
    "Authors = []\n",
    "\n",
    "for el in elements:\n",
    "    title = el.find('td', class_='title').text\n",
    "    author = el.find('td', class_='author').text\n",
    "    \n",
    "    # Add data to lists\n",
    "    Titles.append(title)\n",
    "    Authors.append(author)\n",
    "\n",
    "print(Titles)\n",
    "print(Authors)"
   ]
  },
  {
   "cell_type": "markdown",
   "metadata": {
    "slideshow": {
     "slide_type": "subslide"
    }
   },
   "source": [
    "Wow, we're pros! Should we try another one? Let's get titles and links of learning resources listed on the website. First we **inspect element** to find the element and class:\n",
    "\n",
    "![Inspect element screenshot](slides/inspect-element-javascript-screenshot.png)"
   ]
  },
  {
   "cell_type": "markdown",
   "metadata": {
    "slideshow": {
     "slide_type": "subslide"
    }
   },
   "source": [
    "Then we determine that our data in question is in a `<div>` element with class `digest-card`. The title is in a child `<div>` element with class `digest-card__title`.\n",
    "\n",
    "![Inspect sub-element screenshot](slides/inspect-sub-element-javascript-screenshot.png)"
   ]
  },
  {
   "cell_type": "code",
   "execution_count": 55,
   "metadata": {
    "slideshow": {
     "slide_type": "subslide"
    }
   },
   "outputs": [
    {
     "name": "stdout",
     "output_type": "stream",
     "text": [
      "[]\n",
      "[]\n"
     ]
    }
   ],
   "source": [
    "# Scrape titles and links\n",
    "elements = soup.select('div.digest-card__title a')\n",
    "# Initialize lists\n",
    "Titles = []\n",
    "Links = []\n",
    "for el in elements:\n",
    "    print(el)\n",
    "    # Obtain the link to the resource\n",
    "    link =  el['href'] # 'href' is a HTML lingo for hyperlinks.\n",
    "    # Obtain the title of the resource\n",
    "    title = el.text\n",
    "\n",
    "    # Append the entries to each list\n",
    "    Titles.append(title)\n",
    "    Links.append(link)\n",
    "\n",
    "# Print the results\n",
    "print(Titles)\n",
    "print(Links)"
   ]
  },
  {
   "cell_type": "markdown",
   "metadata": {
    "slideshow": {
     "slide_type": "fragment"
    }
   },
   "source": [
    "Why didn't this work?"
   ]
  },
  {
   "cell_type": "markdown",
   "metadata": {
    "slideshow": {
     "slide_type": "subslide"
    }
   },
   "source": [
    "This part of the webpage is rendered using JavaScript! This is becoming an increasingly common occurence on today's web, which is why pure HTML scraping is becoming less and less feasible.\n",
    "\n",
    "How do you know JavaScript is the culprit?"
   ]
  },
  {
   "cell_type": "markdown",
   "metadata": {
    "slideshow": {
     "slide_type": "fragment"
    }
   },
   "source": [
    "- your code has no syntax errors yet doesn't pick up elements from the HTML code\n",
    "- **View page source** shows no hard-coded elements\n",
    "- **Network requests** reveal the JavaScript files used to populate the page"
   ]
  },
  {
   "cell_type": "markdown",
   "metadata": {
    "slideshow": {
     "slide_type": "slide"
    }
   },
   "source": [
    "# Sample code: Selenium\n",
    "\n",
    "Selenium is a tool in Python (and many other programming languages) that allows users to access dynamic web content by automating web browser interactions. It simulates a real user browsing the web, which enables it to handle JavaScript-rendered content and other dynamic elements that static network requests cannot easily capture."
   ]
  },
  {
   "cell_type": "markdown",
   "metadata": {
    "slideshow": {
     "slide_type": "subslide"
    }
   },
   "source": [
    "## But first, a note...\n",
    "\n",
    "Selenium is just a tool to *get* an HTML file. Once you obtain the file, you parse it exactly the same way as we did in the previous section: using a tool of choice, like Beautiful Soup.\n",
    "\n",
    "You've already learned the gritty basics of HTML parsing. The hard part in this section is setting up the web driver."
   ]
  },
  {
   "cell_type": "markdown",
   "metadata": {},
   "source": [
    "## Live demo\n",
    "\n",
    "Follow along with this code: [LINK HERE!!!]"
   ]
  },
  {
   "cell_type": "markdown",
   "metadata": {
    "slideshow": {
     "slide_type": "slide"
    },
    "vscode": {
     "languageId": "plaintext"
    }
   },
   "source": [
    "# 5. Additional Resources\n",
    "Links to resources (both internal Brookings resources and publicly available ones) that will provide additional context/training."
   ]
  },
  {
   "cell_type": "markdown",
   "metadata": {
    "slideshow": {
     "slide_type": "notes"
    }
   },
   "source": [
    "Note to self: Make the slides some sort of table that easily indicate which resources are internal and which aren't"
   ]
  },
  {
   "cell_type": "markdown",
   "metadata": {
    "slideshow": {
     "slide_type": "subslide"
    }
   },
   "source": [
    "## If you want a light introduction to web scraping\n",
    "[DistrictDataLabs/brookings](https://github.com/DistrictDataLabs/brookings/) **Publicly available** GitHub repository presented to Brookings Data Network on March 31, 2017 which has slides and sample code. The resource is older, but the concepts are still relevant. [NOTE: I haven't tested the code, so I'm not sure if it still works]\n",
    "\n",
    "Keywords: Publicly available datasets, common data formats, RESTful APIs, HTTP requests, web scraping vs web crawling"
   ]
  },
  {
   "cell_type": "markdown",
   "metadata": {},
   "source": [
    "## If you want a more involved introduction to web scraping\n",
    "[trainingNotebook.ipynb](https://brookingsinstitution.sharepoint.com/:f:/r/sites/BrookingsDataNetwork/Shared%20Documents/Python/2017-05%20-%20Getting%20Started%20with%20Web%20Scraping?csf=1&web=1&e=d2sfux) Curtlyn Kramer's **Brookings internal** Jupyter notebook, presented to the Brookings Data Network on May 26, 2017. This is only useful if the code works, so I will have to test if the code works. If it does, then this is a helpful Jupyter notebook that walks you through the steps.\n",
    "\n",
    "Keywords: inspect element, BeautifulSoup4, "
   ]
  },
  {
   "cell_type": "markdown",
   "metadata": {
    "slideshow": {
     "slide_type": "slide"
    }
   },
   "source": [
    "## Extra material goes down here"
   ]
  },
  {
   "cell_type": "markdown",
   "metadata": {},
   "source": [
    "\n",
    "### What is a web browser?\n",
    "A web browser - like Chrome, Safari, Edge, or Firefox - is a specialized software designed to fetch and display web resources. Web resources are usually in the form of HTML documents, but can also be PDFs, images, or other documents. \n"
   ]
  },
  {
   "cell_type": "markdown",
   "metadata": {
    "slideshow": {
     "slide_type": "fragment"
    }
   },
   "source": [
    "**Web scraping**: The act of systematically extracting data from an online resource, such as a website.\n",
    "**Web crawling**: (use the explanation given by District Data Lab on /brookings repo)"
   ]
  }
 ],
 "metadata": {
  "kernelspec": {
   "display_name": "advanced-web-scraping-kZIQxOht-py3.11",
   "language": "python",
   "name": "python3"
  },
  "language_info": {
   "codemirror_mode": {
    "name": "ipython",
    "version": 3
   },
   "file_extension": ".py",
   "mimetype": "text/x-python",
   "name": "python",
   "nbconvert_exporter": "python",
   "pygments_lexer": "ipython3",
   "version": "3.11.0"
  }
 },
 "nbformat": 4,
 "nbformat_minor": 2
}
