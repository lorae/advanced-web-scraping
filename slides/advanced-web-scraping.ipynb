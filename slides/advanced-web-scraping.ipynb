{
 "cells": [
  {
   "cell_type": "markdown",
   "metadata": {
    "slideshow": {
     "slide_type": "notes"
    }
   },
   "source": [
    "To serve this slide deck, run the following line in the terminal or PowerShell:"
   ]
  },
  {
   "cell_type": "code",
   "execution_count": null,
   "metadata": {
    "slideshow": {
     "slide_type": "notes"
    },
    "vscode": {
     "languageId": "powershell"
    }
   },
   "outputs": [],
   "source": [
    "jupyter nbconvert 'slides/advanced-web-scraping.ipynb' --to slides --output='../advanced-web-scraping'"
   ]
  },
  {
   "cell_type": "markdown",
   "metadata": {
    "slideshow": {
     "slide_type": "slide"
    }
   },
   "source": [
    "# Advanced Web Scraping with Python\n",
    "\n",
    "<br>\n",
    "\n",
    "### Lorae Stojanovic\n",
    "\n",
    "<br>\n",
    "\n",
    "Welcome! We will start shortly."
   ]
  },
  {
   "cell_type": "markdown",
   "metadata": {
    "slideshow": {
     "slide_type": "slide"
    },
    "vscode": {
     "languageId": "plaintext"
    }
   },
   "source": [
    "# Agenda\n",
    "1. Internet basics(#/2)\n",
    "2. [Review: Web Scraping Basics](#/3)\n",
    "2. Selenium\n",
    "3. API Scraping\n",
    "4. Automating a web scrape with GitHub Actions\n",
    "4. Demo\n",
    "5. [Additional Resources](#/3)"
   ]
  },
  {
   "cell_type": "markdown",
   "metadata": {
    "slideshow": {
     "slide_type": "fragment"
    }
   },
   "source": [
    "**Web scraping**: The act of systematically extracting data from an online resource, such as a website.\n",
    "**Web crawling**: (use the explanation given by District Data Lab on /brookings repo)"
   ]
  },
  {
   "cell_type": "markdown",
   "metadata": {
    "slideshow": {
     "slide_type": "slide"
    }
   },
   "source": [
    "# 1. Internet Basics"
   ]
  },
  {
   "cell_type": "markdown",
   "metadata": {},
   "source": [
    "## But first, some terminology..."
   ]
  },
  {
   "cell_type": "markdown",
   "metadata": {
    "slideshow": {
     "slide_type": "subslide"
    }
   },
   "source": [
    "**Client**: \"Clients are the typical web user's internet-connected devices (for example, your computer connected to your Wi-Fi, or your phone connected to your mobile network) and web-accessing software available on those devices (usually a web browser like Firefox or Chrome).\"\n",
    "\n",
    "**Server**: \"Servers are computers that store webpages, sites, or apps. When a client device wants to access a webpage, a copy of the webpage is downloaded from the server onto the client machine to be displayed in the user's web browser.\""
   ]
  },
  {
   "cell_type": "markdown",
   "metadata": {
    "slideshow": {
     "slide_type": "subslide"
    }
   },
   "source": [
    "## How does a website work?\n",
    "When you enter a URL (e.g., www.brookings.edu) into your browser, several things happen:"
   ]
  },
  {
   "cell_type": "markdown",
   "metadata": {
    "slideshow": {
     "slide_type": "fragment"
    }
   },
   "source": [
    "1. **DNS Lookup**\n",
    "2. **HTTP Request**\n",
    "3. **Server Response**\n",
    "4. **Rendering HTML**\n",
    "5. **Additional Requests**\n",
    "6. **Assembling the Page**"
   ]
  },
  {
   "cell_type": "markdown",
   "metadata": {
    "slideshow": {
     "slide_type": "subslide"
    }
   },
   "source": [
    "### **Step 1: DNS Lookup**\n",
    "Your browser first translates the human-readable URL (e.g. http://brookings.edu/) into an IP address (e.g. 137.135.107.235) using a Domain Name System (DNS) lookup. \n",
    "\n",
    "Think of the DNS search like the phone book that links a name of a store to a street address. The street address, in this case, is an IP address which points to the server where the website is hosted. <sup id=\"ref01\" class=\"reference\"><a href=\"https://developer.mozilla.org/en-US/docs/Learn/Getting_started_with_the_web/How_the_Web_works\" title=\"Mozilla (2023). How the web works. Retrieved from https://developer.mozilla.org/en-US/docs/Learn/Getting_started_with_the_web/How_the_Web_works\">[1]</a></sup> <sup id=\"ref02\" class=\"reference\"><a href=\"https://www.cloudflare.com/learning/dns/what-is-dns/\" title=\"Cloudflare. What is DNS? Retrieved from https://www.cloudflare.com/learning/dns/what-is-dns/\">[2]</a></sup> \n",
    "</p>\n",
    "<p style=\"font-size:10px\">\n",
    "[1] Mozilla (2023). How the web works. Retrieved from https://developer.mozilla.org/en-US/docs/Learn/Getting_started_with_the_web/How_the_Web_works\n",
    "<br>\n",
    "[2] Cloudflare. What is DNS? Retrieved from https://www.cloudflare.com/learning/dns/what-is-dns/<br>\n",
    "</p>"
   ]
  },
  {
   "cell_type": "markdown",
   "metadata": {},
   "source": []
  },
  {
   "cell_type": "markdown",
   "metadata": {
    "slideshow": {
     "slide_type": "subslide"
    }
   },
   "source": [
    "# Slide 1\n",
    "\n",
    "<div>\n",
    "  <p>This is some text on the slide.<sup id=\"ref01\" class=\"reference\"><a href=\"#\" title=\"Full citation: Author, A. (Year). Title. Journal, Volume(Issue), pages.\">[1]</a></sup></p>\n",
    "  <p><a href=\"#\" title=\"Full citation: Author, A. (Year). Title. Journal, Volume(Issue), pages.\">Source</a></p>\n",
    "  <p style=\"font-size:10px\">[1] Author, A. (Year). Title. Journal, Volume(Issue), pages.</p>\n",
    "</div>"
   ]
  },
  {
   "cell_type": "markdown",
   "metadata": {
    "slideshow": {
     "slide_type": "subslide"
    }
   },
   "source": [
    "2. **HTTP Request**:\n",
    "   - Now that your browser has the IP address of website, it sends an HTTP (HyperText Transfer Protocol) request to the server at this IP address. This request asks for the main HTML file of the website."
   ]
  },
  {
   "cell_type": "code",
   "execution_count": null,
   "metadata": {
    "slideshow": {
     "slide_type": "fragment"
    },
    "vscode": {
     "languageId": "html"
    }
   },
   "outputs": [],
   "source": [
    "\n",
    "<!DOCTYPE html>\n",
    "<html lang=\"en-US\">\n",
    "\n",
    "<head>\n",
    "\t<meta charset=\"UTF-8\">\n",
    "\t<meta name=\"viewport\" content=\"width=device-width, initial-scale=1.0, viewport-fit=cover\">\n",
    "\t<meta name='robots' content='index, follow, max-image-preview:large, max-snippet:-1, max-video-preview:-1' />\n",
    "<link rel=\"alternate\" href=\"https://www.brookings.edu/\" hreflang=\"en\" />\n",
    "<link rel=\"alternate\" href=\"https://www.brookings.edu/es/\" hreflang=\"es\" />\n",
    "<link rel=\"alternate\" href=\"https://www.brookings.edu/ar/\" hreflang=\"ar\" />\n",
    "<link rel=\"alternate\" href=\"https://www.brookings.edu/zh/\" hreflang=\"zh\" />\n",
    "<link rel=\"alternate\" href=\"https://www.brookings.edu/fr/\" hreflang=\"fr\" />\n",
    "<link rel=\"alternate\" href=\"https://www.brookings.edu/ko/\" hreflang=\"ko\" />\n",
    "<link rel=\"alternate\" href=\"https://www.brookings.edu/ru/\" hreflang=\"ru\" />\n",
    "\n",
    "\t<!-- This site is optimized with the Yoast SEO plugin v22.0 - https://yoast.com/wordpress/plugins/seo/ -->\n",
    "\t<title>Brookings - Quality. Independence. Impact.</title>\n",
    "\t<meta name=\"description\" content=\"The Brookings Institution is a nonprofit public policy organization based in Washington, DC. Our mission is to conduct in-depth research that leads to new ideas for solving problems facing society at the local, national and global level.\" />\n",
    "\t<link rel=\"canonical\" href=\"https://www.brookings.edu/\" />\n",
    "\t<meta property=\"og:locale\" content=\"en_US\" />\n",
    "\t<meta property=\"og:locale:alternate\" content=\"es_MX\" />\n",
    "\t<meta property=\"og:locale:alternate\" content=\"ar_AR\" />\n",
    "\t<meta property=\"og:locale:alternate\" content=\"zh_CN\" />\n",
    "\t<meta property=\"og:locale:alternate\" content=\"fr_FR\" />\n",
    "\t<meta property=\"og:locale:alternate\" content=\"ko_KR\" />\n",
    "\t<meta property=\"og:locale:alternate\" content=\"ru_RU\" />"
   ]
  },
  {
   "cell_type": "markdown",
   "metadata": {
    "slideshow": {
     "slide_type": "fragment"
    }
   },
   "source": [
    "3. **Server Response**:\n",
    "   - The server processes this request and sends back the requested HTML file. This file contains the basic structure of the webpage (We'll look at an example of one of these)"
   ]
  },
  {
   "cell_type": "markdown",
   "metadata": {
    "slideshow": {
     "slide_type": "subslide"
    }
   },
   "source": [
    "4. **Rendering HTML**:\n",
    "   - Your browser starts rendering the HTML file, which often includes references to other resources like CSS files, JavaScript files, images, fonts, and videos."
   ]
  },
  {
   "cell_type": "markdown",
   "metadata": {
    "slideshow": {
     "slide_type": "fragment"
    }
   },
   "source": [
    "5. **Additional Requests**:\n",
    "   - For each of these additional resources, the browser makes more HTTP requests to the server. For example:\n",
    "     - **CSS Files**: To style the webpage.\n",
    "     - **JavaScript Files**: To add interactivity and dynamic content.\n",
    "     - **Images and Videos**: To include multimedia content.\n",
    "     - **APIs**: Sometimes, the HTML or JavaScript code includes API requests. APIs (Application Programming Interfaces) allow the browser to request and receive data from servers, often in JSON format, which can then be dynamically displayed on the webpage.\n"
   ]
  },
  {
   "cell_type": "markdown",
   "metadata": {
    "slideshow": {
     "slide_type": "fragment"
    }
   },
   "source": [
    "6. **Assembling the Page**:\n",
    "   - The browser assembles all these elements and displays the fully rendered webpage to you."
   ]
  },
  {
   "cell_type": "markdown",
   "metadata": {
    "slideshow": {
     "slide_type": "fragment"
    }
   },
   "source": [
    "Sources used in this slide:\n",
    "Tali Garsiel, \"Behind the scenes of modern web browsers\" (2011) https://taligarsiel.com/Projects/howbrowserswork1.htm\n",
    "- a bit outdated, but still a useful resource\n",
    "MDN WEb Docs, \"How the web works\" (2023) https://developer.mozilla.org/en-US/docs/Learn/Getting_started_with_the_web/How_the_Web_works\n",
    "- a Mozilla-run blog that provides an introduction to how the web works. It's aimed in particular at developer audiences.\n",
    "Pavel Panchekha and Chris Harrelson, \"Web Browser Engineering\" (2023) https://developer.mozilla.org/en-US/docs/Learn/Getting_started_with_the_web/How_the_Web_works\n",
    "- a textbook that guides software developers through the process of buildign a web browser."
   ]
  },
  {
   "cell_type": "markdown",
   "metadata": {
    "slideshow": {
     "slide_type": "slide"
    }
   },
   "source": [
    "# 2. Review: Web Scraping Basics"
   ]
  },
  {
   "cell_type": "markdown",
   "metadata": {
    "slideshow": {
     "slide_type": "slide"
    }
   },
   "source": [
    "2. Selenium\n",
    "\n"
   ]
  },
  {
   "cell_type": "markdown",
   "metadata": {
    "slideshow": {
     "slide_type": "slide"
    },
    "vscode": {
     "languageId": "plaintext"
    }
   },
   "source": [
    "# 5. Additional Resources\n",
    "Links to resources (both internal Brookings resources and publicly available ones) that will provide additional context/training."
   ]
  },
  {
   "cell_type": "markdown",
   "metadata": {
    "slideshow": {
     "slide_type": "notes"
    }
   },
   "source": [
    "Note to self: Make the slides some sort of table that easily indicate which resources are internal and which aren't"
   ]
  },
  {
   "cell_type": "markdown",
   "metadata": {
    "slideshow": {
     "slide_type": "subslide"
    }
   },
   "source": [
    "## If you want a light introduction to web scraping\n",
    "[DistrictDataLabs/brookings](https://github.com/DistrictDataLabs/brookings/) **Publicly available** GitHub repository presented to Brookings Data Network on March 31, 2017 which has slides and sample code. The resource is older, but the concepts are still relevant. [NOTE: I haven't tested the code, so I'm not sure if it still works]\n",
    "\n",
    "Keywords: Publicly available datasets, common data formats, RESTful APIs, HTTP requests, web scraping vs web crawling"
   ]
  },
  {
   "cell_type": "markdown",
   "metadata": {},
   "source": [
    "## If you want a more involved introduction to web scraping\n",
    "[trainingNotebook.ipynb](https://brookingsinstitution.sharepoint.com/:f:/r/sites/BrookingsDataNetwork/Shared%20Documents/Python/2017-05%20-%20Getting%20Started%20with%20Web%20Scraping?csf=1&web=1&e=d2sfux) Curtlyn Kramer's **Brookings internal** Jupyter notebook, presented to the Brookings Data Network on May 26, 2017. This is only useful if the code works, so I will have to test if the code works. If it does, then this is a helpful Jupyter notebook that walks you through the steps.\n",
    "\n",
    "Keywords: inspect element, BeautifulSoup4, "
   ]
  },
  {
   "cell_type": "markdown",
   "metadata": {
    "slideshow": {
     "slide_type": "slide"
    }
   },
   "source": [
    "## Extra material goes down here"
   ]
  },
  {
   "cell_type": "markdown",
   "metadata": {},
   "source": [
    "\n",
    "### What is a web browser?\n",
    "A web browser - like Chrome, Safari, Edge, or Firefox - is a specialized software designed to fetch and display web resources. Web resources are usually in the form of HTML documents, but can also be PDFs, images, or other documents. \n"
   ]
  }
 ],
 "metadata": {
  "language_info": {
   "name": "python"
  }
 },
 "nbformat": 4,
 "nbformat_minor": 2
}
