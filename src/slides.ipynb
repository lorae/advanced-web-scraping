{
 "cells": [
  {
   "cell_type": "markdown",
   "metadata": {
    "slideshow": {
     "slide_type": "slide"
    }
   },
   "source": [
    "# Advanced Web Scraping with Python\n",
    "\n",
    "<br>\n",
    "\n",
    "*Lorae Stojanovic*\n",
    "\n",
    "<br>\n",
    "\n",
    "Welcome - we will start shortly!"
   ]
  },
  {
   "cell_type": "markdown",
   "metadata": {
    "slideshow": {
     "slide_type": "slide"
    },
    "vscode": {
     "languageId": "plaintext"
    }
   },
   "source": [
    "# Agenda\n",
    "- Review: Web Scraping Basics\n",
    "- Selenium\n",
    "- API Scraping\n",
    "- Demo"
   ]
  },
  {
   "cell_type": "code",
   "execution_count": null,
   "metadata": {
    "slideshow": {
     "slide_type": "fragment"
    }
   },
   "outputs": [],
   "source": [
    "print(\"Hello world!\")\n",
    "print(\"Will this work?\")\n"
   ]
  }
 ],
 "metadata": {
  "language_info": {
   "name": "python"
  }
 },
 "nbformat": 4,
 "nbformat_minor": 2
}
